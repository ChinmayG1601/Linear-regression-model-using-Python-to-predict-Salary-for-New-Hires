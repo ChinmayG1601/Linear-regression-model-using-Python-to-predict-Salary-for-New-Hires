{
 "cells": [
  {
   "cell_type": "markdown",
   "id": "933f8bb0",
   "metadata": {
    "id": "933f8bb0"
   },
   "source": [
    "# **Machine Learning Final Project**"
   ]
  },
  {
   "cell_type": "markdown",
   "id": "U_u83ZzZOASv",
   "metadata": {
    "id": "U_u83ZzZOASv"
   },
   "source": [
    "## 1. problem statement?\n",
    "Create a machine learning model which will help the company **TechWorks Consulting** in determining the salary of newly hired employees using the given data."
   ]
  },
  {
   "cell_type": "markdown",
   "id": "NGcIRKZXOKIW",
   "metadata": {
    "id": "NGcIRKZXOKIW"
   },
   "source": [
    "## 2. What will be your approach to solving this task?\n",
    "\n",
    "My approach to solving this task is as follows:\n",
    "\n",
    "(A) Data Preprocessing:\n",
    "\n",
    "  - Convert the \"College\" feature into a numerical type based on the college tier.\n",
    "  - Numerically encode the \"City\" field (0 for non-metro, 1 for metro cities).\n",
    "  - Create dummy variables for the \"Tier\" and \"Role\" attributes.\n",
    "  - Conduct Exploratory Data Analysis (EDA) and address any null values.\n",
    "  - Visualize data through various graphs to identify outliers.\n",
    "  - Use percentile-based outlier detection (e.g., 99th and 1st percentiles).\n",
    "  - Handle outliers by replacing them with the mean if necessary.\n",
    "\n",
    "(B) Model Selection:\n",
    "\n",
    "   - Explore regression models suitable for predicting salary, such as Linear Regression, Ridge Regression, Lasso Regression, Decision Tree Regression Random Forest Regressor, XG Boost Regressor, and Bagging Regressor.\n",
    "   - Standardize the data for modeling purposes.\n",
    "   - Evaluate multiple models to gauge their performance.\n",
    "\n",
    "(C) Model Training and Evaluation:\n",
    "\n",
    "  - Split the data into training and testing sets.\n",
    "  - Train each model on the training data.\n",
    "  - Assess model performance using metrics like R-Squared and Mean Squared Error (MSE).\n",
    "  - Choose the model demonstrating the best performance.\n",
    "\n",
    "(D) Model Optimization:\n",
    "\n",
    "  - Optimize models using cross-validation and hyperparameter tuning.\n",
    "      - For Ridge and Lasso Regression, utilize validation curves for hyperparameter adjustment.\n",
    "      - For Decision Tree Regression, Random Forest, XGB Regressor, and Bagging Regressor, employ GridSearchCV with parameter grids for max depth, min sample split, and min sample leaf.\n",
    "\n",
    "(E) Conclusion or Result:\n",
    "\n",
    "After evaluating all models, the selection will be based on the highest R2 score and lowest MSE. The model exhibiting a high R2 score and low MSE will be considered the most optimal"
   ]
  },
  {
   "cell_type": "markdown",
   "id": "NEOrywqOOX5O",
   "metadata": {
    "id": "NEOrywqOOX5O"
   },
   "source": [
    "## **3. What were the available ML model options you had to perform this task?**\n",
    "\n",
    "For predicting employee salaries, we considered various regression models:\n",
    "\n",
    "For predicting employee salaries, we considered a range of regression models. Each model offers unique characteristics and advantages for different scenarios:\n",
    "\n",
    "1. **Simple Linear Regression:**\n",
    "   - Suitable when there's a straightforward, linear relationship between one feature and salary.\n",
    "\n",
    "2. **Multiple Linear Regression:**\n",
    "   - Useful when multiple features influence salary, allowing for more complex relationships to be considered.\n",
    "\n",
    "3. **Ridge Regression:**\n",
    "   - Prevents overfitting by adding a penalty term, making it ideal for handling multicollinearity among features.\n",
    "\n",
    "4. **Lasso Regression:**\n",
    "   - Combats overfitting and aids feature selection by encouraging some features to have zero influence on salary prediction.\n",
    "\n",
    "5. **Decision Tree Regression:**\n",
    "   - A non-linear model that captures complex relationships when the salary prediction is not linear.\n",
    "\n",
    "6. **Random Forest Regressor:**\n",
    "   - An ensemble learning model that combines multiple decision trees to improve predictive performance.\n",
    "\n",
    "7. **XG Boost Regressor:**\n",
    "   - A gradient boosting model known for its high predictive power and computational efficiency.\n",
    "\n",
    "8. **Bagging Regressor:**\n",
    "   - Utilizes Bootstrap Aggregating to create an ensemble of multiple decision tree regressors for enhanced prediction accuracy."
   ]
  },
  {
   "cell_type": "markdown",
   "id": "irZwhW0WOtUm",
   "metadata": {
    "id": "irZwhW0WOtUm"
   },
   "source": [
    "## 4. Which model’s performance is best and what could be the possible reason for that?\n",
    "\n",
    "I evaluated several regression models to predict the target variable\n",
    "\n",
    "\n",
    "- Based on the results, the Random Forest Regressor with the hyperparameters (max_depth=30, n_estimators=300) is the best performer for predicting the target variable.\n",
    "\n",
    "\n",
    "\n",
    "**Random Forest Regressor:**\n",
    "- Best Hyperparameters: RandomForestRegressor(max_depth=30, n_estimators=300)\n",
    "- R-squared (R^2) - Train: 0.9493, Test: 0.6590\n",
    "- Mean Squared Error (MSE) - Train: 8154715.2179, Test: 50597423.3677"
   ]
  },
  {
   "cell_type": "markdown",
   "id": "696e2975",
   "metadata": {
    "id": "696e2975"
   },
   "source": [
    "\n",
    "## 5. What steps can you take to improve this selected model’s performance even further?\n",
    "\n",
    "To further enhance the performance of the selected model, I took the following steps:\n",
    "\n",
    "1. **Validation Curve for Ridge and Lasso Regression:**\n",
    "    - For Ridge regression, I used a validation curve to explore different values of alpha. This helped me identify the optimal alpha value that balances bias and variance effectively.\n",
    "    - The best alpha for Ridge regression was found to be approximately 10.72.\n",
    "    \n",
    "    - For Lasso regression, a similar validation curve was employed to determine the best alpha. The optimal alpha for Lasso regression was approximately 86.97.\n",
    "    \n",
    "    - These optimal alpha values are crucial for regularizing the model and preventing overfitting.\n",
    "\n",
    "2. **GridSearchCV for Tree Regression:**\n",
    "    - To further improve the performance of the Decision Tree Regression model, I utilized GridSearchCV. This technique systematically searches through a range of hyperparameters to find the best combination that optimizes model performance.\n",
    "    - The best hyperparameters for the Decision Tree Regression model were identified as follows:\n",
    "        - 'max_depth': 4\n",
    "        - 'min_samples_leaf': 1\n",
    "        - 'min_samples_split': 5\n",
    "    - Random Forest Regressor achieved the best hyperparameters with a max depth of 30 and 300 estimators.\n",
    "     - XG Boost Regressor was optimized with a learning rate of 0.1, max depth of 4, and 100 estimators.\n",
    "      - Bagging Regressor was configured with 100 decision tree estimators.\n",
    "          \n",
    "By performing these steps, I have fine-tuned the model and optimized its hyperparameters to increase its efficiency and accuracy in making predictions.\n",
    "\n",
    "\n"
   ]
  },
  {
   "cell_type": "markdown",
   "id": "2e0687b0",
   "metadata": {
    "id": "2e0687b0"
   },
   "source": [
    "# Execute the Machine Learning Models"
   ]
  },
  {
   "cell_type": "markdown",
   "id": "b19f3ef6",
   "metadata": {
    "id": "b19f3ef6"
   },
   "source": [
    "### Data Preprocessing"
   ]
  },
  {
   "cell_type": "code",
   "execution_count": 1,
   "id": "db38d483",
   "metadata": {
    "executionInfo": {
     "elapsed": 1597,
     "status": "ok",
     "timestamp": 1714485945104,
     "user": {
      "displayName": "Shon G",
      "userId": "09069163652793577279"
     },
     "user_tz": -330
    },
    "id": "db38d483"
   },
   "outputs": [],
   "source": [
    "# Importing necessary libraries\n",
    "\n",
    "import numpy as np\n",
    "import pandas as pd\n",
    "import seaborn as sns\n",
    "import matplotlib.pyplot as plt"
   ]
  },
  {
   "cell_type": "code",
   "execution_count": 2,
   "id": "iieDC4kcBG8Z",
   "metadata": {
    "colab": {
     "base_uri": "https://localhost:8080/"
    },
    "executionInfo": {
     "elapsed": 27709,
     "status": "ok",
     "timestamp": 1714485972808,
     "user": {
      "displayName": "Shon G",
      "userId": "09069163652793577279"
     },
     "user_tz": -330
    },
    "id": "iieDC4kcBG8Z",
    "outputId": "6350a344-b192-409e-ee62-cc564b5a9b3d"
   },
   "outputs": [
    {
     "name": "stdout",
     "output_type": "stream",
     "text": [
      "Mounted at /content/drive\n"
     ]
    }
   ],
   "source": [
    "from google.colab import drive\n",
    "drive.mount('/content/drive')"
   ]
  },
  {
   "cell_type": "code",
   "execution_count": 3,
   "id": "da575e24",
   "metadata": {
    "colab": {
     "base_uri": "https://localhost:8080/"
    },
    "executionInfo": {
     "elapsed": 6344,
     "status": "ok",
     "timestamp": 1714485979134,
     "user": {
      "displayName": "Shon G",
      "userId": "09069163652793577279"
     },
     "user_tz": -330
    },
    "id": "da575e24",
    "outputId": "1640c3bd-dc65-4502-d5b8-2304c28222d5"
   },
   "outputs": [
    {
     "name": "stdout",
     "output_type": "stream",
     "text": [
      "Drive already mounted at /content/drive; to attempt to forcibly remount, call drive.mount(\"/content/drive\", force_remount=True).\n"
     ]
    }
   ],
   "source": [
    "from google.colab import drive\n",
    "drive.mount('/content/drive')\n",
    "# Read the data from a CSV file named 'ML case Study.csv' and store it in a dataframe named 'df'.\n",
    "main = \"/content/drive/MyDrive/ML project/final project datsets/ML case Study.csv\"\n",
    "df = pd.read_csv(main)\n",
    "\n",
    "\n",
    "# Read data from a CSV file named 'Colleges.csv' and store it in a dataframe named 'college_data_df'.\n",
    "clg_csv = \"/content/drive/MyDrive/ML project/final project datsets/Colleges.csv\"\n",
    "college_data_df = pd.read_csv(clg_csv)\n",
    "\n",
    "# Read data from a CSV file named 'cities.csv' and store it in a dataframe named 'city_data_df'.\n",
    "city_csv = \"/content/drive/MyDrive/ML project/final project datsets/cities.csv\"\n",
    "city_data_df = pd.read_csv(city_csv)"
   ]
  },
  {
   "cell_type": "code",
   "execution_count": 4,
   "id": "c0fbf95d",
   "metadata": {
    "executionInfo": {
     "elapsed": 34,
     "status": "ok",
     "timestamp": 1714485979139,
     "user": {
      "displayName": "Shon G",
      "userId": "09069163652793577279"
     },
     "user_tz": -330
    },
    "id": "c0fbf95d"
   },
   "outputs": [],
   "source": [
    "# Function to assign tier labels to colleges based on 'college_data_df'.\n",
    "\n",
    "def assign_tier(row):\n",
    "     # If 'College' is in 'Tier 1', assign 'Tier 1'\n",
    "    if row['College'] in college_data_df['Tier 1'].values:\n",
    "        return 'Tier 1'\n",
    "    # If 'College' is in 'Tier 2', assign 'Tier 2'\n",
    "    elif row['College'] in college_data_df['Tier 2'].values:\n",
    "        return 'Tier 2'\n",
    "    # If 'College' is in 'Tier 3', assign 'Tier 3'\n",
    "    elif row['College'] in college_data_df['Tier 3'].values:\n",
    "        return 'Tier 3'\n",
    "    # If not found in any tier, assign 'Unknown'\n",
    "    else:\n",
    "        return 'Unknown'"
   ]
  },
  {
   "cell_type": "code",
   "execution_count": 5,
   "id": "029f4e09",
   "metadata": {
    "executionInfo": {
     "elapsed": 30,
     "status": "ok",
     "timestamp": 1714485979140,
     "user": {
      "displayName": "Shon G",
      "userId": "09069163652793577279"
     },
     "user_tz": -330
    },
    "id": "029f4e09"
   },
   "outputs": [],
   "source": [
    "# Function to assign a city type (metro or non-metro) based on 'city_data_df'.\n",
    "\n",
    "def assign_city(row):\n",
    "    if row['City'] in city_data_df['Metrio City'].values:\n",
    "        return 1\n",
    "    elif row['City'] in city_data_df['non-metro cities'].values:\n",
    "        return 0\n",
    "    else:\n",
    "        return 'unknown'\n"
   ]
  },
  {
   "cell_type": "code",
   "execution_count": 6,
   "id": "331ab319",
   "metadata": {
    "executionInfo": {
     "elapsed": 28,
     "status": "ok",
     "timestamp": 1714485979141,
     "user": {
      "displayName": "Shon G",
      "userId": "09069163652793577279"
     },
     "user_tz": -330
    },
    "id": "331ab319"
   },
   "outputs": [],
   "source": [
    "# Apply 'assign_city' function to create a 'metro_city' column in the 'df' dataframe.\n",
    "df['metro_city'] = df.apply(assign_city, axis=1)\n",
    "\n",
    "# Apply 'assign_tier' function to create a 'Tier' column in the 'df' dataframe.\n",
    "df['Tier'] = df.apply(assign_tier, axis=1)"
   ]
  },
  {
   "cell_type": "code",
   "execution_count": 7,
   "id": "64ac852c",
   "metadata": {
    "colab": {
     "base_uri": "https://localhost:8080/",
     "height": 424
    },
    "executionInfo": {
     "elapsed": 1014,
     "status": "ok",
     "timestamp": 1714485980130,
     "user": {
      "displayName": "Shon G",
      "userId": "09069163652793577279"
     },
     "user_tz": -330
    },
    "id": "64ac852c",
    "outputId": "80328904-a1c9-450b-867b-ed6b0805c74d"
   },
   "outputs": [
    {
     "data": {
      "application/vnd.google.colaboratory.intrinsic+json": {
       "summary": "{\n  \"name\": \"df\",\n  \"rows\": 1589,\n  \"fields\": [\n    {\n      \"column\": \"College\",\n      \"properties\": {\n        \"dtype\": \"category\",\n        \"num_unique_values\": 66,\n        \"samples\": [\n          \"BITS Pilani (Goa Campus)\",\n          \"IIIT Lucknow\",\n          \"SVNIT Surat\"\n        ],\n        \"semantic_type\": \"\",\n        \"description\": \"\"\n      }\n    },\n    {\n      \"column\": \"City\",\n      \"properties\": {\n        \"dtype\": \"category\",\n        \"num_unique_values\": 15,\n        \"samples\": [\n          \"Pune\",\n          \"Hyderabad\",\n          \"Asansol\"\n        ],\n        \"semantic_type\": \"\",\n        \"description\": \"\"\n      }\n    },\n    {\n      \"column\": \"Role\",\n      \"properties\": {\n        \"dtype\": \"category\",\n        \"num_unique_values\": 2,\n        \"samples\": [\n          \"Executive\",\n          \"Manager\"\n        ],\n        \"semantic_type\": \"\",\n        \"description\": \"\"\n      }\n    },\n    {\n      \"column\": \"Previous CTC\",\n      \"properties\": {\n        \"dtype\": \"number\",\n        \"std\": 6655.218445065719,\n        \"min\": 36990.0,\n        \"max\": 77911.0,\n        \"num_unique_values\": 1307,\n        \"samples\": [\n          49743.0,\n          62532.0\n        ],\n        \"semantic_type\": \"\",\n        \"description\": \"\"\n      }\n    },\n    {\n      \"column\": \"Previous job change\",\n      \"properties\": {\n        \"dtype\": \"number\",\n        \"std\": 1,\n        \"min\": 1,\n        \"max\": 4,\n        \"num_unique_values\": 4,\n        \"samples\": [\n          1,\n          4\n        ],\n        \"semantic_type\": \"\",\n        \"description\": \"\"\n      }\n    },\n    {\n      \"column\": \"Graduation Marks\",\n      \"properties\": {\n        \"dtype\": \"number\",\n        \"std\": 14,\n        \"min\": 35,\n        \"max\": 85,\n        \"num_unique_values\": 51,\n        \"samples\": [\n          67,\n          70\n        ],\n        \"semantic_type\": \"\",\n        \"description\": \"\"\n      }\n    },\n    {\n      \"column\": \"EXP (Month)\",\n      \"properties\": {\n        \"dtype\": \"number\",\n        \"std\": 14,\n        \"min\": 18,\n        \"max\": 64,\n        \"num_unique_values\": 47,\n        \"samples\": [\n          21,\n          45\n        ],\n        \"semantic_type\": \"\",\n        \"description\": \"\"\n      }\n    },\n    {\n      \"column\": \"CTC\",\n      \"properties\": {\n        \"dtype\": \"number\",\n        \"std\": 12587.28823745061,\n        \"min\": 53020.32,\n        \"max\": 123416.99,\n        \"num_unique_values\": 1338,\n        \"samples\": [\n          69720.35,\n          64010.16\n        ],\n        \"semantic_type\": \"\",\n        \"description\": \"\"\n      }\n    },\n    {\n      \"column\": \"metro_city\",\n      \"properties\": {\n        \"dtype\": \"number\",\n        \"std\": 0,\n        \"min\": 0,\n        \"max\": 1,\n        \"num_unique_values\": 2,\n        \"samples\": [\n          1,\n          0\n        ],\n        \"semantic_type\": \"\",\n        \"description\": \"\"\n      }\n    },\n    {\n      \"column\": \"Tier\",\n      \"properties\": {\n        \"dtype\": \"category\",\n        \"num_unique_values\": 3,\n        \"samples\": [\n          \"Tier 2\",\n          \"Tier 3\"\n        ],\n        \"semantic_type\": \"\",\n        \"description\": \"\"\n      }\n    }\n  ]\n}",
       "type": "dataframe",
       "variable_name": "df"
      },
      "text/html": [
       "\n",
       "  <div id=\"df-8e15ef17-2cf7-432b-8746-5dadbe954388\" class=\"colab-df-container\">\n",
       "    <div>\n",
       "<style scoped>\n",
       "    .dataframe tbody tr th:only-of-type {\n",
       "        vertical-align: middle;\n",
       "    }\n",
       "\n",
       "    .dataframe tbody tr th {\n",
       "        vertical-align: top;\n",
       "    }\n",
       "\n",
       "    .dataframe thead th {\n",
       "        text-align: right;\n",
       "    }\n",
       "</style>\n",
       "<table border=\"1\" class=\"dataframe\">\n",
       "  <thead>\n",
       "    <tr style=\"text-align: right;\">\n",
       "      <th></th>\n",
       "      <th>College</th>\n",
       "      <th>City</th>\n",
       "      <th>Role</th>\n",
       "      <th>Previous CTC</th>\n",
       "      <th>Previous job change</th>\n",
       "      <th>Graduation Marks</th>\n",
       "      <th>EXP (Month)</th>\n",
       "      <th>CTC</th>\n",
       "      <th>metro_city</th>\n",
       "      <th>Tier</th>\n",
       "    </tr>\n",
       "  </thead>\n",
       "  <tbody>\n",
       "    <tr>\n",
       "      <th>0</th>\n",
       "      <td>SVNIT Surat</td>\n",
       "      <td>Asansol</td>\n",
       "      <td>Manager</td>\n",
       "      <td>55523.0</td>\n",
       "      <td>3</td>\n",
       "      <td>66</td>\n",
       "      <td>19</td>\n",
       "      <td>71406.58</td>\n",
       "      <td>0</td>\n",
       "      <td>Tier 2</td>\n",
       "    </tr>\n",
       "    <tr>\n",
       "      <th>1</th>\n",
       "      <td>NIT Bhopal</td>\n",
       "      <td>Ajmer</td>\n",
       "      <td>Executive</td>\n",
       "      <td>57081.0</td>\n",
       "      <td>1</td>\n",
       "      <td>84</td>\n",
       "      <td>18</td>\n",
       "      <td>68005.87</td>\n",
       "      <td>0</td>\n",
       "      <td>Tier 2</td>\n",
       "    </tr>\n",
       "    <tr>\n",
       "      <th>2</th>\n",
       "      <td>IEM, Kolkata</td>\n",
       "      <td>Rajpur Sonarpur</td>\n",
       "      <td>Executive</td>\n",
       "      <td>60347.0</td>\n",
       "      <td>2</td>\n",
       "      <td>52</td>\n",
       "      <td>28</td>\n",
       "      <td>76764.02</td>\n",
       "      <td>0</td>\n",
       "      <td>Tier 3</td>\n",
       "    </tr>\n",
       "    <tr>\n",
       "      <th>3</th>\n",
       "      <td>KIIT, Bhubaneswar</td>\n",
       "      <td>Ajmer</td>\n",
       "      <td>Executive</td>\n",
       "      <td>49010.0</td>\n",
       "      <td>2</td>\n",
       "      <td>81</td>\n",
       "      <td>33</td>\n",
       "      <td>82092.39</td>\n",
       "      <td>0</td>\n",
       "      <td>Tier 3</td>\n",
       "    </tr>\n",
       "    <tr>\n",
       "      <th>4</th>\n",
       "      <td>DTU</td>\n",
       "      <td>Durgapur</td>\n",
       "      <td>Executive</td>\n",
       "      <td>57879.0</td>\n",
       "      <td>4</td>\n",
       "      <td>74</td>\n",
       "      <td>32</td>\n",
       "      <td>73878.10</td>\n",
       "      <td>0</td>\n",
       "      <td>Tier 1</td>\n",
       "    </tr>\n",
       "    <tr>\n",
       "      <th>...</th>\n",
       "      <td>...</td>\n",
       "      <td>...</td>\n",
       "      <td>...</td>\n",
       "      <td>...</td>\n",
       "      <td>...</td>\n",
       "      <td>...</td>\n",
       "      <td>...</td>\n",
       "      <td>...</td>\n",
       "      <td>...</td>\n",
       "      <td>...</td>\n",
       "    </tr>\n",
       "    <tr>\n",
       "      <th>1584</th>\n",
       "      <td>BITS Pilani (Goa Campus)</td>\n",
       "      <td>Surat</td>\n",
       "      <td>Executive</td>\n",
       "      <td>61285.0</td>\n",
       "      <td>3</td>\n",
       "      <td>44</td>\n",
       "      <td>60</td>\n",
       "      <td>77283.59</td>\n",
       "      <td>1</td>\n",
       "      <td>Tier 1</td>\n",
       "    </tr>\n",
       "    <tr>\n",
       "      <th>1585</th>\n",
       "      <td>NIT Warangal</td>\n",
       "      <td>Rajpur Sonarpur</td>\n",
       "      <td>Executive</td>\n",
       "      <td>63140.0</td>\n",
       "      <td>1</td>\n",
       "      <td>44</td>\n",
       "      <td>24</td>\n",
       "      <td>68416.86</td>\n",
       "      <td>0</td>\n",
       "      <td>Tier 1</td>\n",
       "    </tr>\n",
       "    <tr>\n",
       "      <th>1586</th>\n",
       "      <td>NIT Tiruchipally (Trichy)</td>\n",
       "      <td>Ahmedabad</td>\n",
       "      <td>Executive</td>\n",
       "      <td>44907.0</td>\n",
       "      <td>1</td>\n",
       "      <td>60</td>\n",
       "      <td>19</td>\n",
       "      <td>70186.19</td>\n",
       "      <td>1</td>\n",
       "      <td>Tier 1</td>\n",
       "    </tr>\n",
       "    <tr>\n",
       "      <th>1587</th>\n",
       "      <td>IIIT Hyderabad</td>\n",
       "      <td>Durgapur</td>\n",
       "      <td>Executive</td>\n",
       "      <td>52054.0</td>\n",
       "      <td>2</td>\n",
       "      <td>67</td>\n",
       "      <td>29</td>\n",
       "      <td>73394.09</td>\n",
       "      <td>0</td>\n",
       "      <td>Tier 1</td>\n",
       "    </tr>\n",
       "    <tr>\n",
       "      <th>1588</th>\n",
       "      <td>R.V. College of Engineering</td>\n",
       "      <td>Delhi</td>\n",
       "      <td>Manager</td>\n",
       "      <td>44353.0</td>\n",
       "      <td>3</td>\n",
       "      <td>75</td>\n",
       "      <td>18</td>\n",
       "      <td>70056.31</td>\n",
       "      <td>1</td>\n",
       "      <td>Tier 2</td>\n",
       "    </tr>\n",
       "  </tbody>\n",
       "</table>\n",
       "<p>1589 rows × 10 columns</p>\n",
       "</div>\n",
       "    <div class=\"colab-df-buttons\">\n",
       "\n",
       "  <div class=\"colab-df-container\">\n",
       "    <button class=\"colab-df-convert\" onclick=\"convertToInteractive('df-8e15ef17-2cf7-432b-8746-5dadbe954388')\"\n",
       "            title=\"Convert this dataframe to an interactive table.\"\n",
       "            style=\"display:none;\">\n",
       "\n",
       "  <svg xmlns=\"http://www.w3.org/2000/svg\" height=\"24px\" viewBox=\"0 -960 960 960\">\n",
       "    <path d=\"M120-120v-720h720v720H120Zm60-500h600v-160H180v160Zm220 220h160v-160H400v160Zm0 220h160v-160H400v160ZM180-400h160v-160H180v160Zm440 0h160v-160H620v160ZM180-180h160v-160H180v160Zm440 0h160v-160H620v160Z\"/>\n",
       "  </svg>\n",
       "    </button>\n",
       "\n",
       "  <style>\n",
       "    .colab-df-container {\n",
       "      display:flex;\n",
       "      gap: 12px;\n",
       "    }\n",
       "\n",
       "    .colab-df-convert {\n",
       "      background-color: #E8F0FE;\n",
       "      border: none;\n",
       "      border-radius: 50%;\n",
       "      cursor: pointer;\n",
       "      display: none;\n",
       "      fill: #1967D2;\n",
       "      height: 32px;\n",
       "      padding: 0 0 0 0;\n",
       "      width: 32px;\n",
       "    }\n",
       "\n",
       "    .colab-df-convert:hover {\n",
       "      background-color: #E2EBFA;\n",
       "      box-shadow: 0px 1px 2px rgba(60, 64, 67, 0.3), 0px 1px 3px 1px rgba(60, 64, 67, 0.15);\n",
       "      fill: #174EA6;\n",
       "    }\n",
       "\n",
       "    .colab-df-buttons div {\n",
       "      margin-bottom: 4px;\n",
       "    }\n",
       "\n",
       "    [theme=dark] .colab-df-convert {\n",
       "      background-color: #3B4455;\n",
       "      fill: #D2E3FC;\n",
       "    }\n",
       "\n",
       "    [theme=dark] .colab-df-convert:hover {\n",
       "      background-color: #434B5C;\n",
       "      box-shadow: 0px 1px 3px 1px rgba(0, 0, 0, 0.15);\n",
       "      filter: drop-shadow(0px 1px 2px rgba(0, 0, 0, 0.3));\n",
       "      fill: #FFFFFF;\n",
       "    }\n",
       "  </style>\n",
       "\n",
       "    <script>\n",
       "      const buttonEl =\n",
       "        document.querySelector('#df-8e15ef17-2cf7-432b-8746-5dadbe954388 button.colab-df-convert');\n",
       "      buttonEl.style.display =\n",
       "        google.colab.kernel.accessAllowed ? 'block' : 'none';\n",
       "\n",
       "      async function convertToInteractive(key) {\n",
       "        const element = document.querySelector('#df-8e15ef17-2cf7-432b-8746-5dadbe954388');\n",
       "        const dataTable =\n",
       "          await google.colab.kernel.invokeFunction('convertToInteractive',\n",
       "                                                    [key], {});\n",
       "        if (!dataTable) return;\n",
       "\n",
       "        const docLinkHtml = 'Like what you see? Visit the ' +\n",
       "          '<a target=\"_blank\" href=https://colab.research.google.com/notebooks/data_table.ipynb>data table notebook</a>'\n",
       "          + ' to learn more about interactive tables.';\n",
       "        element.innerHTML = '';\n",
       "        dataTable['output_type'] = 'display_data';\n",
       "        await google.colab.output.renderOutput(dataTable, element);\n",
       "        const docLink = document.createElement('div');\n",
       "        docLink.innerHTML = docLinkHtml;\n",
       "        element.appendChild(docLink);\n",
       "      }\n",
       "    </script>\n",
       "  </div>\n",
       "\n",
       "\n",
       "<div id=\"df-a22b3005-fcfc-4bca-86b5-b5b239a8846e\">\n",
       "  <button class=\"colab-df-quickchart\" onclick=\"quickchart('df-a22b3005-fcfc-4bca-86b5-b5b239a8846e')\"\n",
       "            title=\"Suggest charts\"\n",
       "            style=\"display:none;\">\n",
       "\n",
       "<svg xmlns=\"http://www.w3.org/2000/svg\" height=\"24px\"viewBox=\"0 0 24 24\"\n",
       "     width=\"24px\">\n",
       "    <g>\n",
       "        <path d=\"M19 3H5c-1.1 0-2 .9-2 2v14c0 1.1.9 2 2 2h14c1.1 0 2-.9 2-2V5c0-1.1-.9-2-2-2zM9 17H7v-7h2v7zm4 0h-2V7h2v10zm4 0h-2v-4h2v4z\"/>\n",
       "    </g>\n",
       "</svg>\n",
       "  </button>\n",
       "\n",
       "<style>\n",
       "  .colab-df-quickchart {\n",
       "      --bg-color: #E8F0FE;\n",
       "      --fill-color: #1967D2;\n",
       "      --hover-bg-color: #E2EBFA;\n",
       "      --hover-fill-color: #174EA6;\n",
       "      --disabled-fill-color: #AAA;\n",
       "      --disabled-bg-color: #DDD;\n",
       "  }\n",
       "\n",
       "  [theme=dark] .colab-df-quickchart {\n",
       "      --bg-color: #3B4455;\n",
       "      --fill-color: #D2E3FC;\n",
       "      --hover-bg-color: #434B5C;\n",
       "      --hover-fill-color: #FFFFFF;\n",
       "      --disabled-bg-color: #3B4455;\n",
       "      --disabled-fill-color: #666;\n",
       "  }\n",
       "\n",
       "  .colab-df-quickchart {\n",
       "    background-color: var(--bg-color);\n",
       "    border: none;\n",
       "    border-radius: 50%;\n",
       "    cursor: pointer;\n",
       "    display: none;\n",
       "    fill: var(--fill-color);\n",
       "    height: 32px;\n",
       "    padding: 0;\n",
       "    width: 32px;\n",
       "  }\n",
       "\n",
       "  .colab-df-quickchart:hover {\n",
       "    background-color: var(--hover-bg-color);\n",
       "    box-shadow: 0 1px 2px rgba(60, 64, 67, 0.3), 0 1px 3px 1px rgba(60, 64, 67, 0.15);\n",
       "    fill: var(--button-hover-fill-color);\n",
       "  }\n",
       "\n",
       "  .colab-df-quickchart-complete:disabled,\n",
       "  .colab-df-quickchart-complete:disabled:hover {\n",
       "    background-color: var(--disabled-bg-color);\n",
       "    fill: var(--disabled-fill-color);\n",
       "    box-shadow: none;\n",
       "  }\n",
       "\n",
       "  .colab-df-spinner {\n",
       "    border: 2px solid var(--fill-color);\n",
       "    border-color: transparent;\n",
       "    border-bottom-color: var(--fill-color);\n",
       "    animation:\n",
       "      spin 1s steps(1) infinite;\n",
       "  }\n",
       "\n",
       "  @keyframes spin {\n",
       "    0% {\n",
       "      border-color: transparent;\n",
       "      border-bottom-color: var(--fill-color);\n",
       "      border-left-color: var(--fill-color);\n",
       "    }\n",
       "    20% {\n",
       "      border-color: transparent;\n",
       "      border-left-color: var(--fill-color);\n",
       "      border-top-color: var(--fill-color);\n",
       "    }\n",
       "    30% {\n",
       "      border-color: transparent;\n",
       "      border-left-color: var(--fill-color);\n",
       "      border-top-color: var(--fill-color);\n",
       "      border-right-color: var(--fill-color);\n",
       "    }\n",
       "    40% {\n",
       "      border-color: transparent;\n",
       "      border-right-color: var(--fill-color);\n",
       "      border-top-color: var(--fill-color);\n",
       "    }\n",
       "    60% {\n",
       "      border-color: transparent;\n",
       "      border-right-color: var(--fill-color);\n",
       "    }\n",
       "    80% {\n",
       "      border-color: transparent;\n",
       "      border-right-color: var(--fill-color);\n",
       "      border-bottom-color: var(--fill-color);\n",
       "    }\n",
       "    90% {\n",
       "      border-color: transparent;\n",
       "      border-bottom-color: var(--fill-color);\n",
       "    }\n",
       "  }\n",
       "</style>\n",
       "\n",
       "  <script>\n",
       "    async function quickchart(key) {\n",
       "      const quickchartButtonEl =\n",
       "        document.querySelector('#' + key + ' button');\n",
       "      quickchartButtonEl.disabled = true;  // To prevent multiple clicks.\n",
       "      quickchartButtonEl.classList.add('colab-df-spinner');\n",
       "      try {\n",
       "        const charts = await google.colab.kernel.invokeFunction(\n",
       "            'suggestCharts', [key], {});\n",
       "      } catch (error) {\n",
       "        console.error('Error during call to suggestCharts:', error);\n",
       "      }\n",
       "      quickchartButtonEl.classList.remove('colab-df-spinner');\n",
       "      quickchartButtonEl.classList.add('colab-df-quickchart-complete');\n",
       "    }\n",
       "    (() => {\n",
       "      let quickchartButtonEl =\n",
       "        document.querySelector('#df-a22b3005-fcfc-4bca-86b5-b5b239a8846e button');\n",
       "      quickchartButtonEl.style.display =\n",
       "        google.colab.kernel.accessAllowed ? 'block' : 'none';\n",
       "    })();\n",
       "  </script>\n",
       "</div>\n",
       "\n",
       "  <div id=\"id_a082a580-a771-4872-b1f4-6680ed9145d7\">\n",
       "    <style>\n",
       "      .colab-df-generate {\n",
       "        background-color: #E8F0FE;\n",
       "        border: none;\n",
       "        border-radius: 50%;\n",
       "        cursor: pointer;\n",
       "        display: none;\n",
       "        fill: #1967D2;\n",
       "        height: 32px;\n",
       "        padding: 0 0 0 0;\n",
       "        width: 32px;\n",
       "      }\n",
       "\n",
       "      .colab-df-generate:hover {\n",
       "        background-color: #E2EBFA;\n",
       "        box-shadow: 0px 1px 2px rgba(60, 64, 67, 0.3), 0px 1px 3px 1px rgba(60, 64, 67, 0.15);\n",
       "        fill: #174EA6;\n",
       "      }\n",
       "\n",
       "      [theme=dark] .colab-df-generate {\n",
       "        background-color: #3B4455;\n",
       "        fill: #D2E3FC;\n",
       "      }\n",
       "\n",
       "      [theme=dark] .colab-df-generate:hover {\n",
       "        background-color: #434B5C;\n",
       "        box-shadow: 0px 1px 3px 1px rgba(0, 0, 0, 0.15);\n",
       "        filter: drop-shadow(0px 1px 2px rgba(0, 0, 0, 0.3));\n",
       "        fill: #FFFFFF;\n",
       "      }\n",
       "    </style>\n",
       "    <button class=\"colab-df-generate\" onclick=\"generateWithVariable('df')\"\n",
       "            title=\"Generate code using this dataframe.\"\n",
       "            style=\"display:none;\">\n",
       "\n",
       "  <svg xmlns=\"http://www.w3.org/2000/svg\" height=\"24px\"viewBox=\"0 0 24 24\"\n",
       "       width=\"24px\">\n",
       "    <path d=\"M7,19H8.4L18.45,9,17,7.55,7,17.6ZM5,21V16.75L18.45,3.32a2,2,0,0,1,2.83,0l1.4,1.43a1.91,1.91,0,0,1,.58,1.4,1.91,1.91,0,0,1-.58,1.4L9.25,21ZM18.45,9,17,7.55Zm-12,3A5.31,5.31,0,0,0,4.9,8.1,5.31,5.31,0,0,0,1,6.5,5.31,5.31,0,0,0,4.9,4.9,5.31,5.31,0,0,0,6.5,1,5.31,5.31,0,0,0,8.1,4.9,5.31,5.31,0,0,0,12,6.5,5.46,5.46,0,0,0,6.5,12Z\"/>\n",
       "  </svg>\n",
       "    </button>\n",
       "    <script>\n",
       "      (() => {\n",
       "      const buttonEl =\n",
       "        document.querySelector('#id_a082a580-a771-4872-b1f4-6680ed9145d7 button.colab-df-generate');\n",
       "      buttonEl.style.display =\n",
       "        google.colab.kernel.accessAllowed ? 'block' : 'none';\n",
       "\n",
       "      buttonEl.onclick = () => {\n",
       "        google.colab.notebook.generateWithVariable('df');\n",
       "      }\n",
       "      })();\n",
       "    </script>\n",
       "  </div>\n",
       "\n",
       "    </div>\n",
       "  </div>\n"
      ],
      "text/plain": [
       "                          College             City       Role  Previous CTC  \\\n",
       "0                     SVNIT Surat          Asansol    Manager       55523.0   \n",
       "1                      NIT Bhopal            Ajmer  Executive       57081.0   \n",
       "2                    IEM, Kolkata  Rajpur Sonarpur  Executive       60347.0   \n",
       "3               KIIT, Bhubaneswar            Ajmer  Executive       49010.0   \n",
       "4                             DTU         Durgapur  Executive       57879.0   \n",
       "...                           ...              ...        ...           ...   \n",
       "1584     BITS Pilani (Goa Campus)            Surat  Executive       61285.0   \n",
       "1585                 NIT Warangal  Rajpur Sonarpur  Executive       63140.0   \n",
       "1586    NIT Tiruchipally (Trichy)        Ahmedabad  Executive       44907.0   \n",
       "1587               IIIT Hyderabad         Durgapur  Executive       52054.0   \n",
       "1588  R.V. College of Engineering            Delhi    Manager       44353.0   \n",
       "\n",
       "      Previous job change  Graduation Marks  EXP (Month)       CTC  \\\n",
       "0                       3                66           19  71406.58   \n",
       "1                       1                84           18  68005.87   \n",
       "2                       2                52           28  76764.02   \n",
       "3                       2                81           33  82092.39   \n",
       "4                       4                74           32  73878.10   \n",
       "...                   ...               ...          ...       ...   \n",
       "1584                    3                44           60  77283.59   \n",
       "1585                    1                44           24  68416.86   \n",
       "1586                    1                60           19  70186.19   \n",
       "1587                    2                67           29  73394.09   \n",
       "1588                    3                75           18  70056.31   \n",
       "\n",
       "      metro_city    Tier  \n",
       "0              0  Tier 2  \n",
       "1              0  Tier 2  \n",
       "2              0  Tier 3  \n",
       "3              0  Tier 3  \n",
       "4              0  Tier 1  \n",
       "...          ...     ...  \n",
       "1584           1  Tier 1  \n",
       "1585           0  Tier 1  \n",
       "1586           1  Tier 1  \n",
       "1587           0  Tier 1  \n",
       "1588           1  Tier 2  \n",
       "\n",
       "[1589 rows x 10 columns]"
      ]
     },
     "execution_count": 7,
     "metadata": {},
     "output_type": "execute_result"
    }
   ],
   "source": [
    "df"
   ]
  },
  {
   "cell_type": "markdown",
   "id": "fedc5d2b",
   "metadata": {
    "id": "fedc5d2b"
   },
   "source": [
    "### Create Dummy variables"
   ]
  },
  {
   "cell_type": "code",
   "execution_count": 8,
   "id": "36d2d134",
   "metadata": {
    "executionInfo": {
     "elapsed": 70,
     "status": "ok",
     "timestamp": 1714485980130,
     "user": {
      "displayName": "Shon G",
      "userId": "09069163652793577279"
     },
     "user_tz": -330
    },
    "id": "36d2d134"
   },
   "outputs": [],
   "source": [
    "#Create Dummies variable for 'Tier' and 'Role' columns\n",
    "df = pd.get_dummies(df, columns = ['Tier', 'Role'])\n",
    "\n",
    "#Rename the tier columns to remove the 'Tier_' prefix\n",
    "df = df.rename(columns={'Tier_Tier 1': 'Tier_1'})\n",
    "df = df.rename(columns={'Tier_Tier 2': 'Tier_2'})\n",
    "df = df.rename(columns={'Tier_Tier 3': 'Tier_3'})"
   ]
  },
  {
   "cell_type": "code",
   "execution_count": 9,
   "id": "e21f1fdb",
   "metadata": {
    "executionInfo": {
     "elapsed": 67,
     "status": "ok",
     "timestamp": 1714485980130,
     "user": {
      "displayName": "Shon G",
      "userId": "09069163652793577279"
     },
     "user_tz": -330
    },
    "id": "e21f1fdb"
   },
   "outputs": [],
   "source": [
    "# deleting unnecessary columns\n",
    "\n",
    "del df['College']\n",
    "del df['City']\n"
   ]
  },
  {
   "cell_type": "code",
   "execution_count": 10,
   "id": "4dcdd549",
   "metadata": {
    "executionInfo": {
     "elapsed": 64,
     "status": "ok",
     "timestamp": 1714485980131,
     "user": {
      "displayName": "Shon G",
      "userId": "09069163652793577279"
     },
     "user_tz": -330
    },
    "id": "4dcdd549"
   },
   "outputs": [],
   "source": [
    "# Convert boolean columns to integer (0 or 1) in the 'df' dataframe.\n",
    "\n",
    "for column in df.select_dtypes(include=['bool']):\n",
    "    df[column] = df[column].astype(int)\n"
   ]
  },
  {
   "cell_type": "markdown",
   "id": "441aa31f",
   "metadata": {
    "id": "441aa31f"
   },
   "source": [
    "### EDD Analysis"
   ]
  },
  {
   "cell_type": "code",
   "execution_count": 11,
   "id": "93510e42",
   "metadata": {
    "colab": {
     "base_uri": "https://localhost:8080/"
    },
    "executionInfo": {
     "elapsed": 63,
     "status": "ok",
     "timestamp": 1714485980133,
     "user": {
      "displayName": "Shon G",
      "userId": "09069163652793577279"
     },
     "user_tz": -330
    },
    "id": "93510e42",
    "outputId": "5b6aae2c-4dd9-403c-bbe5-1ac41f7f6055"
   },
   "outputs": [
    {
     "name": "stdout",
     "output_type": "stream",
     "text": [
      "<class 'pandas.core.frame.DataFrame'>\n",
      "RangeIndex: 1589 entries, 0 to 1588\n",
      "Data columns (total 11 columns):\n",
      " #   Column               Non-Null Count  Dtype  \n",
      "---  ------               --------------  -----  \n",
      " 0   Previous CTC         1589 non-null   float64\n",
      " 1   Previous job change  1589 non-null   int64  \n",
      " 2   Graduation Marks     1589 non-null   int64  \n",
      " 3   EXP (Month)          1589 non-null   int64  \n",
      " 4   CTC                  1589 non-null   float64\n",
      " 5   metro_city           1589 non-null   int64  \n",
      " 6   Tier_1               1589 non-null   int64  \n",
      " 7   Tier_2               1589 non-null   int64  \n",
      " 8   Tier_3               1589 non-null   int64  \n",
      " 9   Role_Executive       1589 non-null   int64  \n",
      " 10  Role_Manager         1589 non-null   int64  \n",
      "dtypes: float64(2), int64(9)\n",
      "memory usage: 136.7 KB\n"
     ]
    }
   ],
   "source": [
    "df.info()"
   ]
  },
  {
   "cell_type": "code",
   "execution_count": 12,
   "id": "49df2366",
   "metadata": {
    "colab": {
     "base_uri": "https://localhost:8080/"
    },
    "executionInfo": {
     "elapsed": 54,
     "status": "ok",
     "timestamp": 1714485980133,
     "user": {
      "displayName": "Shon G",
      "userId": "09069163652793577279"
     },
     "user_tz": -330
    },
    "id": "49df2366",
    "outputId": "fcebda1b-8e9d-4ad6-b223-38ccece945b4"
   },
   "outputs": [
    {
     "data": {
      "text/plain": [
       "(1589, 11)"
      ]
     },
     "execution_count": 12,
     "metadata": {},
     "output_type": "execute_result"
    }
   ],
   "source": [
    "df.shape"
   ]
  },
  {
   "cell_type": "code",
   "execution_count": 13,
   "id": "c806de29",
   "metadata": {
    "colab": {
     "base_uri": "https://localhost:8080/",
     "height": 300
    },
    "executionInfo": {
     "elapsed": 41,
     "status": "ok",
     "timestamp": 1714485980134,
     "user": {
      "displayName": "Shon G",
      "userId": "09069163652793577279"
     },
     "user_tz": -330
    },
    "id": "c806de29",
    "outputId": "ac7306f3-c75e-4051-802d-5df97f61ea78"
   },
   "outputs": [
    {
     "data": {
      "application/vnd.google.colaboratory.intrinsic+json": {
       "summary": "{\n  \"name\": \"df\",\n  \"rows\": 8,\n  \"fields\": [\n    {\n      \"column\": \"Previous CTC\",\n      \"properties\": {\n        \"dtype\": \"number\",\n        \"std\": 26585.947860831344,\n        \"min\": 1589.0,\n        \"max\": 77911.0,\n        \"num_unique_values\": 8,\n        \"samples\": [\n          55518.45374449339,\n          55291.0,\n          1589.0\n        ],\n        \"semantic_type\": \"\",\n        \"description\": \"\"\n      }\n    },\n    {\n      \"column\": \"Previous job change\",\n      \"properties\": {\n        \"dtype\": \"number\",\n        \"std\": 560.9059132103883,\n        \"min\": 1.0,\n        \"max\": 1589.0,\n        \"num_unique_values\": 7,\n        \"samples\": [\n          1589.0,\n          2.5286343612334803,\n          3.0\n        ],\n        \"semantic_type\": \"\",\n        \"description\": \"\"\n      }\n    },\n    {\n      \"column\": \"Graduation Marks\",\n      \"properties\": {\n        \"dtype\": \"number\",\n        \"std\": 543.3564265047012,\n        \"min\": 14.935139127045003,\n        \"max\": 1589.0,\n        \"num_unique_values\": 8,\n        \"samples\": [\n          59.85525487728131,\n          60.0,\n          1589.0\n        ],\n        \"semantic_type\": \"\",\n        \"description\": \"\"\n      }\n    },\n    {\n      \"column\": \"EXP (Month)\",\n      \"properties\": {\n        \"dtype\": \"number\",\n        \"std\": 549.3622157222962,\n        \"min\": 14.10887468276335,\n        \"max\": 1589.0,\n        \"num_unique_values\": 8,\n        \"samples\": [\n          39.04468219005664,\n          39.0,\n          1589.0\n        ],\n        \"semantic_type\": \"\",\n        \"description\": \"\"\n      }\n    },\n    {\n      \"column\": \"CTC\",\n      \"properties\": {\n        \"dtype\": \"number\",\n        \"std\": 38917.47027265689,\n        \"min\": 1589.0,\n        \"max\": 123416.99,\n        \"num_unique_values\": 8,\n        \"samples\": [\n          75353.27879798615,\n          73028.67,\n          1589.0\n        ],\n        \"semantic_type\": \"\",\n        \"description\": \"\"\n      }\n    },\n    {\n      \"column\": \"metro_city\",\n      \"properties\": {\n        \"dtype\": \"number\",\n        \"std\": 561.5937483545358,\n        \"min\": 0.0,\n        \"max\": 1589.0,\n        \"num_unique_values\": 5,\n        \"samples\": [\n          0.514159848961611,\n          1.0,\n          0.4999568012814549\n        ],\n        \"semantic_type\": \"\",\n        \"description\": \"\"\n      }\n    },\n    {\n      \"column\": \"Tier_1\",\n      \"properties\": {\n        \"dtype\": \"number\",\n        \"std\": 561.6527980260441,\n        \"min\": 0.0,\n        \"max\": 1589.0,\n        \"num_unique_values\": 5,\n        \"samples\": [\n          0.36375078665827565,\n          1.0,\n          0.4812295632165064\n        ],\n        \"semantic_type\": \"\",\n        \"description\": \"\"\n      }\n    },\n    {\n      \"column\": \"Tier_2\",\n      \"properties\": {\n        \"dtype\": \"number\",\n        \"std\": 561.6573868452939,\n        \"min\": 0.0,\n        \"max\": 1589.0,\n        \"num_unique_values\": 5,\n        \"samples\": [\n          0.2970421648835746,\n          1.0,\n          0.4570991231915834\n        ],\n        \"semantic_type\": \"\",\n        \"description\": \"\"\n      }\n    },\n    {\n      \"column\": \"Tier_3\",\n      \"properties\": {\n        \"dtype\": \"number\",\n        \"std\": 561.654423751998,\n        \"min\": 0.0,\n        \"max\": 1589.0,\n        \"num_unique_values\": 5,\n        \"samples\": [\n          0.3392070484581498,\n          1.0,\n          0.47358924858305407\n        ],\n        \"semantic_type\": \"\",\n        \"description\": \"\"\n      }\n    },\n    {\n      \"column\": \"Role_Executive\",\n      \"properties\": {\n        \"dtype\": \"number\",\n        \"std\": 561.5338953241146,\n        \"min\": 0.0,\n        \"max\": 1589.0,\n        \"num_unique_values\": 5,\n        \"samples\": [\n          0.7935808684707363,\n          1.0,\n          0.4048622342873462\n        ],\n        \"semantic_type\": \"\",\n        \"description\": \"\"\n      }\n    },\n    {\n      \"column\": \"Role_Manager\",\n      \"properties\": {\n        \"dtype\": \"number\",\n        \"std\": 561.7150619144984,\n        \"min\": 0.0,\n        \"max\": 1589.0,\n        \"num_unique_values\": 5,\n        \"samples\": [\n          0.2064191315292637,\n          1.0,\n          0.4048622342873462\n        ],\n        \"semantic_type\": \"\",\n        \"description\": \"\"\n      }\n    }\n  ]\n}",
       "type": "dataframe"
      },
      "text/html": [
       "\n",
       "  <div id=\"df-2149af49-aca8-4c0a-b3b1-dc6075cca67d\" class=\"colab-df-container\">\n",
       "    <div>\n",
       "<style scoped>\n",
       "    .dataframe tbody tr th:only-of-type {\n",
       "        vertical-align: middle;\n",
       "    }\n",
       "\n",
       "    .dataframe tbody tr th {\n",
       "        vertical-align: top;\n",
       "    }\n",
       "\n",
       "    .dataframe thead th {\n",
       "        text-align: right;\n",
       "    }\n",
       "</style>\n",
       "<table border=\"1\" class=\"dataframe\">\n",
       "  <thead>\n",
       "    <tr style=\"text-align: right;\">\n",
       "      <th></th>\n",
       "      <th>Previous CTC</th>\n",
       "      <th>Previous job change</th>\n",
       "      <th>Graduation Marks</th>\n",
       "      <th>EXP (Month)</th>\n",
       "      <th>CTC</th>\n",
       "      <th>metro_city</th>\n",
       "      <th>Tier_1</th>\n",
       "      <th>Tier_2</th>\n",
       "      <th>Tier_3</th>\n",
       "      <th>Role_Executive</th>\n",
       "      <th>Role_Manager</th>\n",
       "    </tr>\n",
       "  </thead>\n",
       "  <tbody>\n",
       "    <tr>\n",
       "      <th>count</th>\n",
       "      <td>1589.000000</td>\n",
       "      <td>1589.000000</td>\n",
       "      <td>1589.000000</td>\n",
       "      <td>1589.000000</td>\n",
       "      <td>1589.000000</td>\n",
       "      <td>1589.000000</td>\n",
       "      <td>1589.000000</td>\n",
       "      <td>1589.000000</td>\n",
       "      <td>1589.000000</td>\n",
       "      <td>1589.000000</td>\n",
       "      <td>1589.000000</td>\n",
       "    </tr>\n",
       "    <tr>\n",
       "      <th>mean</th>\n",
       "      <td>55518.453744</td>\n",
       "      <td>2.528634</td>\n",
       "      <td>59.855255</td>\n",
       "      <td>39.044682</td>\n",
       "      <td>75353.278798</td>\n",
       "      <td>0.514160</td>\n",
       "      <td>0.363751</td>\n",
       "      <td>0.297042</td>\n",
       "      <td>0.339207</td>\n",
       "      <td>0.793581</td>\n",
       "      <td>0.206419</td>\n",
       "    </tr>\n",
       "    <tr>\n",
       "      <th>std</th>\n",
       "      <td>6655.218445</td>\n",
       "      <td>1.123918</td>\n",
       "      <td>14.935139</td>\n",
       "      <td>14.108875</td>\n",
       "      <td>12587.288237</td>\n",
       "      <td>0.499957</td>\n",
       "      <td>0.481230</td>\n",
       "      <td>0.457099</td>\n",
       "      <td>0.473589</td>\n",
       "      <td>0.404862</td>\n",
       "      <td>0.404862</td>\n",
       "    </tr>\n",
       "    <tr>\n",
       "      <th>min</th>\n",
       "      <td>36990.000000</td>\n",
       "      <td>1.000000</td>\n",
       "      <td>35.000000</td>\n",
       "      <td>18.000000</td>\n",
       "      <td>53020.320000</td>\n",
       "      <td>0.000000</td>\n",
       "      <td>0.000000</td>\n",
       "      <td>0.000000</td>\n",
       "      <td>0.000000</td>\n",
       "      <td>0.000000</td>\n",
       "      <td>0.000000</td>\n",
       "    </tr>\n",
       "    <tr>\n",
       "      <th>25%</th>\n",
       "      <td>50518.000000</td>\n",
       "      <td>2.000000</td>\n",
       "      <td>46.000000</td>\n",
       "      <td>26.000000</td>\n",
       "      <td>66902.350000</td>\n",
       "      <td>0.000000</td>\n",
       "      <td>0.000000</td>\n",
       "      <td>0.000000</td>\n",
       "      <td>0.000000</td>\n",
       "      <td>1.000000</td>\n",
       "      <td>0.000000</td>\n",
       "    </tr>\n",
       "    <tr>\n",
       "      <th>50%</th>\n",
       "      <td>55291.000000</td>\n",
       "      <td>3.000000</td>\n",
       "      <td>60.000000</td>\n",
       "      <td>39.000000</td>\n",
       "      <td>73028.670000</td>\n",
       "      <td>1.000000</td>\n",
       "      <td>0.000000</td>\n",
       "      <td>0.000000</td>\n",
       "      <td>0.000000</td>\n",
       "      <td>1.000000</td>\n",
       "      <td>0.000000</td>\n",
       "    </tr>\n",
       "    <tr>\n",
       "      <th>75%</th>\n",
       "      <td>60109.000000</td>\n",
       "      <td>4.000000</td>\n",
       "      <td>73.000000</td>\n",
       "      <td>51.000000</td>\n",
       "      <td>80588.670000</td>\n",
       "      <td>1.000000</td>\n",
       "      <td>1.000000</td>\n",
       "      <td>1.000000</td>\n",
       "      <td>1.000000</td>\n",
       "      <td>1.000000</td>\n",
       "      <td>0.000000</td>\n",
       "    </tr>\n",
       "    <tr>\n",
       "      <th>max</th>\n",
       "      <td>77911.000000</td>\n",
       "      <td>4.000000</td>\n",
       "      <td>85.000000</td>\n",
       "      <td>64.000000</td>\n",
       "      <td>123416.990000</td>\n",
       "      <td>1.000000</td>\n",
       "      <td>1.000000</td>\n",
       "      <td>1.000000</td>\n",
       "      <td>1.000000</td>\n",
       "      <td>1.000000</td>\n",
       "      <td>1.000000</td>\n",
       "    </tr>\n",
       "  </tbody>\n",
       "</table>\n",
       "</div>\n",
       "    <div class=\"colab-df-buttons\">\n",
       "\n",
       "  <div class=\"colab-df-container\">\n",
       "    <button class=\"colab-df-convert\" onclick=\"convertToInteractive('df-2149af49-aca8-4c0a-b3b1-dc6075cca67d')\"\n",
       "            title=\"Convert this dataframe to an interactive table.\"\n",
       "            style=\"display:none;\">\n",
       "\n",
       "  <svg xmlns=\"http://www.w3.org/2000/svg\" height=\"24px\" viewBox=\"0 -960 960 960\">\n",
       "    <path d=\"M120-120v-720h720v720H120Zm60-500h600v-160H180v160Zm220 220h160v-160H400v160Zm0 220h160v-160H400v160ZM180-400h160v-160H180v160Zm440 0h160v-160H620v160ZM180-180h160v-160H180v160Zm440 0h160v-160H620v160Z\"/>\n",
       "  </svg>\n",
       "    </button>\n",
       "\n",
       "  <style>\n",
       "    .colab-df-container {\n",
       "      display:flex;\n",
       "      gap: 12px;\n",
       "    }\n",
       "\n",
       "    .colab-df-convert {\n",
       "      background-color: #E8F0FE;\n",
       "      border: none;\n",
       "      border-radius: 50%;\n",
       "      cursor: pointer;\n",
       "      display: none;\n",
       "      fill: #1967D2;\n",
       "      height: 32px;\n",
       "      padding: 0 0 0 0;\n",
       "      width: 32px;\n",
       "    }\n",
       "\n",
       "    .colab-df-convert:hover {\n",
       "      background-color: #E2EBFA;\n",
       "      box-shadow: 0px 1px 2px rgba(60, 64, 67, 0.3), 0px 1px 3px 1px rgba(60, 64, 67, 0.15);\n",
       "      fill: #174EA6;\n",
       "    }\n",
       "\n",
       "    .colab-df-buttons div {\n",
       "      margin-bottom: 4px;\n",
       "    }\n",
       "\n",
       "    [theme=dark] .colab-df-convert {\n",
       "      background-color: #3B4455;\n",
       "      fill: #D2E3FC;\n",
       "    }\n",
       "\n",
       "    [theme=dark] .colab-df-convert:hover {\n",
       "      background-color: #434B5C;\n",
       "      box-shadow: 0px 1px 3px 1px rgba(0, 0, 0, 0.15);\n",
       "      filter: drop-shadow(0px 1px 2px rgba(0, 0, 0, 0.3));\n",
       "      fill: #FFFFFF;\n",
       "    }\n",
       "  </style>\n",
       "\n",
       "    <script>\n",
       "      const buttonEl =\n",
       "        document.querySelector('#df-2149af49-aca8-4c0a-b3b1-dc6075cca67d button.colab-df-convert');\n",
       "      buttonEl.style.display =\n",
       "        google.colab.kernel.accessAllowed ? 'block' : 'none';\n",
       "\n",
       "      async function convertToInteractive(key) {\n",
       "        const element = document.querySelector('#df-2149af49-aca8-4c0a-b3b1-dc6075cca67d');\n",
       "        const dataTable =\n",
       "          await google.colab.kernel.invokeFunction('convertToInteractive',\n",
       "                                                    [key], {});\n",
       "        if (!dataTable) return;\n",
       "\n",
       "        const docLinkHtml = 'Like what you see? Visit the ' +\n",
       "          '<a target=\"_blank\" href=https://colab.research.google.com/notebooks/data_table.ipynb>data table notebook</a>'\n",
       "          + ' to learn more about interactive tables.';\n",
       "        element.innerHTML = '';\n",
       "        dataTable['output_type'] = 'display_data';\n",
       "        await google.colab.output.renderOutput(dataTable, element);\n",
       "        const docLink = document.createElement('div');\n",
       "        docLink.innerHTML = docLinkHtml;\n",
       "        element.appendChild(docLink);\n",
       "      }\n",
       "    </script>\n",
       "  </div>\n",
       "\n",
       "\n",
       "<div id=\"df-765db9e0-0cca-4b0c-9d92-c32e4bd17d77\">\n",
       "  <button class=\"colab-df-quickchart\" onclick=\"quickchart('df-765db9e0-0cca-4b0c-9d92-c32e4bd17d77')\"\n",
       "            title=\"Suggest charts\"\n",
       "            style=\"display:none;\">\n",
       "\n",
       "<svg xmlns=\"http://www.w3.org/2000/svg\" height=\"24px\"viewBox=\"0 0 24 24\"\n",
       "     width=\"24px\">\n",
       "    <g>\n",
       "        <path d=\"M19 3H5c-1.1 0-2 .9-2 2v14c0 1.1.9 2 2 2h14c1.1 0 2-.9 2-2V5c0-1.1-.9-2-2-2zM9 17H7v-7h2v7zm4 0h-2V7h2v10zm4 0h-2v-4h2v4z\"/>\n",
       "    </g>\n",
       "</svg>\n",
       "  </button>\n",
       "\n",
       "<style>\n",
       "  .colab-df-quickchart {\n",
       "      --bg-color: #E8F0FE;\n",
       "      --fill-color: #1967D2;\n",
       "      --hover-bg-color: #E2EBFA;\n",
       "      --hover-fill-color: #174EA6;\n",
       "      --disabled-fill-color: #AAA;\n",
       "      --disabled-bg-color: #DDD;\n",
       "  }\n",
       "\n",
       "  [theme=dark] .colab-df-quickchart {\n",
       "      --bg-color: #3B4455;\n",
       "      --fill-color: #D2E3FC;\n",
       "      --hover-bg-color: #434B5C;\n",
       "      --hover-fill-color: #FFFFFF;\n",
       "      --disabled-bg-color: #3B4455;\n",
       "      --disabled-fill-color: #666;\n",
       "  }\n",
       "\n",
       "  .colab-df-quickchart {\n",
       "    background-color: var(--bg-color);\n",
       "    border: none;\n",
       "    border-radius: 50%;\n",
       "    cursor: pointer;\n",
       "    display: none;\n",
       "    fill: var(--fill-color);\n",
       "    height: 32px;\n",
       "    padding: 0;\n",
       "    width: 32px;\n",
       "  }\n",
       "\n",
       "  .colab-df-quickchart:hover {\n",
       "    background-color: var(--hover-bg-color);\n",
       "    box-shadow: 0 1px 2px rgba(60, 64, 67, 0.3), 0 1px 3px 1px rgba(60, 64, 67, 0.15);\n",
       "    fill: var(--button-hover-fill-color);\n",
       "  }\n",
       "\n",
       "  .colab-df-quickchart-complete:disabled,\n",
       "  .colab-df-quickchart-complete:disabled:hover {\n",
       "    background-color: var(--disabled-bg-color);\n",
       "    fill: var(--disabled-fill-color);\n",
       "    box-shadow: none;\n",
       "  }\n",
       "\n",
       "  .colab-df-spinner {\n",
       "    border: 2px solid var(--fill-color);\n",
       "    border-color: transparent;\n",
       "    border-bottom-color: var(--fill-color);\n",
       "    animation:\n",
       "      spin 1s steps(1) infinite;\n",
       "  }\n",
       "\n",
       "  @keyframes spin {\n",
       "    0% {\n",
       "      border-color: transparent;\n",
       "      border-bottom-color: var(--fill-color);\n",
       "      border-left-color: var(--fill-color);\n",
       "    }\n",
       "    20% {\n",
       "      border-color: transparent;\n",
       "      border-left-color: var(--fill-color);\n",
       "      border-top-color: var(--fill-color);\n",
       "    }\n",
       "    30% {\n",
       "      border-color: transparent;\n",
       "      border-left-color: var(--fill-color);\n",
       "      border-top-color: var(--fill-color);\n",
       "      border-right-color: var(--fill-color);\n",
       "    }\n",
       "    40% {\n",
       "      border-color: transparent;\n",
       "      border-right-color: var(--fill-color);\n",
       "      border-top-color: var(--fill-color);\n",
       "    }\n",
       "    60% {\n",
       "      border-color: transparent;\n",
       "      border-right-color: var(--fill-color);\n",
       "    }\n",
       "    80% {\n",
       "      border-color: transparent;\n",
       "      border-right-color: var(--fill-color);\n",
       "      border-bottom-color: var(--fill-color);\n",
       "    }\n",
       "    90% {\n",
       "      border-color: transparent;\n",
       "      border-bottom-color: var(--fill-color);\n",
       "    }\n",
       "  }\n",
       "</style>\n",
       "\n",
       "  <script>\n",
       "    async function quickchart(key) {\n",
       "      const quickchartButtonEl =\n",
       "        document.querySelector('#' + key + ' button');\n",
       "      quickchartButtonEl.disabled = true;  // To prevent multiple clicks.\n",
       "      quickchartButtonEl.classList.add('colab-df-spinner');\n",
       "      try {\n",
       "        const charts = await google.colab.kernel.invokeFunction(\n",
       "            'suggestCharts', [key], {});\n",
       "      } catch (error) {\n",
       "        console.error('Error during call to suggestCharts:', error);\n",
       "      }\n",
       "      quickchartButtonEl.classList.remove('colab-df-spinner');\n",
       "      quickchartButtonEl.classList.add('colab-df-quickchart-complete');\n",
       "    }\n",
       "    (() => {\n",
       "      let quickchartButtonEl =\n",
       "        document.querySelector('#df-765db9e0-0cca-4b0c-9d92-c32e4bd17d77 button');\n",
       "      quickchartButtonEl.style.display =\n",
       "        google.colab.kernel.accessAllowed ? 'block' : 'none';\n",
       "    })();\n",
       "  </script>\n",
       "</div>\n",
       "\n",
       "    </div>\n",
       "  </div>\n"
      ],
      "text/plain": [
       "       Previous CTC  Previous job change  Graduation Marks  EXP (Month)  \\\n",
       "count   1589.000000          1589.000000       1589.000000  1589.000000   \n",
       "mean   55518.453744             2.528634         59.855255    39.044682   \n",
       "std     6655.218445             1.123918         14.935139    14.108875   \n",
       "min    36990.000000             1.000000         35.000000    18.000000   \n",
       "25%    50518.000000             2.000000         46.000000    26.000000   \n",
       "50%    55291.000000             3.000000         60.000000    39.000000   \n",
       "75%    60109.000000             4.000000         73.000000    51.000000   \n",
       "max    77911.000000             4.000000         85.000000    64.000000   \n",
       "\n",
       "                 CTC   metro_city       Tier_1       Tier_2       Tier_3  \\\n",
       "count    1589.000000  1589.000000  1589.000000  1589.000000  1589.000000   \n",
       "mean    75353.278798     0.514160     0.363751     0.297042     0.339207   \n",
       "std     12587.288237     0.499957     0.481230     0.457099     0.473589   \n",
       "min     53020.320000     0.000000     0.000000     0.000000     0.000000   \n",
       "25%     66902.350000     0.000000     0.000000     0.000000     0.000000   \n",
       "50%     73028.670000     1.000000     0.000000     0.000000     0.000000   \n",
       "75%     80588.670000     1.000000     1.000000     1.000000     1.000000   \n",
       "max    123416.990000     1.000000     1.000000     1.000000     1.000000   \n",
       "\n",
       "       Role_Executive  Role_Manager  \n",
       "count     1589.000000   1589.000000  \n",
       "mean         0.793581      0.206419  \n",
       "std          0.404862      0.404862  \n",
       "min          0.000000      0.000000  \n",
       "25%          1.000000      0.000000  \n",
       "50%          1.000000      0.000000  \n",
       "75%          1.000000      0.000000  \n",
       "max          1.000000      1.000000  "
      ]
     },
     "execution_count": 13,
     "metadata": {},
     "output_type": "execute_result"
    }
   ],
   "source": [
    "df.describe()"
   ]
  },
  {
   "cell_type": "code",
   "execution_count": 14,
   "id": "01c771bd",
   "metadata": {
    "colab": {
     "base_uri": "https://localhost:8080/",
     "height": 206
    },
    "executionInfo": {
     "elapsed": 37,
     "status": "ok",
     "timestamp": 1714485980135,
     "user": {
      "displayName": "Shon G",
      "userId": "09069163652793577279"
     },
     "user_tz": -330
    },
    "id": "01c771bd",
    "outputId": "1c94d44b-94a6-433f-e4c1-1eeb5d7a8d72"
   },
   "outputs": [
    {
     "data": {
      "application/vnd.google.colaboratory.intrinsic+json": {
       "summary": "{\n  \"name\": \"df\",\n  \"rows\": 1589,\n  \"fields\": [\n    {\n      \"column\": \"Previous CTC\",\n      \"properties\": {\n        \"dtype\": \"number\",\n        \"std\": 6655.218445065719,\n        \"min\": 36990.0,\n        \"max\": 77911.0,\n        \"num_unique_values\": 1307,\n        \"samples\": [\n          49743.0,\n          62532.0,\n          46380.0\n        ],\n        \"semantic_type\": \"\",\n        \"description\": \"\"\n      }\n    },\n    {\n      \"column\": \"Previous job change\",\n      \"properties\": {\n        \"dtype\": \"number\",\n        \"std\": 1,\n        \"min\": 1,\n        \"max\": 4,\n        \"num_unique_values\": 4,\n        \"samples\": [\n          1,\n          4,\n          3\n        ],\n        \"semantic_type\": \"\",\n        \"description\": \"\"\n      }\n    },\n    {\n      \"column\": \"Graduation Marks\",\n      \"properties\": {\n        \"dtype\": \"number\",\n        \"std\": 14,\n        \"min\": 35,\n        \"max\": 85,\n        \"num_unique_values\": 51,\n        \"samples\": [\n          67,\n          70,\n          62\n        ],\n        \"semantic_type\": \"\",\n        \"description\": \"\"\n      }\n    },\n    {\n      \"column\": \"EXP (Month)\",\n      \"properties\": {\n        \"dtype\": \"number\",\n        \"std\": 14,\n        \"min\": 18,\n        \"max\": 64,\n        \"num_unique_values\": 47,\n        \"samples\": [\n          21,\n          45,\n          36\n        ],\n        \"semantic_type\": \"\",\n        \"description\": \"\"\n      }\n    },\n    {\n      \"column\": \"CTC\",\n      \"properties\": {\n        \"dtype\": \"number\",\n        \"std\": 12587.28823745061,\n        \"min\": 53020.32,\n        \"max\": 123416.99,\n        \"num_unique_values\": 1338,\n        \"samples\": [\n          69720.35,\n          64010.16,\n          80020.81\n        ],\n        \"semantic_type\": \"\",\n        \"description\": \"\"\n      }\n    },\n    {\n      \"column\": \"metro_city\",\n      \"properties\": {\n        \"dtype\": \"number\",\n        \"std\": 0,\n        \"min\": 0,\n        \"max\": 1,\n        \"num_unique_values\": 2,\n        \"samples\": [\n          1,\n          0\n        ],\n        \"semantic_type\": \"\",\n        \"description\": \"\"\n      }\n    },\n    {\n      \"column\": \"Tier_1\",\n      \"properties\": {\n        \"dtype\": \"number\",\n        \"std\": 0,\n        \"min\": 0,\n        \"max\": 1,\n        \"num_unique_values\": 2,\n        \"samples\": [\n          1,\n          0\n        ],\n        \"semantic_type\": \"\",\n        \"description\": \"\"\n      }\n    },\n    {\n      \"column\": \"Tier_2\",\n      \"properties\": {\n        \"dtype\": \"number\",\n        \"std\": 0,\n        \"min\": 0,\n        \"max\": 1,\n        \"num_unique_values\": 2,\n        \"samples\": [\n          0,\n          1\n        ],\n        \"semantic_type\": \"\",\n        \"description\": \"\"\n      }\n    },\n    {\n      \"column\": \"Tier_3\",\n      \"properties\": {\n        \"dtype\": \"number\",\n        \"std\": 0,\n        \"min\": 0,\n        \"max\": 1,\n        \"num_unique_values\": 2,\n        \"samples\": [\n          1,\n          0\n        ],\n        \"semantic_type\": \"\",\n        \"description\": \"\"\n      }\n    },\n    {\n      \"column\": \"Role_Executive\",\n      \"properties\": {\n        \"dtype\": \"number\",\n        \"std\": 0,\n        \"min\": 0,\n        \"max\": 1,\n        \"num_unique_values\": 2,\n        \"samples\": [\n          1,\n          0\n        ],\n        \"semantic_type\": \"\",\n        \"description\": \"\"\n      }\n    },\n    {\n      \"column\": \"Role_Manager\",\n      \"properties\": {\n        \"dtype\": \"number\",\n        \"std\": 0,\n        \"min\": 0,\n        \"max\": 1,\n        \"num_unique_values\": 2,\n        \"samples\": [\n          0,\n          1\n        ],\n        \"semantic_type\": \"\",\n        \"description\": \"\"\n      }\n    }\n  ]\n}",
       "type": "dataframe",
       "variable_name": "df"
      },
      "text/html": [
       "\n",
       "  <div id=\"df-b2b5628a-1704-43ed-9dcf-3d34f42a212a\" class=\"colab-df-container\">\n",
       "    <div>\n",
       "<style scoped>\n",
       "    .dataframe tbody tr th:only-of-type {\n",
       "        vertical-align: middle;\n",
       "    }\n",
       "\n",
       "    .dataframe tbody tr th {\n",
       "        vertical-align: top;\n",
       "    }\n",
       "\n",
       "    .dataframe thead th {\n",
       "        text-align: right;\n",
       "    }\n",
       "</style>\n",
       "<table border=\"1\" class=\"dataframe\">\n",
       "  <thead>\n",
       "    <tr style=\"text-align: right;\">\n",
       "      <th></th>\n",
       "      <th>Previous CTC</th>\n",
       "      <th>Previous job change</th>\n",
       "      <th>Graduation Marks</th>\n",
       "      <th>EXP (Month)</th>\n",
       "      <th>CTC</th>\n",
       "      <th>metro_city</th>\n",
       "      <th>Tier_1</th>\n",
       "      <th>Tier_2</th>\n",
       "      <th>Tier_3</th>\n",
       "      <th>Role_Executive</th>\n",
       "      <th>Role_Manager</th>\n",
       "    </tr>\n",
       "  </thead>\n",
       "  <tbody>\n",
       "    <tr>\n",
       "      <th>0</th>\n",
       "      <td>55523.0</td>\n",
       "      <td>3</td>\n",
       "      <td>66</td>\n",
       "      <td>19</td>\n",
       "      <td>71406.58</td>\n",
       "      <td>0</td>\n",
       "      <td>0</td>\n",
       "      <td>1</td>\n",
       "      <td>0</td>\n",
       "      <td>0</td>\n",
       "      <td>1</td>\n",
       "    </tr>\n",
       "    <tr>\n",
       "      <th>1</th>\n",
       "      <td>57081.0</td>\n",
       "      <td>1</td>\n",
       "      <td>84</td>\n",
       "      <td>18</td>\n",
       "      <td>68005.87</td>\n",
       "      <td>0</td>\n",
       "      <td>0</td>\n",
       "      <td>1</td>\n",
       "      <td>0</td>\n",
       "      <td>1</td>\n",
       "      <td>0</td>\n",
       "    </tr>\n",
       "    <tr>\n",
       "      <th>2</th>\n",
       "      <td>60347.0</td>\n",
       "      <td>2</td>\n",
       "      <td>52</td>\n",
       "      <td>28</td>\n",
       "      <td>76764.02</td>\n",
       "      <td>0</td>\n",
       "      <td>0</td>\n",
       "      <td>0</td>\n",
       "      <td>1</td>\n",
       "      <td>1</td>\n",
       "      <td>0</td>\n",
       "    </tr>\n",
       "    <tr>\n",
       "      <th>3</th>\n",
       "      <td>49010.0</td>\n",
       "      <td>2</td>\n",
       "      <td>81</td>\n",
       "      <td>33</td>\n",
       "      <td>82092.39</td>\n",
       "      <td>0</td>\n",
       "      <td>0</td>\n",
       "      <td>0</td>\n",
       "      <td>1</td>\n",
       "      <td>1</td>\n",
       "      <td>0</td>\n",
       "    </tr>\n",
       "    <tr>\n",
       "      <th>4</th>\n",
       "      <td>57879.0</td>\n",
       "      <td>4</td>\n",
       "      <td>74</td>\n",
       "      <td>32</td>\n",
       "      <td>73878.10</td>\n",
       "      <td>0</td>\n",
       "      <td>1</td>\n",
       "      <td>0</td>\n",
       "      <td>0</td>\n",
       "      <td>1</td>\n",
       "      <td>0</td>\n",
       "    </tr>\n",
       "  </tbody>\n",
       "</table>\n",
       "</div>\n",
       "    <div class=\"colab-df-buttons\">\n",
       "\n",
       "  <div class=\"colab-df-container\">\n",
       "    <button class=\"colab-df-convert\" onclick=\"convertToInteractive('df-b2b5628a-1704-43ed-9dcf-3d34f42a212a')\"\n",
       "            title=\"Convert this dataframe to an interactive table.\"\n",
       "            style=\"display:none;\">\n",
       "\n",
       "  <svg xmlns=\"http://www.w3.org/2000/svg\" height=\"24px\" viewBox=\"0 -960 960 960\">\n",
       "    <path d=\"M120-120v-720h720v720H120Zm60-500h600v-160H180v160Zm220 220h160v-160H400v160Zm0 220h160v-160H400v160ZM180-400h160v-160H180v160Zm440 0h160v-160H620v160ZM180-180h160v-160H180v160Zm440 0h160v-160H620v160Z\"/>\n",
       "  </svg>\n",
       "    </button>\n",
       "\n",
       "  <style>\n",
       "    .colab-df-container {\n",
       "      display:flex;\n",
       "      gap: 12px;\n",
       "    }\n",
       "\n",
       "    .colab-df-convert {\n",
       "      background-color: #E8F0FE;\n",
       "      border: none;\n",
       "      border-radius: 50%;\n",
       "      cursor: pointer;\n",
       "      display: none;\n",
       "      fill: #1967D2;\n",
       "      height: 32px;\n",
       "      padding: 0 0 0 0;\n",
       "      width: 32px;\n",
       "    }\n",
       "\n",
       "    .colab-df-convert:hover {\n",
       "      background-color: #E2EBFA;\n",
       "      box-shadow: 0px 1px 2px rgba(60, 64, 67, 0.3), 0px 1px 3px 1px rgba(60, 64, 67, 0.15);\n",
       "      fill: #174EA6;\n",
       "    }\n",
       "\n",
       "    .colab-df-buttons div {\n",
       "      margin-bottom: 4px;\n",
       "    }\n",
       "\n",
       "    [theme=dark] .colab-df-convert {\n",
       "      background-color: #3B4455;\n",
       "      fill: #D2E3FC;\n",
       "    }\n",
       "\n",
       "    [theme=dark] .colab-df-convert:hover {\n",
       "      background-color: #434B5C;\n",
       "      box-shadow: 0px 1px 3px 1px rgba(0, 0, 0, 0.15);\n",
       "      filter: drop-shadow(0px 1px 2px rgba(0, 0, 0, 0.3));\n",
       "      fill: #FFFFFF;\n",
       "    }\n",
       "  </style>\n",
       "\n",
       "    <script>\n",
       "      const buttonEl =\n",
       "        document.querySelector('#df-b2b5628a-1704-43ed-9dcf-3d34f42a212a button.colab-df-convert');\n",
       "      buttonEl.style.display =\n",
       "        google.colab.kernel.accessAllowed ? 'block' : 'none';\n",
       "\n",
       "      async function convertToInteractive(key) {\n",
       "        const element = document.querySelector('#df-b2b5628a-1704-43ed-9dcf-3d34f42a212a');\n",
       "        const dataTable =\n",
       "          await google.colab.kernel.invokeFunction('convertToInteractive',\n",
       "                                                    [key], {});\n",
       "        if (!dataTable) return;\n",
       "\n",
       "        const docLinkHtml = 'Like what you see? Visit the ' +\n",
       "          '<a target=\"_blank\" href=https://colab.research.google.com/notebooks/data_table.ipynb>data table notebook</a>'\n",
       "          + ' to learn more about interactive tables.';\n",
       "        element.innerHTML = '';\n",
       "        dataTable['output_type'] = 'display_data';\n",
       "        await google.colab.output.renderOutput(dataTable, element);\n",
       "        const docLink = document.createElement('div');\n",
       "        docLink.innerHTML = docLinkHtml;\n",
       "        element.appendChild(docLink);\n",
       "      }\n",
       "    </script>\n",
       "  </div>\n",
       "\n",
       "\n",
       "<div id=\"df-37041d62-42e4-46fa-9090-637623538832\">\n",
       "  <button class=\"colab-df-quickchart\" onclick=\"quickchart('df-37041d62-42e4-46fa-9090-637623538832')\"\n",
       "            title=\"Suggest charts\"\n",
       "            style=\"display:none;\">\n",
       "\n",
       "<svg xmlns=\"http://www.w3.org/2000/svg\" height=\"24px\"viewBox=\"0 0 24 24\"\n",
       "     width=\"24px\">\n",
       "    <g>\n",
       "        <path d=\"M19 3H5c-1.1 0-2 .9-2 2v14c0 1.1.9 2 2 2h14c1.1 0 2-.9 2-2V5c0-1.1-.9-2-2-2zM9 17H7v-7h2v7zm4 0h-2V7h2v10zm4 0h-2v-4h2v4z\"/>\n",
       "    </g>\n",
       "</svg>\n",
       "  </button>\n",
       "\n",
       "<style>\n",
       "  .colab-df-quickchart {\n",
       "      --bg-color: #E8F0FE;\n",
       "      --fill-color: #1967D2;\n",
       "      --hover-bg-color: #E2EBFA;\n",
       "      --hover-fill-color: #174EA6;\n",
       "      --disabled-fill-color: #AAA;\n",
       "      --disabled-bg-color: #DDD;\n",
       "  }\n",
       "\n",
       "  [theme=dark] .colab-df-quickchart {\n",
       "      --bg-color: #3B4455;\n",
       "      --fill-color: #D2E3FC;\n",
       "      --hover-bg-color: #434B5C;\n",
       "      --hover-fill-color: #FFFFFF;\n",
       "      --disabled-bg-color: #3B4455;\n",
       "      --disabled-fill-color: #666;\n",
       "  }\n",
       "\n",
       "  .colab-df-quickchart {\n",
       "    background-color: var(--bg-color);\n",
       "    border: none;\n",
       "    border-radius: 50%;\n",
       "    cursor: pointer;\n",
       "    display: none;\n",
       "    fill: var(--fill-color);\n",
       "    height: 32px;\n",
       "    padding: 0;\n",
       "    width: 32px;\n",
       "  }\n",
       "\n",
       "  .colab-df-quickchart:hover {\n",
       "    background-color: var(--hover-bg-color);\n",
       "    box-shadow: 0 1px 2px rgba(60, 64, 67, 0.3), 0 1px 3px 1px rgba(60, 64, 67, 0.15);\n",
       "    fill: var(--button-hover-fill-color);\n",
       "  }\n",
       "\n",
       "  .colab-df-quickchart-complete:disabled,\n",
       "  .colab-df-quickchart-complete:disabled:hover {\n",
       "    background-color: var(--disabled-bg-color);\n",
       "    fill: var(--disabled-fill-color);\n",
       "    box-shadow: none;\n",
       "  }\n",
       "\n",
       "  .colab-df-spinner {\n",
       "    border: 2px solid var(--fill-color);\n",
       "    border-color: transparent;\n",
       "    border-bottom-color: var(--fill-color);\n",
       "    animation:\n",
       "      spin 1s steps(1) infinite;\n",
       "  }\n",
       "\n",
       "  @keyframes spin {\n",
       "    0% {\n",
       "      border-color: transparent;\n",
       "      border-bottom-color: var(--fill-color);\n",
       "      border-left-color: var(--fill-color);\n",
       "    }\n",
       "    20% {\n",
       "      border-color: transparent;\n",
       "      border-left-color: var(--fill-color);\n",
       "      border-top-color: var(--fill-color);\n",
       "    }\n",
       "    30% {\n",
       "      border-color: transparent;\n",
       "      border-left-color: var(--fill-color);\n",
       "      border-top-color: var(--fill-color);\n",
       "      border-right-color: var(--fill-color);\n",
       "    }\n",
       "    40% {\n",
       "      border-color: transparent;\n",
       "      border-right-color: var(--fill-color);\n",
       "      border-top-color: var(--fill-color);\n",
       "    }\n",
       "    60% {\n",
       "      border-color: transparent;\n",
       "      border-right-color: var(--fill-color);\n",
       "    }\n",
       "    80% {\n",
       "      border-color: transparent;\n",
       "      border-right-color: var(--fill-color);\n",
       "      border-bottom-color: var(--fill-color);\n",
       "    }\n",
       "    90% {\n",
       "      border-color: transparent;\n",
       "      border-bottom-color: var(--fill-color);\n",
       "    }\n",
       "  }\n",
       "</style>\n",
       "\n",
       "  <script>\n",
       "    async function quickchart(key) {\n",
       "      const quickchartButtonEl =\n",
       "        document.querySelector('#' + key + ' button');\n",
       "      quickchartButtonEl.disabled = true;  // To prevent multiple clicks.\n",
       "      quickchartButtonEl.classList.add('colab-df-spinner');\n",
       "      try {\n",
       "        const charts = await google.colab.kernel.invokeFunction(\n",
       "            'suggestCharts', [key], {});\n",
       "      } catch (error) {\n",
       "        console.error('Error during call to suggestCharts:', error);\n",
       "      }\n",
       "      quickchartButtonEl.classList.remove('colab-df-spinner');\n",
       "      quickchartButtonEl.classList.add('colab-df-quickchart-complete');\n",
       "    }\n",
       "    (() => {\n",
       "      let quickchartButtonEl =\n",
       "        document.querySelector('#df-37041d62-42e4-46fa-9090-637623538832 button');\n",
       "      quickchartButtonEl.style.display =\n",
       "        google.colab.kernel.accessAllowed ? 'block' : 'none';\n",
       "    })();\n",
       "  </script>\n",
       "</div>\n",
       "\n",
       "    </div>\n",
       "  </div>\n"
      ],
      "text/plain": [
       "   Previous CTC  Previous job change  Graduation Marks  EXP (Month)       CTC  \\\n",
       "0       55523.0                    3                66           19  71406.58   \n",
       "1       57081.0                    1                84           18  68005.87   \n",
       "2       60347.0                    2                52           28  76764.02   \n",
       "3       49010.0                    2                81           33  82092.39   \n",
       "4       57879.0                    4                74           32  73878.10   \n",
       "\n",
       "   metro_city  Tier_1  Tier_2  Tier_3  Role_Executive  Role_Manager  \n",
       "0           0       0       1       0               0             1  \n",
       "1           0       0       1       0               1             0  \n",
       "2           0       0       0       1               1             0  \n",
       "3           0       0       0       1               1             0  \n",
       "4           0       1       0       0               1             0  "
      ]
     },
     "execution_count": 14,
     "metadata": {},
     "output_type": "execute_result"
    }
   ],
   "source": [
    "df.head()"
   ]
  },
  {
   "cell_type": "markdown",
   "id": "65186097",
   "metadata": {
    "id": "65186097"
   },
   "source": [
    "### Check for Null values"
   ]
  },
  {
   "cell_type": "code",
   "execution_count": 15,
   "id": "ec6d34f2",
   "metadata": {
    "colab": {
     "base_uri": "https://localhost:8080/"
    },
    "executionInfo": {
     "elapsed": 32,
     "status": "ok",
     "timestamp": 1714485980135,
     "user": {
      "displayName": "Shon G",
      "userId": "09069163652793577279"
     },
     "user_tz": -330
    },
    "id": "ec6d34f2",
    "outputId": "3107e054-b981-414b-fe9a-ad8f3d0e35d1"
   },
   "outputs": [
    {
     "name": "stdout",
     "output_type": "stream",
     "text": [
      "Series([], dtype: int64)\n"
     ]
    }
   ],
   "source": [
    "# Calculate the count of null values for each column in the 'df' DataFrame.\n",
    "null_values = df.isna().sum()\n",
    "\n",
    "# Print columns with more than 0 null values.\n",
    "print(null_values[null_values > 0])"
   ]
  },
  {
   "cell_type": "markdown",
   "id": "1c018b83",
   "metadata": {
    "id": "1c018b83"
   },
   "source": [
    "##### Note : There is no null values in this data"
   ]
  },
  {
   "cell_type": "markdown",
   "id": "aeb69e61",
   "metadata": {
    "id": "aeb69e61"
   },
   "source": [
    "## Outliers Determination and Treatment"
   ]
  },
  {
   "cell_type": "code",
   "execution_count": 87,
   "id": "05cf222c",
   "metadata": {
    "colab": {
     "base_uri": "https://localhost:8080/",
     "height": 503
    },
    "executionInfo": {
     "elapsed": 1275,
     "status": "ok",
     "timestamp": 1714487219152,
     "user": {
      "displayName": "Shon G",
      "userId": "09069163652793577279"
     },
     "user_tz": -330
    },
    "id": "05cf222c",
    "outputId": "8c332e2c-ccd1-472c-f32b-2fae619c5821"
   },
   "outputs": [
    {
     "data": {
      "image/png": "[encoded data removed]",
      "text/plain": [
       "<Figure size 1200x600 with 4 Axes>"
      ]
     },
     "metadata": {},
     "output_type": "display_data"
    }
   ],
   "source": [
    "numerical_columns = ['Previous CTC', 'Graduation Marks', 'EXP (Month)', 'CTC']\n",
    "plt.figure(figsize=(12, 6))\n",
    "plt.subplots_adjust(wspace=0.5)\n",
    "for i, col in enumerate(numerical_columns, 1):\n",
    "    plt.subplot(2, 2, i)\n",
    "    sns.boxplot(data=df, y=col)\n",
    "\n",
    "plt.show()"
   ]
  },
  {
   "cell_type": "code",
   "execution_count": 17,
   "id": "48dfaed3",
   "metadata": {
    "colab": {
     "base_uri": "https://localhost:8080/",
     "height": 466
    },
    "executionInfo": {
     "elapsed": 1548,
     "status": "ok",
     "timestamp": 1714485982578,
     "user": {
      "displayName": "Shon G",
      "userId": "09069163652793577279"
     },
     "user_tz": -330
    },
    "id": "48dfaed3",
    "outputId": "f128217d-190a-4996-9f14-75f2f1008c27"
   },
   "outputs": [
    {
     "data": {
      "text/plain": [
       "<Axes: xlabel='Previous CTC', ylabel='CTC'>"
      ]
     },
     "execution_count": 17,
     "metadata": {},
     "output_type": "execute_result"
    },
    {
     "data": {
      "image/png": "[encoded data removed]",
      "text/plain": [
       "<Figure size 640x480 with 1 Axes>"
      ]
     },
     "metadata": {},
     "output_type": "display_data"
    }
   ],
   "source": [
    "sns.scatterplot(x = df['Previous CTC'], y = df['CTC'])"
   ]
  },
  {
   "cell_type": "code",
   "execution_count": 18,
   "id": "6da24dfd",
   "metadata": {
    "colab": {
     "base_uri": "https://localhost:8080/",
     "height": 466
    },
    "executionInfo": {
     "elapsed": 1071,
     "status": "ok",
     "timestamp": 1714485983633,
     "user": {
      "displayName": "Shon G",
      "userId": "09069163652793577279"
     },
     "user_tz": -330
    },
    "id": "6da24dfd",
    "outputId": "02a7c9c6-3aaf-42ba-de12-60a1558c479d"
   },
   "outputs": [
    {
     "data": {
      "text/plain": [
       "<Axes: xlabel='Previous job change', ylabel='CTC'>"
      ]
     },
     "execution_count": 18,
     "metadata": {},
     "output_type": "execute_result"
    },
    {
     "data": {
      "image/png": "[encoded data removed]",
      "text/plain": [
       "<Figure size 640x480 with 1 Axes>"
      ]
     },
     "metadata": {},
     "output_type": "display_data"
    }
   ],
   "source": [
    "sns.scatterplot(x = 'Previous job change', y = 'CTC', data = df)"
   ]
  },
  {
   "cell_type": "code",
   "execution_count": 19,
   "id": "6d37a8f6",
   "metadata": {
    "colab": {
     "base_uri": "https://localhost:8080/",
     "height": 624
    },
    "executionInfo": {
     "elapsed": 2746,
     "status": "ok",
     "timestamp": 1714485986362,
     "user": {
      "displayName": "Shon G",
      "userId": "09069163652793577279"
     },
     "user_tz": -330
    },
    "id": "6d37a8f6",
    "outputId": "2cf4e60d-845f-4ea2-d619-ad03fce85304"
   },
   "outputs": [
    {
     "data": {
      "text/plain": [
       "<seaborn.axisgrid.JointGrid at 0x78010a925600>"
      ]
     },
     "execution_count": 19,
     "metadata": {},
     "output_type": "execute_result"
    },
    {
     "data": {
      "image/png": "[encoded data removed]",
      "text/plain": [
       "<Figure size 600x600 with 3 Axes>"
      ]
     },
     "metadata": {},
     "output_type": "display_data"
    }
   ],
   "source": [
    "sns.jointplot(x = df['Graduation Marks'], y= df['CTC'])"
   ]
  },
  {
   "cell_type": "code",
   "execution_count": 20,
   "id": "1bf1255e",
   "metadata": {
    "colab": {
     "base_uri": "https://localhost:8080/",
     "height": 673
    },
    "executionInfo": {
     "elapsed": 1208,
     "status": "ok",
     "timestamp": 1714485987526,
     "user": {
      "displayName": "Shon G",
      "userId": "09069163652793577279"
     },
     "user_tz": -330
    },
    "id": "1bf1255e",
    "outputId": "ff83d6bb-c5ad-4dbe-81cb-a09cc37a4241"
   },
   "outputs": [
    {
     "name": "stderr",
     "output_type": "stream",
     "text": [
      "<ipython-input-20-349e947f9ea1>:1: UserWarning: \n",
      "\n",
      "`distplot` is a deprecated function and will be removed in seaborn v0.14.0.\n",
      "\n",
      "Please adapt your code to use either `displot` (a figure-level function with\n",
      "similar flexibility) or `histplot` (an axes-level function for histograms).\n",
      "\n",
      "For a guide to updating your code to use the new functions, please see\n",
      "https://gist.github.com/mwaskom/de44147ed2974457ad6372750bbe5751\n",
      "\n",
      "  sns.distplot(df['CTC'])\n"
     ]
    },
    {
     "data": {
      "text/plain": [
       "<Axes: xlabel='CTC', ylabel='Density'>"
      ]
     },
     "execution_count": 20,
     "metadata": {},
     "output_type": "execute_result"
    },
    {
     "data": {
      "image/png": "[encoded data removed]",
      "text/plain": [
       "<Figure size 640x480 with 1 Axes>"
      ]
     },
     "metadata": {},
     "output_type": "display_data"
    }
   ],
   "source": [
    "sns.distplot(df['CTC'])"
   ]
  },
  {
   "cell_type": "code",
   "execution_count": 21,
   "id": "412f7bb5",
   "metadata": {
    "executionInfo": {
     "elapsed": 160,
     "status": "ok",
     "timestamp": 1714485987530,
     "user": {
      "displayName": "Shon G",
      "userId": "09069163652793577279"
     },
     "user_tz": -330
    },
    "id": "412f7bb5"
   },
   "outputs": [],
   "source": [
    "# Calculate the 99th percentile value of the 'Previous CTC' column in the 'df' DataFrame.\n",
    "\n",
    "upper_limit = np.percentile(df['Previous CTC'], [99])[0]"
   ]
  },
  {
   "cell_type": "code",
   "execution_count": 22,
   "id": "803d00f2",
   "metadata": {
    "colab": {
     "base_uri": "https://localhost:8080/"
    },
    "executionInfo": {
     "elapsed": 155,
     "status": "ok",
     "timestamp": 1714485987530,
     "user": {
      "displayName": "Shon G",
      "userId": "09069163652793577279"
     },
     "user_tz": -330
    },
    "id": "803d00f2",
    "outputId": "d6a097a6-a241-4a2c-f84e-e69751cff65d"
   },
   "outputs": [
    {
     "data": {
      "text/plain": [
       "71506.92"
      ]
     },
     "execution_count": 22,
     "metadata": {},
     "output_type": "execute_result"
    }
   ],
   "source": [
    "upper_limit"
   ]
  },
  {
   "cell_type": "code",
   "execution_count": 23,
   "id": "232146b4",
   "metadata": {
    "colab": {
     "base_uri": "https://localhost:8080/",
     "height": 551
    },
    "executionInfo": {
     "elapsed": 128,
     "status": "ok",
     "timestamp": 1714485987532,
     "user": {
      "displayName": "Shon G",
      "userId": "09069163652793577279"
     },
     "user_tz": -330
    },
    "id": "232146b4",
    "outputId": "4d4a9a11-8398-4de2-a620-15d17b14e541"
   },
   "outputs": [
    {
     "data": {
      "application/vnd.google.colaboratory.intrinsic+json": {
       "summary": "{\n  \"name\": \"#there is many values that is higher then upper limit but it is in considerable range\",\n  \"rows\": 16,\n  \"fields\": [\n    {\n      \"column\": \"Previous CTC\",\n      \"properties\": {\n        \"dtype\": \"number\",\n        \"std\": 2240.055541536117,\n        \"min\": 71543.0,\n        \"max\": 77911.0,\n        \"num_unique_values\": 15,\n        \"samples\": [\n          73214.0,\n          76815.0,\n          77911.0\n        ],\n        \"semantic_type\": \"\",\n        \"description\": \"\"\n      }\n    },\n    {\n      \"column\": \"Previous job change\",\n      \"properties\": {\n        \"dtype\": \"number\",\n        \"std\": 1,\n        \"min\": 1,\n        \"max\": 4,\n        \"num_unique_values\": 4,\n        \"samples\": [\n          4,\n          2,\n          1\n        ],\n        \"semantic_type\": \"\",\n        \"description\": \"\"\n      }\n    },\n    {\n      \"column\": \"Graduation Marks\",\n      \"properties\": {\n        \"dtype\": \"number\",\n        \"std\": 13,\n        \"min\": 40,\n        \"max\": 82,\n        \"num_unique_values\": 12,\n        \"samples\": [\n          54,\n          40,\n          50\n        ],\n        \"semantic_type\": \"\",\n        \"description\": \"\"\n      }\n    },\n    {\n      \"column\": \"EXP (Month)\",\n      \"properties\": {\n        \"dtype\": \"number\",\n        \"std\": 14,\n        \"min\": 18,\n        \"max\": 58,\n        \"num_unique_values\": 13,\n        \"samples\": [\n          27,\n          39,\n          58\n        ],\n        \"semantic_type\": \"\",\n        \"description\": \"\"\n      }\n    },\n    {\n      \"column\": \"CTC\",\n      \"properties\": {\n        \"dtype\": \"number\",\n        \"std\": 17755.712834425573,\n        \"min\": 58309.56,\n        \"max\": 121362.73,\n        \"num_unique_values\": 15,\n        \"samples\": [\n          100119.53,\n          82684.17,\n          87831.62\n        ],\n        \"semantic_type\": \"\",\n        \"description\": \"\"\n      }\n    },\n    {\n      \"column\": \"metro_city\",\n      \"properties\": {\n        \"dtype\": \"number\",\n        \"std\": 0,\n        \"min\": 0,\n        \"max\": 1,\n        \"num_unique_values\": 2,\n        \"samples\": [\n          0,\n          1\n        ],\n        \"semantic_type\": \"\",\n        \"description\": \"\"\n      }\n    },\n    {\n      \"column\": \"Tier_1\",\n      \"properties\": {\n        \"dtype\": \"number\",\n        \"std\": 0,\n        \"min\": 0,\n        \"max\": 1,\n        \"num_unique_values\": 2,\n        \"samples\": [\n          1,\n          0\n        ],\n        \"semantic_type\": \"\",\n        \"description\": \"\"\n      }\n    },\n    {\n      \"column\": \"Tier_2\",\n      \"properties\": {\n        \"dtype\": \"number\",\n        \"std\": 0,\n        \"min\": 0,\n        \"max\": 1,\n        \"num_unique_values\": 2,\n        \"samples\": [\n          1,\n          0\n        ],\n        \"semantic_type\": \"\",\n        \"description\": \"\"\n      }\n    },\n    {\n      \"column\": \"Tier_3\",\n      \"properties\": {\n        \"dtype\": \"number\",\n        \"std\": 0,\n        \"min\": 0,\n        \"max\": 1,\n        \"num_unique_values\": 2,\n        \"samples\": [\n          0,\n          1\n        ],\n        \"semantic_type\": \"\",\n        \"description\": \"\"\n      }\n    },\n    {\n      \"column\": \"Role_Executive\",\n      \"properties\": {\n        \"dtype\": \"number\",\n        \"std\": 0,\n        \"min\": 0,\n        \"max\": 1,\n        \"num_unique_values\": 2,\n        \"samples\": [\n          0,\n          1\n        ],\n        \"semantic_type\": \"\",\n        \"description\": \"\"\n      }\n    },\n    {\n      \"column\": \"Role_Manager\",\n      \"properties\": {\n        \"dtype\": \"number\",\n        \"std\": 0,\n        \"min\": 0,\n        \"max\": 1,\n        \"num_unique_values\": 2,\n        \"samples\": [\n          1,\n          0\n        ],\n        \"semantic_type\": \"\",\n        \"description\": \"\"\n      }\n    }\n  ]\n}",
       "type": "dataframe"
      },
      "text/html": [
       "\n",
       "  <div id=\"df-16939725-9c0e-4759-8e8f-eadbefae611e\" class=\"colab-df-container\">\n",
       "    <div>\n",
       "<style scoped>\n",
       "    .dataframe tbody tr th:only-of-type {\n",
       "        vertical-align: middle;\n",
       "    }\n",
       "\n",
       "    .dataframe tbody tr th {\n",
       "        vertical-align: top;\n",
       "    }\n",
       "\n",
       "    .dataframe thead th {\n",
       "        text-align: right;\n",
       "    }\n",
       "</style>\n",
       "<table border=\"1\" class=\"dataframe\">\n",
       "  <thead>\n",
       "    <tr style=\"text-align: right;\">\n",
       "      <th></th>\n",
       "      <th>Previous CTC</th>\n",
       "      <th>Previous job change</th>\n",
       "      <th>Graduation Marks</th>\n",
       "      <th>EXP (Month)</th>\n",
       "      <th>CTC</th>\n",
       "      <th>metro_city</th>\n",
       "      <th>Tier_1</th>\n",
       "      <th>Tier_2</th>\n",
       "      <th>Tier_3</th>\n",
       "      <th>Role_Executive</th>\n",
       "      <th>Role_Manager</th>\n",
       "    </tr>\n",
       "  </thead>\n",
       "  <tbody>\n",
       "    <tr>\n",
       "      <th>116</th>\n",
       "      <td>77911.0</td>\n",
       "      <td>1</td>\n",
       "      <td>50</td>\n",
       "      <td>58</td>\n",
       "      <td>87831.62</td>\n",
       "      <td>1</td>\n",
       "      <td>0</td>\n",
       "      <td>0</td>\n",
       "      <td>1</td>\n",
       "      <td>1</td>\n",
       "      <td>0</td>\n",
       "    </tr>\n",
       "    <tr>\n",
       "      <th>292</th>\n",
       "      <td>74198.0</td>\n",
       "      <td>1</td>\n",
       "      <td>57</td>\n",
       "      <td>25</td>\n",
       "      <td>99644.51</td>\n",
       "      <td>0</td>\n",
       "      <td>0</td>\n",
       "      <td>0</td>\n",
       "      <td>1</td>\n",
       "      <td>0</td>\n",
       "      <td>1</td>\n",
       "    </tr>\n",
       "    <tr>\n",
       "      <th>543</th>\n",
       "      <td>73856.0</td>\n",
       "      <td>1</td>\n",
       "      <td>75</td>\n",
       "      <td>54</td>\n",
       "      <td>121362.73</td>\n",
       "      <td>1</td>\n",
       "      <td>1</td>\n",
       "      <td>0</td>\n",
       "      <td>0</td>\n",
       "      <td>0</td>\n",
       "      <td>1</td>\n",
       "    </tr>\n",
       "    <tr>\n",
       "      <th>572</th>\n",
       "      <td>71543.0</td>\n",
       "      <td>4</td>\n",
       "      <td>82</td>\n",
       "      <td>30</td>\n",
       "      <td>61366.78</td>\n",
       "      <td>1</td>\n",
       "      <td>1</td>\n",
       "      <td>0</td>\n",
       "      <td>0</td>\n",
       "      <td>1</td>\n",
       "      <td>0</td>\n",
       "    </tr>\n",
       "    <tr>\n",
       "      <th>701</th>\n",
       "      <td>71549.0</td>\n",
       "      <td>4</td>\n",
       "      <td>47</td>\n",
       "      <td>50</td>\n",
       "      <td>83116.21</td>\n",
       "      <td>0</td>\n",
       "      <td>0</td>\n",
       "      <td>1</td>\n",
       "      <td>0</td>\n",
       "      <td>1</td>\n",
       "      <td>0</td>\n",
       "    </tr>\n",
       "    <tr>\n",
       "      <th>847</th>\n",
       "      <td>71756.0</td>\n",
       "      <td>4</td>\n",
       "      <td>67</td>\n",
       "      <td>23</td>\n",
       "      <td>72141.43</td>\n",
       "      <td>1</td>\n",
       "      <td>1</td>\n",
       "      <td>0</td>\n",
       "      <td>0</td>\n",
       "      <td>1</td>\n",
       "      <td>0</td>\n",
       "    </tr>\n",
       "    <tr>\n",
       "      <th>860</th>\n",
       "      <td>75785.0</td>\n",
       "      <td>4</td>\n",
       "      <td>63</td>\n",
       "      <td>37</td>\n",
       "      <td>110338.25</td>\n",
       "      <td>1</td>\n",
       "      <td>1</td>\n",
       "      <td>0</td>\n",
       "      <td>0</td>\n",
       "      <td>0</td>\n",
       "      <td>1</td>\n",
       "    </tr>\n",
       "    <tr>\n",
       "      <th>941</th>\n",
       "      <td>72319.0</td>\n",
       "      <td>1</td>\n",
       "      <td>51</td>\n",
       "      <td>50</td>\n",
       "      <td>63538.43</td>\n",
       "      <td>1</td>\n",
       "      <td>0</td>\n",
       "      <td>0</td>\n",
       "      <td>1</td>\n",
       "      <td>1</td>\n",
       "      <td>0</td>\n",
       "    </tr>\n",
       "    <tr>\n",
       "      <th>1024</th>\n",
       "      <td>72661.0</td>\n",
       "      <td>3</td>\n",
       "      <td>74</td>\n",
       "      <td>47</td>\n",
       "      <td>70238.70</td>\n",
       "      <td>1</td>\n",
       "      <td>1</td>\n",
       "      <td>0</td>\n",
       "      <td>0</td>\n",
       "      <td>1</td>\n",
       "      <td>0</td>\n",
       "    </tr>\n",
       "    <tr>\n",
       "      <th>1047</th>\n",
       "      <td>73214.0</td>\n",
       "      <td>4</td>\n",
       "      <td>57</td>\n",
       "      <td>22</td>\n",
       "      <td>100119.53</td>\n",
       "      <td>0</td>\n",
       "      <td>1</td>\n",
       "      <td>0</td>\n",
       "      <td>0</td>\n",
       "      <td>0</td>\n",
       "      <td>1</td>\n",
       "    </tr>\n",
       "    <tr>\n",
       "      <th>1067</th>\n",
       "      <td>71760.0</td>\n",
       "      <td>4</td>\n",
       "      <td>40</td>\n",
       "      <td>39</td>\n",
       "      <td>71187.52</td>\n",
       "      <td>0</td>\n",
       "      <td>0</td>\n",
       "      <td>0</td>\n",
       "      <td>1</td>\n",
       "      <td>1</td>\n",
       "      <td>0</td>\n",
       "    </tr>\n",
       "    <tr>\n",
       "      <th>1088</th>\n",
       "      <td>76815.0</td>\n",
       "      <td>4</td>\n",
       "      <td>75</td>\n",
       "      <td>52</td>\n",
       "      <td>82684.17</td>\n",
       "      <td>1</td>\n",
       "      <td>0</td>\n",
       "      <td>0</td>\n",
       "      <td>1</td>\n",
       "      <td>1</td>\n",
       "      <td>0</td>\n",
       "    </tr>\n",
       "    <tr>\n",
       "      <th>1131</th>\n",
       "      <td>74256.0</td>\n",
       "      <td>2</td>\n",
       "      <td>40</td>\n",
       "      <td>27</td>\n",
       "      <td>83023.18</td>\n",
       "      <td>1</td>\n",
       "      <td>0</td>\n",
       "      <td>1</td>\n",
       "      <td>0</td>\n",
       "      <td>1</td>\n",
       "      <td>0</td>\n",
       "    </tr>\n",
       "    <tr>\n",
       "      <th>1317</th>\n",
       "      <td>76070.0</td>\n",
       "      <td>2</td>\n",
       "      <td>54</td>\n",
       "      <td>18</td>\n",
       "      <td>58309.56</td>\n",
       "      <td>0</td>\n",
       "      <td>1</td>\n",
       "      <td>0</td>\n",
       "      <td>0</td>\n",
       "      <td>1</td>\n",
       "      <td>0</td>\n",
       "    </tr>\n",
       "    <tr>\n",
       "      <th>1332</th>\n",
       "      <td>72649.0</td>\n",
       "      <td>3</td>\n",
       "      <td>69</td>\n",
       "      <td>52</td>\n",
       "      <td>78861.46</td>\n",
       "      <td>1</td>\n",
       "      <td>0</td>\n",
       "      <td>0</td>\n",
       "      <td>1</td>\n",
       "      <td>1</td>\n",
       "      <td>0</td>\n",
       "    </tr>\n",
       "    <tr>\n",
       "      <th>1454</th>\n",
       "      <td>77911.0</td>\n",
       "      <td>1</td>\n",
       "      <td>50</td>\n",
       "      <td>58</td>\n",
       "      <td>87831.62</td>\n",
       "      <td>1</td>\n",
       "      <td>1</td>\n",
       "      <td>0</td>\n",
       "      <td>0</td>\n",
       "      <td>1</td>\n",
       "      <td>0</td>\n",
       "    </tr>\n",
       "  </tbody>\n",
       "</table>\n",
       "</div>\n",
       "    <div class=\"colab-df-buttons\">\n",
       "\n",
       "  <div class=\"colab-df-container\">\n",
       "    <button class=\"colab-df-convert\" onclick=\"convertToInteractive('df-16939725-9c0e-4759-8e8f-eadbefae611e')\"\n",
       "            title=\"Convert this dataframe to an interactive table.\"\n",
       "            style=\"display:none;\">\n",
       "\n",
       "  <svg xmlns=\"http://www.w3.org/2000/svg\" height=\"24px\" viewBox=\"0 -960 960 960\">\n",
       "    <path d=\"M120-120v-720h720v720H120Zm60-500h600v-160H180v160Zm220 220h160v-160H400v160Zm0 220h160v-160H400v160ZM180-400h160v-160H180v160Zm440 0h160v-160H620v160ZM180-180h160v-160H180v160Zm440 0h160v-160H620v160Z\"/>\n",
       "  </svg>\n",
       "    </button>\n",
       "\n",
       "  <style>\n",
       "    .colab-df-container {\n",
       "      display:flex;\n",
       "      gap: 12px;\n",
       "    }\n",
       "\n",
       "    .colab-df-convert {\n",
       "      background-color: #E8F0FE;\n",
       "      border: none;\n",
       "      border-radius: 50%;\n",
       "      cursor: pointer;\n",
       "      display: none;\n",
       "      fill: #1967D2;\n",
       "      height: 32px;\n",
       "      padding: 0 0 0 0;\n",
       "      width: 32px;\n",
       "    }\n",
       "\n",
       "    .colab-df-convert:hover {\n",
       "      background-color: #E2EBFA;\n",
       "      box-shadow: 0px 1px 2px rgba(60, 64, 67, 0.3), 0px 1px 3px 1px rgba(60, 64, 67, 0.15);\n",
       "      fill: #174EA6;\n",
       "    }\n",
       "\n",
       "    .colab-df-buttons div {\n",
       "      margin-bottom: 4px;\n",
       "    }\n",
       "\n",
       "    [theme=dark] .colab-df-convert {\n",
       "      background-color: #3B4455;\n",
       "      fill: #D2E3FC;\n",
       "    }\n",
       "\n",
       "    [theme=dark] .colab-df-convert:hover {\n",
       "      background-color: #434B5C;\n",
       "      box-shadow: 0px 1px 3px 1px rgba(0, 0, 0, 0.15);\n",
       "      filter: drop-shadow(0px 1px 2px rgba(0, 0, 0, 0.3));\n",
       "      fill: #FFFFFF;\n",
       "    }\n",
       "  </style>\n",
       "\n",
       "    <script>\n",
       "      const buttonEl =\n",
       "        document.querySelector('#df-16939725-9c0e-4759-8e8f-eadbefae611e button.colab-df-convert');\n",
       "      buttonEl.style.display =\n",
       "        google.colab.kernel.accessAllowed ? 'block' : 'none';\n",
       "\n",
       "      async function convertToInteractive(key) {\n",
       "        const element = document.querySelector('#df-16939725-9c0e-4759-8e8f-eadbefae611e');\n",
       "        const dataTable =\n",
       "          await google.colab.kernel.invokeFunction('convertToInteractive',\n",
       "                                                    [key], {});\n",
       "        if (!dataTable) return;\n",
       "\n",
       "        const docLinkHtml = 'Like what you see? Visit the ' +\n",
       "          '<a target=\"_blank\" href=https://colab.research.google.com/notebooks/data_table.ipynb>data table notebook</a>'\n",
       "          + ' to learn more about interactive tables.';\n",
       "        element.innerHTML = '';\n",
       "        dataTable['output_type'] = 'display_data';\n",
       "        await google.colab.output.renderOutput(dataTable, element);\n",
       "        const docLink = document.createElement('div');\n",
       "        docLink.innerHTML = docLinkHtml;\n",
       "        element.appendChild(docLink);\n",
       "      }\n",
       "    </script>\n",
       "  </div>\n",
       "\n",
       "\n",
       "<div id=\"df-9d842559-8d1b-4cbf-ad6d-193060ac095e\">\n",
       "  <button class=\"colab-df-quickchart\" onclick=\"quickchart('df-9d842559-8d1b-4cbf-ad6d-193060ac095e')\"\n",
       "            title=\"Suggest charts\"\n",
       "            style=\"display:none;\">\n",
       "\n",
       "<svg xmlns=\"http://www.w3.org/2000/svg\" height=\"24px\"viewBox=\"0 0 24 24\"\n",
       "     width=\"24px\">\n",
       "    <g>\n",
       "        <path d=\"M19 3H5c-1.1 0-2 .9-2 2v14c0 1.1.9 2 2 2h14c1.1 0 2-.9 2-2V5c0-1.1-.9-2-2-2zM9 17H7v-7h2v7zm4 0h-2V7h2v10zm4 0h-2v-4h2v4z\"/>\n",
       "    </g>\n",
       "</svg>\n",
       "  </button>\n",
       "\n",
       "<style>\n",
       "  .colab-df-quickchart {\n",
       "      --bg-color: #E8F0FE;\n",
       "      --fill-color: #1967D2;\n",
       "      --hover-bg-color: #E2EBFA;\n",
       "      --hover-fill-color: #174EA6;\n",
       "      --disabled-fill-color: #AAA;\n",
       "      --disabled-bg-color: #DDD;\n",
       "  }\n",
       "\n",
       "  [theme=dark] .colab-df-quickchart {\n",
       "      --bg-color: #3B4455;\n",
       "      --fill-color: #D2E3FC;\n",
       "      --hover-bg-color: #434B5C;\n",
       "      --hover-fill-color: #FFFFFF;\n",
       "      --disabled-bg-color: #3B4455;\n",
       "      --disabled-fill-color: #666;\n",
       "  }\n",
       "\n",
       "  .colab-df-quickchart {\n",
       "    background-color: var(--bg-color);\n",
       "    border: none;\n",
       "    border-radius: 50%;\n",
       "    cursor: pointer;\n",
       "    display: none;\n",
       "    fill: var(--fill-color);\n",
       "    height: 32px;\n",
       "    padding: 0;\n",
       "    width: 32px;\n",
       "  }\n",
       "\n",
       "  .colab-df-quickchart:hover {\n",
       "    background-color: var(--hover-bg-color);\n",
       "    box-shadow: 0 1px 2px rgba(60, 64, 67, 0.3), 0 1px 3px 1px rgba(60, 64, 67, 0.15);\n",
       "    fill: var(--button-hover-fill-color);\n",
       "  }\n",
       "\n",
       "  .colab-df-quickchart-complete:disabled,\n",
       "  .colab-df-quickchart-complete:disabled:hover {\n",
       "    background-color: var(--disabled-bg-color);\n",
       "    fill: var(--disabled-fill-color);\n",
       "    box-shadow: none;\n",
       "  }\n",
       "\n",
       "  .colab-df-spinner {\n",
       "    border: 2px solid var(--fill-color);\n",
       "    border-color: transparent;\n",
       "    border-bottom-color: var(--fill-color);\n",
       "    animation:\n",
       "      spin 1s steps(1) infinite;\n",
       "  }\n",
       "\n",
       "  @keyframes spin {\n",
       "    0% {\n",
       "      border-color: transparent;\n",
       "      border-bottom-color: var(--fill-color);\n",
       "      border-left-color: var(--fill-color);\n",
       "    }\n",
       "    20% {\n",
       "      border-color: transparent;\n",
       "      border-left-color: var(--fill-color);\n",
       "      border-top-color: var(--fill-color);\n",
       "    }\n",
       "    30% {\n",
       "      border-color: transparent;\n",
       "      border-left-color: var(--fill-color);\n",
       "      border-top-color: var(--fill-color);\n",
       "      border-right-color: var(--fill-color);\n",
       "    }\n",
       "    40% {\n",
       "      border-color: transparent;\n",
       "      border-right-color: var(--fill-color);\n",
       "      border-top-color: var(--fill-color);\n",
       "    }\n",
       "    60% {\n",
       "      border-color: transparent;\n",
       "      border-right-color: var(--fill-color);\n",
       "    }\n",
       "    80% {\n",
       "      border-color: transparent;\n",
       "      border-right-color: var(--fill-color);\n",
       "      border-bottom-color: var(--fill-color);\n",
       "    }\n",
       "    90% {\n",
       "      border-color: transparent;\n",
       "      border-bottom-color: var(--fill-color);\n",
       "    }\n",
       "  }\n",
       "</style>\n",
       "\n",
       "  <script>\n",
       "    async function quickchart(key) {\n",
       "      const quickchartButtonEl =\n",
       "        document.querySelector('#' + key + ' button');\n",
       "      quickchartButtonEl.disabled = true;  // To prevent multiple clicks.\n",
       "      quickchartButtonEl.classList.add('colab-df-spinner');\n",
       "      try {\n",
       "        const charts = await google.colab.kernel.invokeFunction(\n",
       "            'suggestCharts', [key], {});\n",
       "      } catch (error) {\n",
       "        console.error('Error during call to suggestCharts:', error);\n",
       "      }\n",
       "      quickchartButtonEl.classList.remove('colab-df-spinner');\n",
       "      quickchartButtonEl.classList.add('colab-df-quickchart-complete');\n",
       "    }\n",
       "    (() => {\n",
       "      let quickchartButtonEl =\n",
       "        document.querySelector('#df-9d842559-8d1b-4cbf-ad6d-193060ac095e button');\n",
       "      quickchartButtonEl.style.display =\n",
       "        google.colab.kernel.accessAllowed ? 'block' : 'none';\n",
       "    })();\n",
       "  </script>\n",
       "</div>\n",
       "\n",
       "    </div>\n",
       "  </div>\n"
      ],
      "text/plain": [
       "      Previous CTC  Previous job change  Graduation Marks  EXP (Month)  \\\n",
       "116        77911.0                    1                50           58   \n",
       "292        74198.0                    1                57           25   \n",
       "543        73856.0                    1                75           54   \n",
       "572        71543.0                    4                82           30   \n",
       "701        71549.0                    4                47           50   \n",
       "847        71756.0                    4                67           23   \n",
       "860        75785.0                    4                63           37   \n",
       "941        72319.0                    1                51           50   \n",
       "1024       72661.0                    3                74           47   \n",
       "1047       73214.0                    4                57           22   \n",
       "1067       71760.0                    4                40           39   \n",
       "1088       76815.0                    4                75           52   \n",
       "1131       74256.0                    2                40           27   \n",
       "1317       76070.0                    2                54           18   \n",
       "1332       72649.0                    3                69           52   \n",
       "1454       77911.0                    1                50           58   \n",
       "\n",
       "            CTC  metro_city  Tier_1  Tier_2  Tier_3  Role_Executive  \\\n",
       "116    87831.62           1       0       0       1               1   \n",
       "292    99644.51           0       0       0       1               0   \n",
       "543   121362.73           1       1       0       0               0   \n",
       "572    61366.78           1       1       0       0               1   \n",
       "701    83116.21           0       0       1       0               1   \n",
       "847    72141.43           1       1       0       0               1   \n",
       "860   110338.25           1       1       0       0               0   \n",
       "941    63538.43           1       0       0       1               1   \n",
       "1024   70238.70           1       1       0       0               1   \n",
       "1047  100119.53           0       1       0       0               0   \n",
       "1067   71187.52           0       0       0       1               1   \n",
       "1088   82684.17           1       0       0       1               1   \n",
       "1131   83023.18           1       0       1       0               1   \n",
       "1317   58309.56           0       1       0       0               1   \n",
       "1332   78861.46           1       0       0       1               1   \n",
       "1454   87831.62           1       1       0       0               1   \n",
       "\n",
       "      Role_Manager  \n",
       "116              0  \n",
       "292              1  \n",
       "543              1  \n",
       "572              0  \n",
       "701              0  \n",
       "847              0  \n",
       "860              1  \n",
       "941              0  \n",
       "1024             0  \n",
       "1047             1  \n",
       "1067             0  \n",
       "1088             0  \n",
       "1131             0  \n",
       "1317             0  \n",
       "1332             0  \n",
       "1454             0  "
      ]
     },
     "execution_count": 23,
     "metadata": {},
     "output_type": "execute_result"
    }
   ],
   "source": [
    "#check values that highr then upper value\n",
    "\n",
    "df[(df['Previous CTC'] > upper_limit)]\n",
    "\n",
    "#there is many values that is higher then upper limit but it is in considerable range"
   ]
  },
  {
   "cell_type": "code",
   "execution_count": 24,
   "id": "fc02879d",
   "metadata": {
    "colab": {
     "base_uri": "https://localhost:8080/"
    },
    "executionInfo": {
     "elapsed": 122,
     "status": "ok",
     "timestamp": 1714485987532,
     "user": {
      "displayName": "Shon G",
      "userId": "09069163652793577279"
     },
     "user_tz": -330
    },
    "id": "fc02879d",
    "outputId": "be52c9eb-ff53-4874-846d-d4746829f9b7"
   },
   "outputs": [
    {
     "name": "stderr",
     "output_type": "stream",
     "text": [
      "<ipython-input-24-b089b484c2f2>:3: SettingWithCopyWarning: \n",
      "A value is trying to be set on a copy of a slice from a DataFrame\n",
      "\n",
      "See the caveats in the documentation: https://pandas.pydata.org/pandas-docs/stable/user_guide/indexing.html#returning-a-view-versus-a-copy\n",
      "  df['Previous CTC'][(df['Previous CTC'] > 3*upper_limit)] = 3*upper_limit\n"
     ]
    }
   ],
   "source": [
    "#replace values that is higher then upper limit\n",
    "\n",
    "df['Previous CTC'][(df['Previous CTC'] > 3*upper_limit)] = 3*upper_limit"
   ]
  },
  {
   "cell_type": "code",
   "execution_count": 25,
   "id": "34aa896f",
   "metadata": {
    "executionInfo": {
     "elapsed": 98,
     "status": "ok",
     "timestamp": 1714485987533,
     "user": {
      "displayName": "Shon G",
      "userId": "09069163652793577279"
     },
     "user_tz": -330
    },
    "id": "34aa896f"
   },
   "outputs": [],
   "source": [
    "#upper limit for CTC\n",
    "\n",
    "upper_limit2 = np.percentile(df['CTC'], [99])[0]"
   ]
  },
  {
   "cell_type": "code",
   "execution_count": 26,
   "id": "b8ebe51c",
   "metadata": {
    "colab": {
     "base_uri": "https://localhost:8080/"
    },
    "executionInfo": {
     "elapsed": 98,
     "status": "ok",
     "timestamp": 1714485987533,
     "user": {
      "displayName": "Shon G",
      "userId": "09069163652793577279"
     },
     "user_tz": -330
    },
    "id": "b8ebe51c",
    "outputId": "f02a1759-f129-4fcf-cecf-882b540e85ff"
   },
   "outputs": [
    {
     "data": {
      "text/plain": [
       "112826.26"
      ]
     },
     "execution_count": 26,
     "metadata": {},
     "output_type": "execute_result"
    }
   ],
   "source": [
    "upper_limit2"
   ]
  },
  {
   "cell_type": "code",
   "execution_count": 27,
   "id": "9121ac45",
   "metadata": {
    "colab": {
     "base_uri": "https://localhost:8080/",
     "height": 520
    },
    "executionInfo": {
     "elapsed": 85,
     "status": "ok",
     "timestamp": 1714485987534,
     "user": {
      "displayName": "Shon G",
      "userId": "09069163652793577279"
     },
     "user_tz": -330
    },
    "id": "9121ac45",
    "outputId": "4e193c29-f8ff-4a99-a38d-5feb04089792"
   },
   "outputs": [
    {
     "data": {
      "application/vnd.google.colaboratory.intrinsic+json": {
       "summary": "{\n  \"name\": \"#there is many values that is higher then upper limit but it is in considerable range\",\n  \"rows\": 15,\n  \"fields\": [\n    {\n      \"column\": \"Previous CTC\",\n      \"properties\": {\n        \"dtype\": \"number\",\n        \"std\": 5530.41127980637,\n        \"min\": 51912.0,\n        \"max\": 73856.0,\n        \"num_unique_values\": 13,\n        \"samples\": [\n          65519.0,\n          60298.0,\n          60894.0\n        ],\n        \"semantic_type\": \"\",\n        \"description\": \"\"\n      }\n    },\n    {\n      \"column\": \"Previous job change\",\n      \"properties\": {\n        \"dtype\": \"number\",\n        \"std\": 1,\n        \"min\": 1,\n        \"max\": 4,\n        \"num_unique_values\": 4,\n        \"samples\": [\n          2,\n          3,\n          4\n        ],\n        \"semantic_type\": \"\",\n        \"description\": \"\"\n      }\n    },\n    {\n      \"column\": \"Graduation Marks\",\n      \"properties\": {\n        \"dtype\": \"number\",\n        \"std\": 16,\n        \"min\": 38,\n        \"max\": 85,\n        \"num_unique_values\": 12,\n        \"samples\": [\n          55,\n          74,\n          80\n        ],\n        \"semantic_type\": \"\",\n        \"description\": \"\"\n      }\n    },\n    {\n      \"column\": \"EXP (Month)\",\n      \"properties\": {\n        \"dtype\": \"number\",\n        \"std\": 12,\n        \"min\": 28,\n        \"max\": 64,\n        \"num_unique_values\": 12,\n        \"samples\": [\n          61,\n          52,\n          28\n        ],\n        \"semantic_type\": \"\",\n        \"description\": \"\"\n      }\n    },\n    {\n      \"column\": \"CTC\",\n      \"properties\": {\n        \"dtype\": \"number\",\n        \"std\": 3134.46146777325,\n        \"min\": 113141.14,\n        \"max\": 123416.99,\n        \"num_unique_values\": 13,\n        \"samples\": [\n          117307.7,\n          123416.99,\n          118651.89\n        ],\n        \"semantic_type\": \"\",\n        \"description\": \"\"\n      }\n    },\n    {\n      \"column\": \"metro_city\",\n      \"properties\": {\n        \"dtype\": \"number\",\n        \"std\": 0,\n        \"min\": 0,\n        \"max\": 1,\n        \"num_unique_values\": 2,\n        \"samples\": [\n          1,\n          0\n        ],\n        \"semantic_type\": \"\",\n        \"description\": \"\"\n      }\n    },\n    {\n      \"column\": \"Tier_1\",\n      \"properties\": {\n        \"dtype\": \"number\",\n        \"std\": 0,\n        \"min\": 0,\n        \"max\": 1,\n        \"num_unique_values\": 2,\n        \"samples\": [\n          0,\n          1\n        ],\n        \"semantic_type\": \"\",\n        \"description\": \"\"\n      }\n    },\n    {\n      \"column\": \"Tier_2\",\n      \"properties\": {\n        \"dtype\": \"number\",\n        \"std\": 0,\n        \"min\": 0,\n        \"max\": 1,\n        \"num_unique_values\": 2,\n        \"samples\": [\n          1,\n          0\n        ],\n        \"semantic_type\": \"\",\n        \"description\": \"\"\n      }\n    },\n    {\n      \"column\": \"Tier_3\",\n      \"properties\": {\n        \"dtype\": \"number\",\n        \"std\": 0,\n        \"min\": 0,\n        \"max\": 1,\n        \"num_unique_values\": 2,\n        \"samples\": [\n          1,\n          0\n        ],\n        \"semantic_type\": \"\",\n        \"description\": \"\"\n      }\n    },\n    {\n      \"column\": \"Role_Executive\",\n      \"properties\": {\n        \"dtype\": \"number\",\n        \"std\": 0,\n        \"min\": 0,\n        \"max\": 0,\n        \"num_unique_values\": 1,\n        \"samples\": [\n          0\n        ],\n        \"semantic_type\": \"\",\n        \"description\": \"\"\n      }\n    },\n    {\n      \"column\": \"Role_Manager\",\n      \"properties\": {\n        \"dtype\": \"number\",\n        \"std\": 0,\n        \"min\": 1,\n        \"max\": 1,\n        \"num_unique_values\": 1,\n        \"samples\": [\n          1\n        ],\n        \"semantic_type\": \"\",\n        \"description\": \"\"\n      }\n    }\n  ]\n}",
       "type": "dataframe"
      },
      "text/html": [
       "\n",
       "  <div id=\"df-58077ed2-7d24-4902-877c-aea35a087f17\" class=\"colab-df-container\">\n",
       "    <div>\n",
       "<style scoped>\n",
       "    .dataframe tbody tr th:only-of-type {\n",
       "        vertical-align: middle;\n",
       "    }\n",
       "\n",
       "    .dataframe tbody tr th {\n",
       "        vertical-align: top;\n",
       "    }\n",
       "\n",
       "    .dataframe thead th {\n",
       "        text-align: right;\n",
       "    }\n",
       "</style>\n",
       "<table border=\"1\" class=\"dataframe\">\n",
       "  <thead>\n",
       "    <tr style=\"text-align: right;\">\n",
       "      <th></th>\n",
       "      <th>Previous CTC</th>\n",
       "      <th>Previous job change</th>\n",
       "      <th>Graduation Marks</th>\n",
       "      <th>EXP (Month)</th>\n",
       "      <th>CTC</th>\n",
       "      <th>metro_city</th>\n",
       "      <th>Tier_1</th>\n",
       "      <th>Tier_2</th>\n",
       "      <th>Tier_3</th>\n",
       "      <th>Role_Executive</th>\n",
       "      <th>Role_Manager</th>\n",
       "    </tr>\n",
       "  </thead>\n",
       "  <tbody>\n",
       "    <tr>\n",
       "      <th>34</th>\n",
       "      <td>60894.0</td>\n",
       "      <td>4</td>\n",
       "      <td>80</td>\n",
       "      <td>28</td>\n",
       "      <td>118651.89</td>\n",
       "      <td>0</td>\n",
       "      <td>1</td>\n",
       "      <td>0</td>\n",
       "      <td>0</td>\n",
       "      <td>0</td>\n",
       "      <td>1</td>\n",
       "    </tr>\n",
       "    <tr>\n",
       "      <th>185</th>\n",
       "      <td>70258.0</td>\n",
       "      <td>4</td>\n",
       "      <td>38</td>\n",
       "      <td>36</td>\n",
       "      <td>115126.75</td>\n",
       "      <td>0</td>\n",
       "      <td>0</td>\n",
       "      <td>1</td>\n",
       "      <td>0</td>\n",
       "      <td>0</td>\n",
       "      <td>1</td>\n",
       "    </tr>\n",
       "    <tr>\n",
       "      <th>254</th>\n",
       "      <td>51912.0</td>\n",
       "      <td>2</td>\n",
       "      <td>66</td>\n",
       "      <td>50</td>\n",
       "      <td>113141.14</td>\n",
       "      <td>1</td>\n",
       "      <td>0</td>\n",
       "      <td>1</td>\n",
       "      <td>0</td>\n",
       "      <td>0</td>\n",
       "      <td>1</td>\n",
       "    </tr>\n",
       "    <tr>\n",
       "      <th>328</th>\n",
       "      <td>62264.0</td>\n",
       "      <td>2</td>\n",
       "      <td>52</td>\n",
       "      <td>64</td>\n",
       "      <td>114996.23</td>\n",
       "      <td>0</td>\n",
       "      <td>0</td>\n",
       "      <td>0</td>\n",
       "      <td>1</td>\n",
       "      <td>0</td>\n",
       "      <td>1</td>\n",
       "    </tr>\n",
       "    <tr>\n",
       "      <th>543</th>\n",
       "      <td>73856.0</td>\n",
       "      <td>1</td>\n",
       "      <td>75</td>\n",
       "      <td>54</td>\n",
       "      <td>121362.73</td>\n",
       "      <td>1</td>\n",
       "      <td>1</td>\n",
       "      <td>0</td>\n",
       "      <td>0</td>\n",
       "      <td>0</td>\n",
       "      <td>1</td>\n",
       "    </tr>\n",
       "    <tr>\n",
       "      <th>577</th>\n",
       "      <td>59101.0</td>\n",
       "      <td>3</td>\n",
       "      <td>56</td>\n",
       "      <td>31</td>\n",
       "      <td>113843.16</td>\n",
       "      <td>1</td>\n",
       "      <td>0</td>\n",
       "      <td>0</td>\n",
       "      <td>1</td>\n",
       "      <td>0</td>\n",
       "      <td>1</td>\n",
       "    </tr>\n",
       "    <tr>\n",
       "      <th>668</th>\n",
       "      <td>60476.0</td>\n",
       "      <td>1</td>\n",
       "      <td>85</td>\n",
       "      <td>62</td>\n",
       "      <td>113212.07</td>\n",
       "      <td>1</td>\n",
       "      <td>1</td>\n",
       "      <td>0</td>\n",
       "      <td>0</td>\n",
       "      <td>0</td>\n",
       "      <td>1</td>\n",
       "    </tr>\n",
       "    <tr>\n",
       "      <th>883</th>\n",
       "      <td>64930.0</td>\n",
       "      <td>1</td>\n",
       "      <td>66</td>\n",
       "      <td>51</td>\n",
       "      <td>114939.65</td>\n",
       "      <td>1</td>\n",
       "      <td>0</td>\n",
       "      <td>0</td>\n",
       "      <td>1</td>\n",
       "      <td>0</td>\n",
       "      <td>1</td>\n",
       "    </tr>\n",
       "    <tr>\n",
       "      <th>1146</th>\n",
       "      <td>61709.0</td>\n",
       "      <td>4</td>\n",
       "      <td>39</td>\n",
       "      <td>60</td>\n",
       "      <td>117207.24</td>\n",
       "      <td>1</td>\n",
       "      <td>1</td>\n",
       "      <td>0</td>\n",
       "      <td>0</td>\n",
       "      <td>0</td>\n",
       "      <td>1</td>\n",
       "    </tr>\n",
       "    <tr>\n",
       "      <th>1230</th>\n",
       "      <td>60298.0</td>\n",
       "      <td>1</td>\n",
       "      <td>47</td>\n",
       "      <td>52</td>\n",
       "      <td>123416.99</td>\n",
       "      <td>0</td>\n",
       "      <td>0</td>\n",
       "      <td>1</td>\n",
       "      <td>0</td>\n",
       "      <td>0</td>\n",
       "      <td>1</td>\n",
       "    </tr>\n",
       "    <tr>\n",
       "      <th>1240</th>\n",
       "      <td>67907.0</td>\n",
       "      <td>2</td>\n",
       "      <td>74</td>\n",
       "      <td>52</td>\n",
       "      <td>113508.80</td>\n",
       "      <td>1</td>\n",
       "      <td>0</td>\n",
       "      <td>1</td>\n",
       "      <td>0</td>\n",
       "      <td>0</td>\n",
       "      <td>1</td>\n",
       "    </tr>\n",
       "    <tr>\n",
       "      <th>1284</th>\n",
       "      <td>65519.0</td>\n",
       "      <td>3</td>\n",
       "      <td>55</td>\n",
       "      <td>61</td>\n",
       "      <td>117307.70</td>\n",
       "      <td>1</td>\n",
       "      <td>0</td>\n",
       "      <td>1</td>\n",
       "      <td>0</td>\n",
       "      <td>0</td>\n",
       "      <td>1</td>\n",
       "    </tr>\n",
       "    <tr>\n",
       "      <th>1300</th>\n",
       "      <td>59883.0</td>\n",
       "      <td>4</td>\n",
       "      <td>40</td>\n",
       "      <td>45</td>\n",
       "      <td>119585.49</td>\n",
       "      <td>1</td>\n",
       "      <td>0</td>\n",
       "      <td>1</td>\n",
       "      <td>0</td>\n",
       "      <td>0</td>\n",
       "      <td>1</td>\n",
       "    </tr>\n",
       "    <tr>\n",
       "      <th>1372</th>\n",
       "      <td>60894.0</td>\n",
       "      <td>4</td>\n",
       "      <td>80</td>\n",
       "      <td>28</td>\n",
       "      <td>118651.89</td>\n",
       "      <td>1</td>\n",
       "      <td>1</td>\n",
       "      <td>0</td>\n",
       "      <td>0</td>\n",
       "      <td>0</td>\n",
       "      <td>1</td>\n",
       "    </tr>\n",
       "    <tr>\n",
       "      <th>1523</th>\n",
       "      <td>70258.0</td>\n",
       "      <td>4</td>\n",
       "      <td>38</td>\n",
       "      <td>36</td>\n",
       "      <td>115126.75</td>\n",
       "      <td>1</td>\n",
       "      <td>0</td>\n",
       "      <td>1</td>\n",
       "      <td>0</td>\n",
       "      <td>0</td>\n",
       "      <td>1</td>\n",
       "    </tr>\n",
       "  </tbody>\n",
       "</table>\n",
       "</div>\n",
       "    <div class=\"colab-df-buttons\">\n",
       "\n",
       "  <div class=\"colab-df-container\">\n",
       "    <button class=\"colab-df-convert\" onclick=\"convertToInteractive('df-58077ed2-7d24-4902-877c-aea35a087f17')\"\n",
       "            title=\"Convert this dataframe to an interactive table.\"\n",
       "            style=\"display:none;\">\n",
       "\n",
       "  <svg xmlns=\"http://www.w3.org/2000/svg\" height=\"24px\" viewBox=\"0 -960 960 960\">\n",
       "    <path d=\"M120-120v-720h720v720H120Zm60-500h600v-160H180v160Zm220 220h160v-160H400v160Zm0 220h160v-160H400v160ZM180-400h160v-160H180v160Zm440 0h160v-160H620v160ZM180-180h160v-160H180v160Zm440 0h160v-160H620v160Z\"/>\n",
       "  </svg>\n",
       "    </button>\n",
       "\n",
       "  <style>\n",
       "    .colab-df-container {\n",
       "      display:flex;\n",
       "      gap: 12px;\n",
       "    }\n",
       "\n",
       "    .colab-df-convert {\n",
       "      background-color: #E8F0FE;\n",
       "      border: none;\n",
       "      border-radius: 50%;\n",
       "      cursor: pointer;\n",
       "      display: none;\n",
       "      fill: #1967D2;\n",
       "      height: 32px;\n",
       "      padding: 0 0 0 0;\n",
       "      width: 32px;\n",
       "    }\n",
       "\n",
       "    .colab-df-convert:hover {\n",
       "      background-color: #E2EBFA;\n",
       "      box-shadow: 0px 1px 2px rgba(60, 64, 67, 0.3), 0px 1px 3px 1px rgba(60, 64, 67, 0.15);\n",
       "      fill: #174EA6;\n",
       "    }\n",
       "\n",
       "    .colab-df-buttons div {\n",
       "      margin-bottom: 4px;\n",
       "    }\n",
       "\n",
       "    [theme=dark] .colab-df-convert {\n",
       "      background-color: #3B4455;\n",
       "      fill: #D2E3FC;\n",
       "    }\n",
       "\n",
       "    [theme=dark] .colab-df-convert:hover {\n",
       "      background-color: #434B5C;\n",
       "      box-shadow: 0px 1px 3px 1px rgba(0, 0, 0, 0.15);\n",
       "      filter: drop-shadow(0px 1px 2px rgba(0, 0, 0, 0.3));\n",
       "      fill: #FFFFFF;\n",
       "    }\n",
       "  </style>\n",
       "\n",
       "    <script>\n",
       "      const buttonEl =\n",
       "        document.querySelector('#df-58077ed2-7d24-4902-877c-aea35a087f17 button.colab-df-convert');\n",
       "      buttonEl.style.display =\n",
       "        google.colab.kernel.accessAllowed ? 'block' : 'none';\n",
       "\n",
       "      async function convertToInteractive(key) {\n",
       "        const element = document.querySelector('#df-58077ed2-7d24-4902-877c-aea35a087f17');\n",
       "        const dataTable =\n",
       "          await google.colab.kernel.invokeFunction('convertToInteractive',\n",
       "                                                    [key], {});\n",
       "        if (!dataTable) return;\n",
       "\n",
       "        const docLinkHtml = 'Like what you see? Visit the ' +\n",
       "          '<a target=\"_blank\" href=https://colab.research.google.com/notebooks/data_table.ipynb>data table notebook</a>'\n",
       "          + ' to learn more about interactive tables.';\n",
       "        element.innerHTML = '';\n",
       "        dataTable['output_type'] = 'display_data';\n",
       "        await google.colab.output.renderOutput(dataTable, element);\n",
       "        const docLink = document.createElement('div');\n",
       "        docLink.innerHTML = docLinkHtml;\n",
       "        element.appendChild(docLink);\n",
       "      }\n",
       "    </script>\n",
       "  </div>\n",
       "\n",
       "\n",
       "<div id=\"df-162625fb-1191-4a9c-81dd-ec53f8f1cd0d\">\n",
       "  <button class=\"colab-df-quickchart\" onclick=\"quickchart('df-162625fb-1191-4a9c-81dd-ec53f8f1cd0d')\"\n",
       "            title=\"Suggest charts\"\n",
       "            style=\"display:none;\">\n",
       "\n",
       "<svg xmlns=\"http://www.w3.org/2000/svg\" height=\"24px\"viewBox=\"0 0 24 24\"\n",
       "     width=\"24px\">\n",
       "    <g>\n",
       "        <path d=\"M19 3H5c-1.1 0-2 .9-2 2v14c0 1.1.9 2 2 2h14c1.1 0 2-.9 2-2V5c0-1.1-.9-2-2-2zM9 17H7v-7h2v7zm4 0h-2V7h2v10zm4 0h-2v-4h2v4z\"/>\n",
       "    </g>\n",
       "</svg>\n",
       "  </button>\n",
       "\n",
       "<style>\n",
       "  .colab-df-quickchart {\n",
       "      --bg-color: #E8F0FE;\n",
       "      --fill-color: #1967D2;\n",
       "      --hover-bg-color: #E2EBFA;\n",
       "      --hover-fill-color: #174EA6;\n",
       "      --disabled-fill-color: #AAA;\n",
       "      --disabled-bg-color: #DDD;\n",
       "  }\n",
       "\n",
       "  [theme=dark] .colab-df-quickchart {\n",
       "      --bg-color: #3B4455;\n",
       "      --fill-color: #D2E3FC;\n",
       "      --hover-bg-color: #434B5C;\n",
       "      --hover-fill-color: #FFFFFF;\n",
       "      --disabled-bg-color: #3B4455;\n",
       "      --disabled-fill-color: #666;\n",
       "  }\n",
       "\n",
       "  .colab-df-quickchart {\n",
       "    background-color: var(--bg-color);\n",
       "    border: none;\n",
       "    border-radius: 50%;\n",
       "    cursor: pointer;\n",
       "    display: none;\n",
       "    fill: var(--fill-color);\n",
       "    height: 32px;\n",
       "    padding: 0;\n",
       "    width: 32px;\n",
       "  }\n",
       "\n",
       "  .colab-df-quickchart:hover {\n",
       "    background-color: var(--hover-bg-color);\n",
       "    box-shadow: 0 1px 2px rgba(60, 64, 67, 0.3), 0 1px 3px 1px rgba(60, 64, 67, 0.15);\n",
       "    fill: var(--button-hover-fill-color);\n",
       "  }\n",
       "\n",
       "  .colab-df-quickchart-complete:disabled,\n",
       "  .colab-df-quickchart-complete:disabled:hover {\n",
       "    background-color: var(--disabled-bg-color);\n",
       "    fill: var(--disabled-fill-color);\n",
       "    box-shadow: none;\n",
       "  }\n",
       "\n",
       "  .colab-df-spinner {\n",
       "    border: 2px solid var(--fill-color);\n",
       "    border-color: transparent;\n",
       "    border-bottom-color: var(--fill-color);\n",
       "    animation:\n",
       "      spin 1s steps(1) infinite;\n",
       "  }\n",
       "\n",
       "  @keyframes spin {\n",
       "    0% {\n",
       "      border-color: transparent;\n",
       "      border-bottom-color: var(--fill-color);\n",
       "      border-left-color: var(--fill-color);\n",
       "    }\n",
       "    20% {\n",
       "      border-color: transparent;\n",
       "      border-left-color: var(--fill-color);\n",
       "      border-top-color: var(--fill-color);\n",
       "    }\n",
       "    30% {\n",
       "      border-color: transparent;\n",
       "      border-left-color: var(--fill-color);\n",
       "      border-top-color: var(--fill-color);\n",
       "      border-right-color: var(--fill-color);\n",
       "    }\n",
       "    40% {\n",
       "      border-color: transparent;\n",
       "      border-right-color: var(--fill-color);\n",
       "      border-top-color: var(--fill-color);\n",
       "    }\n",
       "    60% {\n",
       "      border-color: transparent;\n",
       "      border-right-color: var(--fill-color);\n",
       "    }\n",
       "    80% {\n",
       "      border-color: transparent;\n",
       "      border-right-color: var(--fill-color);\n",
       "      border-bottom-color: var(--fill-color);\n",
       "    }\n",
       "    90% {\n",
       "      border-color: transparent;\n",
       "      border-bottom-color: var(--fill-color);\n",
       "    }\n",
       "  }\n",
       "</style>\n",
       "\n",
       "  <script>\n",
       "    async function quickchart(key) {\n",
       "      const quickchartButtonEl =\n",
       "        document.querySelector('#' + key + ' button');\n",
       "      quickchartButtonEl.disabled = true;  // To prevent multiple clicks.\n",
       "      quickchartButtonEl.classList.add('colab-df-spinner');\n",
       "      try {\n",
       "        const charts = await google.colab.kernel.invokeFunction(\n",
       "            'suggestCharts', [key], {});\n",
       "      } catch (error) {\n",
       "        console.error('Error during call to suggestCharts:', error);\n",
       "      }\n",
       "      quickchartButtonEl.classList.remove('colab-df-spinner');\n",
       "      quickchartButtonEl.classList.add('colab-df-quickchart-complete');\n",
       "    }\n",
       "    (() => {\n",
       "      let quickchartButtonEl =\n",
       "        document.querySelector('#df-162625fb-1191-4a9c-81dd-ec53f8f1cd0d button');\n",
       "      quickchartButtonEl.style.display =\n",
       "        google.colab.kernel.accessAllowed ? 'block' : 'none';\n",
       "    })();\n",
       "  </script>\n",
       "</div>\n",
       "\n",
       "    </div>\n",
       "  </div>\n"
      ],
      "text/plain": [
       "      Previous CTC  Previous job change  Graduation Marks  EXP (Month)  \\\n",
       "34         60894.0                    4                80           28   \n",
       "185        70258.0                    4                38           36   \n",
       "254        51912.0                    2                66           50   \n",
       "328        62264.0                    2                52           64   \n",
       "543        73856.0                    1                75           54   \n",
       "577        59101.0                    3                56           31   \n",
       "668        60476.0                    1                85           62   \n",
       "883        64930.0                    1                66           51   \n",
       "1146       61709.0                    4                39           60   \n",
       "1230       60298.0                    1                47           52   \n",
       "1240       67907.0                    2                74           52   \n",
       "1284       65519.0                    3                55           61   \n",
       "1300       59883.0                    4                40           45   \n",
       "1372       60894.0                    4                80           28   \n",
       "1523       70258.0                    4                38           36   \n",
       "\n",
       "            CTC  metro_city  Tier_1  Tier_2  Tier_3  Role_Executive  \\\n",
       "34    118651.89           0       1       0       0               0   \n",
       "185   115126.75           0       0       1       0               0   \n",
       "254   113141.14           1       0       1       0               0   \n",
       "328   114996.23           0       0       0       1               0   \n",
       "543   121362.73           1       1       0       0               0   \n",
       "577   113843.16           1       0       0       1               0   \n",
       "668   113212.07           1       1       0       0               0   \n",
       "883   114939.65           1       0       0       1               0   \n",
       "1146  117207.24           1       1       0       0               0   \n",
       "1230  123416.99           0       0       1       0               0   \n",
       "1240  113508.80           1       0       1       0               0   \n",
       "1284  117307.70           1       0       1       0               0   \n",
       "1300  119585.49           1       0       1       0               0   \n",
       "1372  118651.89           1       1       0       0               0   \n",
       "1523  115126.75           1       0       1       0               0   \n",
       "\n",
       "      Role_Manager  \n",
       "34               1  \n",
       "185              1  \n",
       "254              1  \n",
       "328              1  \n",
       "543              1  \n",
       "577              1  \n",
       "668              1  \n",
       "883              1  \n",
       "1146             1  \n",
       "1230             1  \n",
       "1240             1  \n",
       "1284             1  \n",
       "1300             1  \n",
       "1372             1  \n",
       "1523             1  "
      ]
     },
     "execution_count": 27,
     "metadata": {},
     "output_type": "execute_result"
    }
   ],
   "source": [
    "#check values that highr then upper value\n",
    "\n",
    "df[(df['CTC'] > upper_limit2)]\n",
    "\n",
    "#there is many values that is higher then upper limit but it is in considerable range"
   ]
  },
  {
   "cell_type": "code",
   "execution_count": 28,
   "id": "45a38149",
   "metadata": {
    "colab": {
     "base_uri": "https://localhost:8080/"
    },
    "executionInfo": {
     "elapsed": 83,
     "status": "ok",
     "timestamp": 1714485987535,
     "user": {
      "displayName": "Shon G",
      "userId": "09069163652793577279"
     },
     "user_tz": -330
    },
    "id": "45a38149",
    "outputId": "860e225e-896f-47ea-cd43-462ce8e7c6d5"
   },
   "outputs": [
    {
     "name": "stderr",
     "output_type": "stream",
     "text": [
      "<ipython-input-28-001ccada9dba>:3: SettingWithCopyWarning: \n",
      "A value is trying to be set on a copy of a slice from a DataFrame\n",
      "\n",
      "See the caveats in the documentation: https://pandas.pydata.org/pandas-docs/stable/user_guide/indexing.html#returning-a-view-versus-a-copy\n",
      "  df['CTC'][(df['CTC'] > 3*upper_limit2)] = 3*upper_limit2\n"
     ]
    }
   ],
   "source": [
    "#replace values that is higher then upper limit\n",
    "\n",
    "df['CTC'][(df['CTC'] > 3*upper_limit2)] = 3*upper_limit2"
   ]
  },
  {
   "cell_type": "markdown",
   "id": "40482171",
   "metadata": {
    "id": "40482171"
   },
   "source": [
    "##### Note : There is no outliers in this data which can affect the data"
   ]
  },
  {
   "cell_type": "markdown",
   "id": "a977aca7",
   "metadata": {
    "id": "a977aca7"
   },
   "source": [
    "## Correlation Matrix"
   ]
  },
  {
   "cell_type": "code",
   "execution_count": 29,
   "id": "c9dc7d4a",
   "metadata": {
    "colab": {
     "base_uri": "https://localhost:8080/",
     "height": 394
    },
    "executionInfo": {
     "elapsed": 71,
     "status": "ok",
     "timestamp": 1714485987535,
     "user": {
      "displayName": "Shon G",
      "userId": "09069163652793577279"
     },
     "user_tz": -330
    },
    "id": "c9dc7d4a",
    "outputId": "5bcb4038-0a57-42a9-9033-3284bf3e83ec"
   },
   "outputs": [
    {
     "data": {
      "application/vnd.google.colaboratory.intrinsic+json": {
       "summary": "{\n  \"name\": \"df\",\n  \"rows\": 11,\n  \"fields\": [\n    {\n      \"column\": \"Previous CTC\",\n      \"properties\": {\n        \"dtype\": \"number\",\n        \"std\": 0.30303029378250185,\n        \"min\": -0.032975947504350706,\n        \"max\": 1.0,\n        \"num_unique_values\": 11,\n        \"samples\": [\n          0.004644262006014124,\n          1.0,\n          -0.012320604665080443\n        ],\n        \"semantic_type\": \"\",\n        \"description\": \"\"\n      }\n    },\n    {\n      \"column\": \"Previous job change\",\n      \"properties\": {\n        \"dtype\": \"number\",\n        \"std\": 0.29947426805134175,\n        \"min\": -0.05079415319556121,\n        \"max\": 1.0,\n        \"num_unique_values\": 11,\n        \"samples\": [\n          0.05166987388414611,\n          0.005756291232327744,\n          0.017149506082227928\n        ],\n        \"semantic_type\": \"\",\n        \"description\": \"\"\n      }\n    },\n    {\n      \"column\": \"Graduation Marks\",\n      \"properties\": {\n        \"dtype\": \"number\",\n        \"std\": 0.30526729333502556,\n        \"min\": -0.05706088107416382,\n        \"max\": 1.0,\n        \"num_unique_values\": 11,\n        \"samples\": [\n          -0.018616376383602612,\n          -0.032975947504350706,\n          -0.017858185085284372\n        ],\n        \"semantic_type\": \"\",\n        \"description\": \"\"\n      }\n    },\n    {\n      \"column\": \"EXP (Month)\",\n      \"properties\": {\n        \"dtype\": \"number\",\n        \"std\": 0.306984495319926,\n        \"min\": -0.05706088107416382,\n        \"max\": 1.0,\n        \"num_unique_values\": 11,\n        \"samples\": [\n          -0.023613431573153,\n          0.11916263479426223,\n          0.026751027030684875\n        ],\n        \"semantic_type\": \"\",\n        \"description\": \"\"\n      }\n    },\n    {\n      \"column\": \"CTC\",\n      \"properties\": {\n        \"dtype\": \"number\",\n        \"std\": 0.4140658585000959,\n        \"min\": -0.6213110960061285,\n        \"max\": 1.0,\n        \"num_unique_values\": 11,\n        \"samples\": [\n          -0.02036544264632192,\n          0.2579998181600079,\n          -0.6213110960061285\n        ],\n        \"semantic_type\": \"\",\n        \"description\": \"\"\n      }\n    },\n    {\n      \"column\": \"metro_city\",\n      \"properties\": {\n        \"dtype\": \"number\",\n        \"std\": 0.30330824992492184,\n        \"min\": -0.04867091498094853,\n        \"max\": 1.0,\n        \"num_unique_values\": 11,\n        \"samples\": [\n          1.0,\n          0.004644262006014124,\n          0.04867091498094851\n        ],\n        \"semantic_type\": \"\",\n        \"description\": \"\"\n      }\n    },\n    {\n      \"column\": \"Tier_1\",\n      \"properties\": {\n        \"dtype\": \"number\",\n        \"std\": 0.3923079305820516,\n        \"min\": -0.5417364711926309,\n        \"max\": 1.0,\n        \"num_unique_values\": 11,\n        \"samples\": [\n          0.0021347441204795686,\n          -0.03136618055302873,\n          -0.015157894641546774\n        ],\n        \"semantic_type\": \"\",\n        \"description\": \"\"\n      }\n    },\n    {\n      \"column\": \"Tier_2\",\n      \"properties\": {\n        \"dtype\": \"number\",\n        \"std\": 0.38207032201072155,\n        \"min\": -0.49151044816200046,\n        \"max\": 1.0,\n        \"num_unique_values\": 11,\n        \"samples\": [\n          0.022916585160757563,\n          -0.010946771311320123,\n          0.004865374515708924\n        ],\n        \"semantic_type\": \"\",\n        \"description\": \"\"\n      }\n    },\n    {\n      \"column\": \"Tier_3\",\n      \"properties\": {\n        \"dtype\": \"number\",\n        \"std\": 0.389475031552723,\n        \"min\": -0.5417364711926309,\n        \"max\": 1.0,\n        \"num_unique_values\": 11,\n        \"samples\": [\n          -0.024287825364742704,\n          0.04243781503828338,\n          0.010706468965827729\n        ],\n        \"semantic_type\": \"\",\n        \"description\": \"\"\n      }\n    },\n    {\n      \"column\": \"Role_Executive\",\n      \"properties\": {\n        \"dtype\": \"number\",\n        \"std\": 0.4859925729040524,\n        \"min\": -1.0,\n        \"max\": 1.0,\n        \"num_unique_values\": 11,\n        \"samples\": [\n          0.04867091498094851,\n          -0.012320604665080443,\n          1.0\n        ],\n        \"semantic_type\": \"\",\n        \"description\": \"\"\n      }\n    },\n    {\n      \"column\": \"Role_Manager\",\n      \"properties\": {\n        \"dtype\": \"number\",\n        \"std\": 0.48599257290405246,\n        \"min\": -1.0,\n        \"max\": 1.0,\n        \"num_unique_values\": 11,\n        \"samples\": [\n          -0.04867091498094853,\n          0.012320604665080477,\n          -1.0\n        ],\n        \"semantic_type\": \"\",\n        \"description\": \"\"\n      }\n    }\n  ]\n}",
       "type": "dataframe"
      },
      "text/html": [
       "\n",
       "  <div id=\"df-ebcb2795-aead-4a42-b2b5-a23460ffde13\" class=\"colab-df-container\">\n",
       "    <div>\n",
       "<style scoped>\n",
       "    .dataframe tbody tr th:only-of-type {\n",
       "        vertical-align: middle;\n",
       "    }\n",
       "\n",
       "    .dataframe tbody tr th {\n",
       "        vertical-align: top;\n",
       "    }\n",
       "\n",
       "    .dataframe thead th {\n",
       "        text-align: right;\n",
       "    }\n",
       "</style>\n",
       "<table border=\"1\" class=\"dataframe\">\n",
       "  <thead>\n",
       "    <tr style=\"text-align: right;\">\n",
       "      <th></th>\n",
       "      <th>Previous CTC</th>\n",
       "      <th>Previous job change</th>\n",
       "      <th>Graduation Marks</th>\n",
       "      <th>EXP (Month)</th>\n",
       "      <th>CTC</th>\n",
       "      <th>metro_city</th>\n",
       "      <th>Tier_1</th>\n",
       "      <th>Tier_2</th>\n",
       "      <th>Tier_3</th>\n",
       "      <th>Role_Executive</th>\n",
       "      <th>Role_Manager</th>\n",
       "    </tr>\n",
       "  </thead>\n",
       "  <tbody>\n",
       "    <tr>\n",
       "      <th>Previous CTC</th>\n",
       "      <td>1.000000</td>\n",
       "      <td>0.005756</td>\n",
       "      <td>-0.032976</td>\n",
       "      <td>0.119163</td>\n",
       "      <td>0.258000</td>\n",
       "      <td>0.004644</td>\n",
       "      <td>-0.031366</td>\n",
       "      <td>-0.010947</td>\n",
       "      <td>0.042438</td>\n",
       "      <td>-0.012321</td>\n",
       "      <td>0.012321</td>\n",
       "    </tr>\n",
       "    <tr>\n",
       "      <th>Previous job change</th>\n",
       "      <td>0.005756</td>\n",
       "      <td>1.000000</td>\n",
       "      <td>0.019267</td>\n",
       "      <td>0.023488</td>\n",
       "      <td>0.011370</td>\n",
       "      <td>0.051670</td>\n",
       "      <td>0.045931</td>\n",
       "      <td>0.004271</td>\n",
       "      <td>-0.050794</td>\n",
       "      <td>0.017150</td>\n",
       "      <td>-0.017150</td>\n",
       "    </tr>\n",
       "    <tr>\n",
       "      <th>Graduation Marks</th>\n",
       "      <td>-0.032976</td>\n",
       "      <td>0.019267</td>\n",
       "      <td>1.000000</td>\n",
       "      <td>-0.057061</td>\n",
       "      <td>-0.005450</td>\n",
       "      <td>-0.018616</td>\n",
       "      <td>0.005666</td>\n",
       "      <td>-0.018419</td>\n",
       "      <td>0.012021</td>\n",
       "      <td>-0.017858</td>\n",
       "      <td>0.017858</td>\n",
       "    </tr>\n",
       "    <tr>\n",
       "      <th>EXP (Month)</th>\n",
       "      <td>0.119163</td>\n",
       "      <td>0.023488</td>\n",
       "      <td>-0.057061</td>\n",
       "      <td>1.000000</td>\n",
       "      <td>0.301115</td>\n",
       "      <td>-0.023613</td>\n",
       "      <td>-0.003323</td>\n",
       "      <td>-0.014558</td>\n",
       "      <td>0.017427</td>\n",
       "      <td>0.026751</td>\n",
       "      <td>-0.026751</td>\n",
       "    </tr>\n",
       "    <tr>\n",
       "      <th>CTC</th>\n",
       "      <td>0.258000</td>\n",
       "      <td>0.011370</td>\n",
       "      <td>-0.005450</td>\n",
       "      <td>0.301115</td>\n",
       "      <td>1.000000</td>\n",
       "      <td>-0.020365</td>\n",
       "      <td>0.019912</td>\n",
       "      <td>0.012346</td>\n",
       "      <td>-0.032149</td>\n",
       "      <td>-0.621311</td>\n",
       "      <td>0.621311</td>\n",
       "    </tr>\n",
       "    <tr>\n",
       "      <th>metro_city</th>\n",
       "      <td>0.004644</td>\n",
       "      <td>0.051670</td>\n",
       "      <td>-0.018616</td>\n",
       "      <td>-0.023613</td>\n",
       "      <td>-0.020365</td>\n",
       "      <td>1.000000</td>\n",
       "      <td>0.002135</td>\n",
       "      <td>0.022917</td>\n",
       "      <td>-0.024288</td>\n",
       "      <td>0.048671</td>\n",
       "      <td>-0.048671</td>\n",
       "    </tr>\n",
       "    <tr>\n",
       "      <th>Tier_1</th>\n",
       "      <td>-0.031366</td>\n",
       "      <td>0.045931</td>\n",
       "      <td>0.005666</td>\n",
       "      <td>-0.003323</td>\n",
       "      <td>0.019912</td>\n",
       "      <td>0.002135</td>\n",
       "      <td>1.000000</td>\n",
       "      <td>-0.491510</td>\n",
       "      <td>-0.541736</td>\n",
       "      <td>-0.015158</td>\n",
       "      <td>0.015158</td>\n",
       "    </tr>\n",
       "    <tr>\n",
       "      <th>Tier_2</th>\n",
       "      <td>-0.010947</td>\n",
       "      <td>0.004271</td>\n",
       "      <td>-0.018419</td>\n",
       "      <td>-0.014558</td>\n",
       "      <td>0.012346</td>\n",
       "      <td>0.022917</td>\n",
       "      <td>-0.491510</td>\n",
       "      <td>1.000000</td>\n",
       "      <td>-0.465741</td>\n",
       "      <td>0.004865</td>\n",
       "      <td>-0.004865</td>\n",
       "    </tr>\n",
       "    <tr>\n",
       "      <th>Tier_3</th>\n",
       "      <td>0.042438</td>\n",
       "      <td>-0.050794</td>\n",
       "      <td>0.012021</td>\n",
       "      <td>0.017427</td>\n",
       "      <td>-0.032149</td>\n",
       "      <td>-0.024288</td>\n",
       "      <td>-0.541736</td>\n",
       "      <td>-0.465741</td>\n",
       "      <td>1.000000</td>\n",
       "      <td>0.010706</td>\n",
       "      <td>-0.010706</td>\n",
       "    </tr>\n",
       "    <tr>\n",
       "      <th>Role_Executive</th>\n",
       "      <td>-0.012321</td>\n",
       "      <td>0.017150</td>\n",
       "      <td>-0.017858</td>\n",
       "      <td>0.026751</td>\n",
       "      <td>-0.621311</td>\n",
       "      <td>0.048671</td>\n",
       "      <td>-0.015158</td>\n",
       "      <td>0.004865</td>\n",
       "      <td>0.010706</td>\n",
       "      <td>1.000000</td>\n",
       "      <td>-1.000000</td>\n",
       "    </tr>\n",
       "    <tr>\n",
       "      <th>Role_Manager</th>\n",
       "      <td>0.012321</td>\n",
       "      <td>-0.017150</td>\n",
       "      <td>0.017858</td>\n",
       "      <td>-0.026751</td>\n",
       "      <td>0.621311</td>\n",
       "      <td>-0.048671</td>\n",
       "      <td>0.015158</td>\n",
       "      <td>-0.004865</td>\n",
       "      <td>-0.010706</td>\n",
       "      <td>-1.000000</td>\n",
       "      <td>1.000000</td>\n",
       "    </tr>\n",
       "  </tbody>\n",
       "</table>\n",
       "</div>\n",
       "    <div class=\"colab-df-buttons\">\n",
       "\n",
       "  <div class=\"colab-df-container\">\n",
       "    <button class=\"colab-df-convert\" onclick=\"convertToInteractive('df-ebcb2795-aead-4a42-b2b5-a23460ffde13')\"\n",
       "            title=\"Convert this dataframe to an interactive table.\"\n",
       "            style=\"display:none;\">\n",
       "\n",
       "  <svg xmlns=\"http://www.w3.org/2000/svg\" height=\"24px\" viewBox=\"0 -960 960 960\">\n",
       "    <path d=\"M120-120v-720h720v720H120Zm60-500h600v-160H180v160Zm220 220h160v-160H400v160Zm0 220h160v-160H400v160ZM180-400h160v-160H180v160Zm440 0h160v-160H620v160ZM180-180h160v-160H180v160Zm440 0h160v-160H620v160Z\"/>\n",
       "  </svg>\n",
       "    </button>\n",
       "\n",
       "  <style>\n",
       "    .colab-df-container {\n",
       "      display:flex;\n",
       "      gap: 12px;\n",
       "    }\n",
       "\n",
       "    .colab-df-convert {\n",
       "      background-color: #E8F0FE;\n",
       "      border: none;\n",
       "      border-radius: 50%;\n",
       "      cursor: pointer;\n",
       "      display: none;\n",
       "      fill: #1967D2;\n",
       "      height: 32px;\n",
       "      padding: 0 0 0 0;\n",
       "      width: 32px;\n",
       "    }\n",
       "\n",
       "    .colab-df-convert:hover {\n",
       "      background-color: #E2EBFA;\n",
       "      box-shadow: 0px 1px 2px rgba(60, 64, 67, 0.3), 0px 1px 3px 1px rgba(60, 64, 67, 0.15);\n",
       "      fill: #174EA6;\n",
       "    }\n",
       "\n",
       "    .colab-df-buttons div {\n",
       "      margin-bottom: 4px;\n",
       "    }\n",
       "\n",
       "    [theme=dark] .colab-df-convert {\n",
       "      background-color: #3B4455;\n",
       "      fill: #D2E3FC;\n",
       "    }\n",
       "\n",
       "    [theme=dark] .colab-df-convert:hover {\n",
       "      background-color: #434B5C;\n",
       "      box-shadow: 0px 1px 3px 1px rgba(0, 0, 0, 0.15);\n",
       "      filter: drop-shadow(0px 1px 2px rgba(0, 0, 0, 0.3));\n",
       "      fill: #FFFFFF;\n",
       "    }\n",
       "  </style>\n",
       "\n",
       "    <script>\n",
       "      const buttonEl =\n",
       "        document.querySelector('#df-ebcb2795-aead-4a42-b2b5-a23460ffde13 button.colab-df-convert');\n",
       "      buttonEl.style.display =\n",
       "        google.colab.kernel.accessAllowed ? 'block' : 'none';\n",
       "\n",
       "      async function convertToInteractive(key) {\n",
       "        const element = document.querySelector('#df-ebcb2795-aead-4a42-b2b5-a23460ffde13');\n",
       "        const dataTable =\n",
       "          await google.colab.kernel.invokeFunction('convertToInteractive',\n",
       "                                                    [key], {});\n",
       "        if (!dataTable) return;\n",
       "\n",
       "        const docLinkHtml = 'Like what you see? Visit the ' +\n",
       "          '<a target=\"_blank\" href=https://colab.research.google.com/notebooks/data_table.ipynb>data table notebook</a>'\n",
       "          + ' to learn more about interactive tables.';\n",
       "        element.innerHTML = '';\n",
       "        dataTable['output_type'] = 'display_data';\n",
       "        await google.colab.output.renderOutput(dataTable, element);\n",
       "        const docLink = document.createElement('div');\n",
       "        docLink.innerHTML = docLinkHtml;\n",
       "        element.appendChild(docLink);\n",
       "      }\n",
       "    </script>\n",
       "  </div>\n",
       "\n",
       "\n",
       "<div id=\"df-fcb1e470-2b8c-4929-842c-a24485372adb\">\n",
       "  <button class=\"colab-df-quickchart\" onclick=\"quickchart('df-fcb1e470-2b8c-4929-842c-a24485372adb')\"\n",
       "            title=\"Suggest charts\"\n",
       "            style=\"display:none;\">\n",
       "\n",
       "<svg xmlns=\"http://www.w3.org/2000/svg\" height=\"24px\"viewBox=\"0 0 24 24\"\n",
       "     width=\"24px\">\n",
       "    <g>\n",
       "        <path d=\"M19 3H5c-1.1 0-2 .9-2 2v14c0 1.1.9 2 2 2h14c1.1 0 2-.9 2-2V5c0-1.1-.9-2-2-2zM9 17H7v-7h2v7zm4 0h-2V7h2v10zm4 0h-2v-4h2v4z\"/>\n",
       "    </g>\n",
       "</svg>\n",
       "  </button>\n",
       "\n",
       "<style>\n",
       "  .colab-df-quickchart {\n",
       "      --bg-color: #E8F0FE;\n",
       "      --fill-color: #1967D2;\n",
       "      --hover-bg-color: #E2EBFA;\n",
       "      --hover-fill-color: #174EA6;\n",
       "      --disabled-fill-color: #AAA;\n",
       "      --disabled-bg-color: #DDD;\n",
       "  }\n",
       "\n",
       "  [theme=dark] .colab-df-quickchart {\n",
       "      --bg-color: #3B4455;\n",
       "      --fill-color: #D2E3FC;\n",
       "      --hover-bg-color: #434B5C;\n",
       "      --hover-fill-color: #FFFFFF;\n",
       "      --disabled-bg-color: #3B4455;\n",
       "      --disabled-fill-color: #666;\n",
       "  }\n",
       "\n",
       "  .colab-df-quickchart {\n",
       "    background-color: var(--bg-color);\n",
       "    border: none;\n",
       "    border-radius: 50%;\n",
       "    cursor: pointer;\n",
       "    display: none;\n",
       "    fill: var(--fill-color);\n",
       "    height: 32px;\n",
       "    padding: 0;\n",
       "    width: 32px;\n",
       "  }\n",
       "\n",
       "  .colab-df-quickchart:hover {\n",
       "    background-color: var(--hover-bg-color);\n",
       "    box-shadow: 0 1px 2px rgba(60, 64, 67, 0.3), 0 1px 3px 1px rgba(60, 64, 67, 0.15);\n",
       "    fill: var(--button-hover-fill-color);\n",
       "  }\n",
       "\n",
       "  .colab-df-quickchart-complete:disabled,\n",
       "  .colab-df-quickchart-complete:disabled:hover {\n",
       "    background-color: var(--disabled-bg-color);\n",
       "    fill: var(--disabled-fill-color);\n",
       "    box-shadow: none;\n",
       "  }\n",
       "\n",
       "  .colab-df-spinner {\n",
       "    border: 2px solid var(--fill-color);\n",
       "    border-color: transparent;\n",
       "    border-bottom-color: var(--fill-color);\n",
       "    animation:\n",
       "      spin 1s steps(1) infinite;\n",
       "  }\n",
       "\n",
       "  @keyframes spin {\n",
       "    0% {\n",
       "      border-color: transparent;\n",
       "      border-bottom-color: var(--fill-color);\n",
       "      border-left-color: var(--fill-color);\n",
       "    }\n",
       "    20% {\n",
       "      border-color: transparent;\n",
       "      border-left-color: var(--fill-color);\n",
       "      border-top-color: var(--fill-color);\n",
       "    }\n",
       "    30% {\n",
       "      border-color: transparent;\n",
       "      border-left-color: var(--fill-color);\n",
       "      border-top-color: var(--fill-color);\n",
       "      border-right-color: var(--fill-color);\n",
       "    }\n",
       "    40% {\n",
       "      border-color: transparent;\n",
       "      border-right-color: var(--fill-color);\n",
       "      border-top-color: var(--fill-color);\n",
       "    }\n",
       "    60% {\n",
       "      border-color: transparent;\n",
       "      border-right-color: var(--fill-color);\n",
       "    }\n",
       "    80% {\n",
       "      border-color: transparent;\n",
       "      border-right-color: var(--fill-color);\n",
       "      border-bottom-color: var(--fill-color);\n",
       "    }\n",
       "    90% {\n",
       "      border-color: transparent;\n",
       "      border-bottom-color: var(--fill-color);\n",
       "    }\n",
       "  }\n",
       "</style>\n",
       "\n",
       "  <script>\n",
       "    async function quickchart(key) {\n",
       "      const quickchartButtonEl =\n",
       "        document.querySelector('#' + key + ' button');\n",
       "      quickchartButtonEl.disabled = true;  // To prevent multiple clicks.\n",
       "      quickchartButtonEl.classList.add('colab-df-spinner');\n",
       "      try {\n",
       "        const charts = await google.colab.kernel.invokeFunction(\n",
       "            'suggestCharts', [key], {});\n",
       "      } catch (error) {\n",
       "        console.error('Error during call to suggestCharts:', error);\n",
       "      }\n",
       "      quickchartButtonEl.classList.remove('colab-df-spinner');\n",
       "      quickchartButtonEl.classList.add('colab-df-quickchart-complete');\n",
       "    }\n",
       "    (() => {\n",
       "      let quickchartButtonEl =\n",
       "        document.querySelector('#df-fcb1e470-2b8c-4929-842c-a24485372adb button');\n",
       "      quickchartButtonEl.style.display =\n",
       "        google.colab.kernel.accessAllowed ? 'block' : 'none';\n",
       "    })();\n",
       "  </script>\n",
       "</div>\n",
       "\n",
       "    </div>\n",
       "  </div>\n"
      ],
      "text/plain": [
       "                     Previous CTC  Previous job change  Graduation Marks  \\\n",
       "Previous CTC             1.000000             0.005756         -0.032976   \n",
       "Previous job change      0.005756             1.000000          0.019267   \n",
       "Graduation Marks        -0.032976             0.019267          1.000000   \n",
       "EXP (Month)              0.119163             0.023488         -0.057061   \n",
       "CTC                      0.258000             0.011370         -0.005450   \n",
       "metro_city               0.004644             0.051670         -0.018616   \n",
       "Tier_1                  -0.031366             0.045931          0.005666   \n",
       "Tier_2                  -0.010947             0.004271         -0.018419   \n",
       "Tier_3                   0.042438            -0.050794          0.012021   \n",
       "Role_Executive          -0.012321             0.017150         -0.017858   \n",
       "Role_Manager             0.012321            -0.017150          0.017858   \n",
       "\n",
       "                     EXP (Month)       CTC  metro_city    Tier_1    Tier_2  \\\n",
       "Previous CTC            0.119163  0.258000    0.004644 -0.031366 -0.010947   \n",
       "Previous job change     0.023488  0.011370    0.051670  0.045931  0.004271   \n",
       "Graduation Marks       -0.057061 -0.005450   -0.018616  0.005666 -0.018419   \n",
       "EXP (Month)             1.000000  0.301115   -0.023613 -0.003323 -0.014558   \n",
       "CTC                     0.301115  1.000000   -0.020365  0.019912  0.012346   \n",
       "metro_city             -0.023613 -0.020365    1.000000  0.002135  0.022917   \n",
       "Tier_1                 -0.003323  0.019912    0.002135  1.000000 -0.491510   \n",
       "Tier_2                 -0.014558  0.012346    0.022917 -0.491510  1.000000   \n",
       "Tier_3                  0.017427 -0.032149   -0.024288 -0.541736 -0.465741   \n",
       "Role_Executive          0.026751 -0.621311    0.048671 -0.015158  0.004865   \n",
       "Role_Manager           -0.026751  0.621311   -0.048671  0.015158 -0.004865   \n",
       "\n",
       "                       Tier_3  Role_Executive  Role_Manager  \n",
       "Previous CTC         0.042438       -0.012321      0.012321  \n",
       "Previous job change -0.050794        0.017150     -0.017150  \n",
       "Graduation Marks     0.012021       -0.017858      0.017858  \n",
       "EXP (Month)          0.017427        0.026751     -0.026751  \n",
       "CTC                 -0.032149       -0.621311      0.621311  \n",
       "metro_city          -0.024288        0.048671     -0.048671  \n",
       "Tier_1              -0.541736       -0.015158      0.015158  \n",
       "Tier_2              -0.465741        0.004865     -0.004865  \n",
       "Tier_3               1.000000        0.010706     -0.010706  \n",
       "Role_Executive       0.010706        1.000000     -1.000000  \n",
       "Role_Manager        -0.010706       -1.000000      1.000000  "
      ]
     },
     "execution_count": 29,
     "metadata": {},
     "output_type": "execute_result"
    }
   ],
   "source": [
    "df.corr()"
   ]
  },
  {
   "cell_type": "markdown",
   "id": "bec7b030",
   "metadata": {
    "id": "bec7b030"
   },
   "source": [
    "## Train-Test Split"
   ]
  },
  {
   "cell_type": "code",
   "execution_count": 30,
   "id": "7bf47be4",
   "metadata": {
    "executionInfo": {
     "elapsed": 66,
     "status": "ok",
     "timestamp": 1714485987535,
     "user": {
      "displayName": "Shon G",
      "userId": "09069163652793577279"
     },
     "user_tz": -330
    },
    "id": "7bf47be4"
   },
   "outputs": [],
   "source": [
    "#import libraries\n",
    "from sklearn.model_selection import train_test_split, validation_curve\n",
    "from sklearn.metrics import r2_score, mean_squared_error\n",
    "from sklearn import preprocessing"
   ]
  },
  {
   "cell_type": "code",
   "execution_count": 31,
   "id": "f4ea5cf2",
   "metadata": {
    "executionInfo": {
     "elapsed": 65,
     "status": "ok",
     "timestamp": 1714485987536,
     "user": {
      "displayName": "Shon G",
      "userId": "09069163652793577279"
     },
     "user_tz": -330
    },
    "id": "f4ea5cf2"
   },
   "outputs": [],
   "source": [
    "# Split the dataset into features (x_multi) and the target variable (y_multi)\n",
    "x_multi = df.loc[:, df.columns != 'CTC']\n",
    "y_multi = df['CTC']"
   ]
  },
  {
   "cell_type": "code",
   "execution_count": 32,
   "id": "312eeecc",
   "metadata": {
    "executionInfo": {
     "elapsed": 63,
     "status": "ok",
     "timestamp": 1714485987536,
     "user": {
      "displayName": "Shon G",
      "userId": "09069163652793577279"
     },
     "user_tz": -330
    },
    "id": "312eeecc"
   },
   "outputs": [],
   "source": [
    "# Split the data into training and testing sets with a 20% test size\n",
    "x_train, x_test, y_train, y_test = train_test_split(x_multi, y_multi, test_size = 0.2, random_state = 0)"
   ]
  },
  {
   "cell_type": "code",
   "execution_count": 33,
   "id": "8bcc776f",
   "metadata": {
    "colab": {
     "base_uri": "https://localhost:8080/"
    },
    "executionInfo": {
     "elapsed": 63,
     "status": "ok",
     "timestamp": 1714485987537,
     "user": {
      "displayName": "Shon G",
      "userId": "09069163652793577279"
     },
     "user_tz": -330
    },
    "id": "8bcc776f",
    "outputId": "f4e303c9-5efc-4c53-8814-804dc9449418"
   },
   "outputs": [
    {
     "name": "stdout",
     "output_type": "stream",
     "text": [
      "(1271, 10) (318, 10) (1271,) (318,)\n"
     ]
    }
   ],
   "source": [
    "# Print the shapes of the training and testing sets to confirm the split\n",
    "print(x_train.shape, x_test.shape, y_train.shape, y_test.shape)"
   ]
  },
  {
   "cell_type": "code",
   "execution_count": 34,
   "id": "ec2848ee",
   "metadata": {
    "colab": {
     "base_uri": "https://localhost:8080/",
     "height": 424
    },
    "executionInfo": {
     "elapsed": 52,
     "status": "ok",
     "timestamp": 1714485987537,
     "user": {
      "displayName": "Shon G",
      "userId": "09069163652793577279"
     },
     "user_tz": -330
    },
    "id": "ec2848ee",
    "outputId": "89a80a0b-34d8-421c-a40a-0dcba1510a88"
   },
   "outputs": [
    {
     "data": {
      "application/vnd.google.colaboratory.intrinsic+json": {
       "summary": "{\n  \"name\": \"x_train\",\n  \"rows\": 1271,\n  \"fields\": [\n    {\n      \"column\": \"Previous CTC\",\n      \"properties\": {\n        \"dtype\": \"number\",\n        \"std\": 6701.241512837955,\n        \"min\": 36990.0,\n        \"max\": 77911.0,\n        \"num_unique_values\": 1092,\n        \"samples\": [\n          55621.0,\n          54340.0,\n          46477.0\n        ],\n        \"semantic_type\": \"\",\n        \"description\": \"\"\n      }\n    },\n    {\n      \"column\": \"Previous job change\",\n      \"properties\": {\n        \"dtype\": \"number\",\n        \"std\": 1,\n        \"min\": 1,\n        \"max\": 4,\n        \"num_unique_values\": 4,\n        \"samples\": [\n          1,\n          3,\n          4\n        ],\n        \"semantic_type\": \"\",\n        \"description\": \"\"\n      }\n    },\n    {\n      \"column\": \"Graduation Marks\",\n      \"properties\": {\n        \"dtype\": \"number\",\n        \"std\": 14,\n        \"min\": 35,\n        \"max\": 85,\n        \"num_unique_values\": 51,\n        \"samples\": [\n          68,\n          79,\n          55\n        ],\n        \"semantic_type\": \"\",\n        \"description\": \"\"\n      }\n    },\n    {\n      \"column\": \"EXP (Month)\",\n      \"properties\": {\n        \"dtype\": \"number\",\n        \"std\": 14,\n        \"min\": 18,\n        \"max\": 64,\n        \"num_unique_values\": 47,\n        \"samples\": [\n          31,\n          53,\n          46\n        ],\n        \"semantic_type\": \"\",\n        \"description\": \"\"\n      }\n    },\n    {\n      \"column\": \"metro_city\",\n      \"properties\": {\n        \"dtype\": \"number\",\n        \"std\": 0,\n        \"min\": 0,\n        \"max\": 1,\n        \"num_unique_values\": 2,\n        \"samples\": [\n          1,\n          0\n        ],\n        \"semantic_type\": \"\",\n        \"description\": \"\"\n      }\n    },\n    {\n      \"column\": \"Tier_1\",\n      \"properties\": {\n        \"dtype\": \"number\",\n        \"std\": 0,\n        \"min\": 0,\n        \"max\": 1,\n        \"num_unique_values\": 2,\n        \"samples\": [\n          0,\n          1\n        ],\n        \"semantic_type\": \"\",\n        \"description\": \"\"\n      }\n    },\n    {\n      \"column\": \"Tier_2\",\n      \"properties\": {\n        \"dtype\": \"number\",\n        \"std\": 0,\n        \"min\": 0,\n        \"max\": 1,\n        \"num_unique_values\": 2,\n        \"samples\": [\n          1,\n          0\n        ],\n        \"semantic_type\": \"\",\n        \"description\": \"\"\n      }\n    },\n    {\n      \"column\": \"Tier_3\",\n      \"properties\": {\n        \"dtype\": \"number\",\n        \"std\": 0,\n        \"min\": 0,\n        \"max\": 1,\n        \"num_unique_values\": 2,\n        \"samples\": [\n          1,\n          0\n        ],\n        \"semantic_type\": \"\",\n        \"description\": \"\"\n      }\n    },\n    {\n      \"column\": \"Role_Executive\",\n      \"properties\": {\n        \"dtype\": \"number\",\n        \"std\": 0,\n        \"min\": 0,\n        \"max\": 1,\n        \"num_unique_values\": 2,\n        \"samples\": [\n          1,\n          0\n        ],\n        \"semantic_type\": \"\",\n        \"description\": \"\"\n      }\n    },\n    {\n      \"column\": \"Role_Manager\",\n      \"properties\": {\n        \"dtype\": \"number\",\n        \"std\": 0,\n        \"min\": 0,\n        \"max\": 1,\n        \"num_unique_values\": 2,\n        \"samples\": [\n          0,\n          1\n        ],\n        \"semantic_type\": \"\",\n        \"description\": \"\"\n      }\n    }\n  ]\n}",
       "type": "dataframe",
       "variable_name": "x_train"
      },
      "text/html": [
       "\n",
       "  <div id=\"df-64fc70fb-91d0-40a6-836b-8a0dcd7c9a66\" class=\"colab-df-container\">\n",
       "    <div>\n",
       "<style scoped>\n",
       "    .dataframe tbody tr th:only-of-type {\n",
       "        vertical-align: middle;\n",
       "    }\n",
       "\n",
       "    .dataframe tbody tr th {\n",
       "        vertical-align: top;\n",
       "    }\n",
       "\n",
       "    .dataframe thead th {\n",
       "        text-align: right;\n",
       "    }\n",
       "</style>\n",
       "<table border=\"1\" class=\"dataframe\">\n",
       "  <thead>\n",
       "    <tr style=\"text-align: right;\">\n",
       "      <th></th>\n",
       "      <th>Previous CTC</th>\n",
       "      <th>Previous job change</th>\n",
       "      <th>Graduation Marks</th>\n",
       "      <th>EXP (Month)</th>\n",
       "      <th>metro_city</th>\n",
       "      <th>Tier_1</th>\n",
       "      <th>Tier_2</th>\n",
       "      <th>Tier_3</th>\n",
       "      <th>Role_Executive</th>\n",
       "      <th>Role_Manager</th>\n",
       "    </tr>\n",
       "  </thead>\n",
       "  <tbody>\n",
       "    <tr>\n",
       "      <th>1062</th>\n",
       "      <td>61410.0</td>\n",
       "      <td>4</td>\n",
       "      <td>83</td>\n",
       "      <td>59</td>\n",
       "      <td>0</td>\n",
       "      <td>1</td>\n",
       "      <td>0</td>\n",
       "      <td>0</td>\n",
       "      <td>0</td>\n",
       "      <td>1</td>\n",
       "    </tr>\n",
       "    <tr>\n",
       "      <th>215</th>\n",
       "      <td>59781.0</td>\n",
       "      <td>1</td>\n",
       "      <td>46</td>\n",
       "      <td>41</td>\n",
       "      <td>1</td>\n",
       "      <td>1</td>\n",
       "      <td>0</td>\n",
       "      <td>0</td>\n",
       "      <td>1</td>\n",
       "      <td>0</td>\n",
       "    </tr>\n",
       "    <tr>\n",
       "      <th>654</th>\n",
       "      <td>62521.0</td>\n",
       "      <td>1</td>\n",
       "      <td>70</td>\n",
       "      <td>59</td>\n",
       "      <td>0</td>\n",
       "      <td>1</td>\n",
       "      <td>0</td>\n",
       "      <td>0</td>\n",
       "      <td>1</td>\n",
       "      <td>0</td>\n",
       "    </tr>\n",
       "    <tr>\n",
       "      <th>55</th>\n",
       "      <td>66624.0</td>\n",
       "      <td>1</td>\n",
       "      <td>63</td>\n",
       "      <td>58</td>\n",
       "      <td>0</td>\n",
       "      <td>1</td>\n",
       "      <td>0</td>\n",
       "      <td>0</td>\n",
       "      <td>0</td>\n",
       "      <td>1</td>\n",
       "    </tr>\n",
       "    <tr>\n",
       "      <th>1187</th>\n",
       "      <td>54621.0</td>\n",
       "      <td>2</td>\n",
       "      <td>52</td>\n",
       "      <td>62</td>\n",
       "      <td>0</td>\n",
       "      <td>0</td>\n",
       "      <td>0</td>\n",
       "      <td>1</td>\n",
       "      <td>1</td>\n",
       "      <td>0</td>\n",
       "    </tr>\n",
       "    <tr>\n",
       "      <th>...</th>\n",
       "      <td>...</td>\n",
       "      <td>...</td>\n",
       "      <td>...</td>\n",
       "      <td>...</td>\n",
       "      <td>...</td>\n",
       "      <td>...</td>\n",
       "      <td>...</td>\n",
       "      <td>...</td>\n",
       "      <td>...</td>\n",
       "      <td>...</td>\n",
       "    </tr>\n",
       "    <tr>\n",
       "      <th>763</th>\n",
       "      <td>54660.0</td>\n",
       "      <td>3</td>\n",
       "      <td>43</td>\n",
       "      <td>27</td>\n",
       "      <td>0</td>\n",
       "      <td>0</td>\n",
       "      <td>1</td>\n",
       "      <td>0</td>\n",
       "      <td>1</td>\n",
       "      <td>0</td>\n",
       "    </tr>\n",
       "    <tr>\n",
       "      <th>835</th>\n",
       "      <td>58049.0</td>\n",
       "      <td>2</td>\n",
       "      <td>51</td>\n",
       "      <td>42</td>\n",
       "      <td>1</td>\n",
       "      <td>1</td>\n",
       "      <td>0</td>\n",
       "      <td>0</td>\n",
       "      <td>1</td>\n",
       "      <td>0</td>\n",
       "    </tr>\n",
       "    <tr>\n",
       "      <th>1216</th>\n",
       "      <td>52744.0</td>\n",
       "      <td>4</td>\n",
       "      <td>80</td>\n",
       "      <td>40</td>\n",
       "      <td>1</td>\n",
       "      <td>0</td>\n",
       "      <td>0</td>\n",
       "      <td>1</td>\n",
       "      <td>1</td>\n",
       "      <td>0</td>\n",
       "    </tr>\n",
       "    <tr>\n",
       "      <th>559</th>\n",
       "      <td>56519.0</td>\n",
       "      <td>1</td>\n",
       "      <td>64</td>\n",
       "      <td>19</td>\n",
       "      <td>0</td>\n",
       "      <td>1</td>\n",
       "      <td>0</td>\n",
       "      <td>0</td>\n",
       "      <td>1</td>\n",
       "      <td>0</td>\n",
       "    </tr>\n",
       "    <tr>\n",
       "      <th>684</th>\n",
       "      <td>40632.0</td>\n",
       "      <td>2</td>\n",
       "      <td>61</td>\n",
       "      <td>33</td>\n",
       "      <td>1</td>\n",
       "      <td>1</td>\n",
       "      <td>0</td>\n",
       "      <td>0</td>\n",
       "      <td>1</td>\n",
       "      <td>0</td>\n",
       "    </tr>\n",
       "  </tbody>\n",
       "</table>\n",
       "<p>1271 rows × 10 columns</p>\n",
       "</div>\n",
       "    <div class=\"colab-df-buttons\">\n",
       "\n",
       "  <div class=\"colab-df-container\">\n",
       "    <button class=\"colab-df-convert\" onclick=\"convertToInteractive('df-64fc70fb-91d0-40a6-836b-8a0dcd7c9a66')\"\n",
       "            title=\"Convert this dataframe to an interactive table.\"\n",
       "            style=\"display:none;\">\n",
       "\n",
       "  <svg xmlns=\"http://www.w3.org/2000/svg\" height=\"24px\" viewBox=\"0 -960 960 960\">\n",
       "    <path d=\"M120-120v-720h720v720H120Zm60-500h600v-160H180v160Zm220 220h160v-160H400v160Zm0 220h160v-160H400v160ZM180-400h160v-160H180v160Zm440 0h160v-160H620v160ZM180-180h160v-160H180v160Zm440 0h160v-160H620v160Z\"/>\n",
       "  </svg>\n",
       "    </button>\n",
       "\n",
       "  <style>\n",
       "    .colab-df-container {\n",
       "      display:flex;\n",
       "      gap: 12px;\n",
       "    }\n",
       "\n",
       "    .colab-df-convert {\n",
       "      background-color: #E8F0FE;\n",
       "      border: none;\n",
       "      border-radius: 50%;\n",
       "      cursor: pointer;\n",
       "      display: none;\n",
       "      fill: #1967D2;\n",
       "      height: 32px;\n",
       "      padding: 0 0 0 0;\n",
       "      width: 32px;\n",
       "    }\n",
       "\n",
       "    .colab-df-convert:hover {\n",
       "      background-color: #E2EBFA;\n",
       "      box-shadow: 0px 1px 2px rgba(60, 64, 67, 0.3), 0px 1px 3px 1px rgba(60, 64, 67, 0.15);\n",
       "      fill: #174EA6;\n",
       "    }\n",
       "\n",
       "    .colab-df-buttons div {\n",
       "      margin-bottom: 4px;\n",
       "    }\n",
       "\n",
       "    [theme=dark] .colab-df-convert {\n",
       "      background-color: #3B4455;\n",
       "      fill: #D2E3FC;\n",
       "    }\n",
       "\n",
       "    [theme=dark] .colab-df-convert:hover {\n",
       "      background-color: #434B5C;\n",
       "      box-shadow: 0px 1px 3px 1px rgba(0, 0, 0, 0.15);\n",
       "      filter: drop-shadow(0px 1px 2px rgba(0, 0, 0, 0.3));\n",
       "      fill: #FFFFFF;\n",
       "    }\n",
       "  </style>\n",
       "\n",
       "    <script>\n",
       "      const buttonEl =\n",
       "        document.querySelector('#df-64fc70fb-91d0-40a6-836b-8a0dcd7c9a66 button.colab-df-convert');\n",
       "      buttonEl.style.display =\n",
       "        google.colab.kernel.accessAllowed ? 'block' : 'none';\n",
       "\n",
       "      async function convertToInteractive(key) {\n",
       "        const element = document.querySelector('#df-64fc70fb-91d0-40a6-836b-8a0dcd7c9a66');\n",
       "        const dataTable =\n",
       "          await google.colab.kernel.invokeFunction('convertToInteractive',\n",
       "                                                    [key], {});\n",
       "        if (!dataTable) return;\n",
       "\n",
       "        const docLinkHtml = 'Like what you see? Visit the ' +\n",
       "          '<a target=\"_blank\" href=https://colab.research.google.com/notebooks/data_table.ipynb>data table notebook</a>'\n",
       "          + ' to learn more about interactive tables.';\n",
       "        element.innerHTML = '';\n",
       "        dataTable['output_type'] = 'display_data';\n",
       "        await google.colab.output.renderOutput(dataTable, element);\n",
       "        const docLink = document.createElement('div');\n",
       "        docLink.innerHTML = docLinkHtml;\n",
       "        element.appendChild(docLink);\n",
       "      }\n",
       "    </script>\n",
       "  </div>\n",
       "\n",
       "\n",
       "<div id=\"df-e1981a76-3bcc-425d-936e-61b431bf669f\">\n",
       "  <button class=\"colab-df-quickchart\" onclick=\"quickchart('df-e1981a76-3bcc-425d-936e-61b431bf669f')\"\n",
       "            title=\"Suggest charts\"\n",
       "            style=\"display:none;\">\n",
       "\n",
       "<svg xmlns=\"http://www.w3.org/2000/svg\" height=\"24px\"viewBox=\"0 0 24 24\"\n",
       "     width=\"24px\">\n",
       "    <g>\n",
       "        <path d=\"M19 3H5c-1.1 0-2 .9-2 2v14c0 1.1.9 2 2 2h14c1.1 0 2-.9 2-2V5c0-1.1-.9-2-2-2zM9 17H7v-7h2v7zm4 0h-2V7h2v10zm4 0h-2v-4h2v4z\"/>\n",
       "    </g>\n",
       "</svg>\n",
       "  </button>\n",
       "\n",
       "<style>\n",
       "  .colab-df-quickchart {\n",
       "      --bg-color: #E8F0FE;\n",
       "      --fill-color: #1967D2;\n",
       "      --hover-bg-color: #E2EBFA;\n",
       "      --hover-fill-color: #174EA6;\n",
       "      --disabled-fill-color: #AAA;\n",
       "      --disabled-bg-color: #DDD;\n",
       "  }\n",
       "\n",
       "  [theme=dark] .colab-df-quickchart {\n",
       "      --bg-color: #3B4455;\n",
       "      --fill-color: #D2E3FC;\n",
       "      --hover-bg-color: #434B5C;\n",
       "      --hover-fill-color: #FFFFFF;\n",
       "      --disabled-bg-color: #3B4455;\n",
       "      --disabled-fill-color: #666;\n",
       "  }\n",
       "\n",
       "  .colab-df-quickchart {\n",
       "    background-color: var(--bg-color);\n",
       "    border: none;\n",
       "    border-radius: 50%;\n",
       "    cursor: pointer;\n",
       "    display: none;\n",
       "    fill: var(--fill-color);\n",
       "    height: 32px;\n",
       "    padding: 0;\n",
       "    width: 32px;\n",
       "  }\n",
       "\n",
       "  .colab-df-quickchart:hover {\n",
       "    background-color: var(--hover-bg-color);\n",
       "    box-shadow: 0 1px 2px rgba(60, 64, 67, 0.3), 0 1px 3px 1px rgba(60, 64, 67, 0.15);\n",
       "    fill: var(--button-hover-fill-color);\n",
       "  }\n",
       "\n",
       "  .colab-df-quickchart-complete:disabled,\n",
       "  .colab-df-quickchart-complete:disabled:hover {\n",
       "    background-color: var(--disabled-bg-color);\n",
       "    fill: var(--disabled-fill-color);\n",
       "    box-shadow: none;\n",
       "  }\n",
       "\n",
       "  .colab-df-spinner {\n",
       "    border: 2px solid var(--fill-color);\n",
       "    border-color: transparent;\n",
       "    border-bottom-color: var(--fill-color);\n",
       "    animation:\n",
       "      spin 1s steps(1) infinite;\n",
       "  }\n",
       "\n",
       "  @keyframes spin {\n",
       "    0% {\n",
       "      border-color: transparent;\n",
       "      border-bottom-color: var(--fill-color);\n",
       "      border-left-color: var(--fill-color);\n",
       "    }\n",
       "    20% {\n",
       "      border-color: transparent;\n",
       "      border-left-color: var(--fill-color);\n",
       "      border-top-color: var(--fill-color);\n",
       "    }\n",
       "    30% {\n",
       "      border-color: transparent;\n",
       "      border-left-color: var(--fill-color);\n",
       "      border-top-color: var(--fill-color);\n",
       "      border-right-color: var(--fill-color);\n",
       "    }\n",
       "    40% {\n",
       "      border-color: transparent;\n",
       "      border-right-color: var(--fill-color);\n",
       "      border-top-color: var(--fill-color);\n",
       "    }\n",
       "    60% {\n",
       "      border-color: transparent;\n",
       "      border-right-color: var(--fill-color);\n",
       "    }\n",
       "    80% {\n",
       "      border-color: transparent;\n",
       "      border-right-color: var(--fill-color);\n",
       "      border-bottom-color: var(--fill-color);\n",
       "    }\n",
       "    90% {\n",
       "      border-color: transparent;\n",
       "      border-bottom-color: var(--fill-color);\n",
       "    }\n",
       "  }\n",
       "</style>\n",
       "\n",
       "  <script>\n",
       "    async function quickchart(key) {\n",
       "      const quickchartButtonEl =\n",
       "        document.querySelector('#' + key + ' button');\n",
       "      quickchartButtonEl.disabled = true;  // To prevent multiple clicks.\n",
       "      quickchartButtonEl.classList.add('colab-df-spinner');\n",
       "      try {\n",
       "        const charts = await google.colab.kernel.invokeFunction(\n",
       "            'suggestCharts', [key], {});\n",
       "      } catch (error) {\n",
       "        console.error('Error during call to suggestCharts:', error);\n",
       "      }\n",
       "      quickchartButtonEl.classList.remove('colab-df-spinner');\n",
       "      quickchartButtonEl.classList.add('colab-df-quickchart-complete');\n",
       "    }\n",
       "    (() => {\n",
       "      let quickchartButtonEl =\n",
       "        document.querySelector('#df-e1981a76-3bcc-425d-936e-61b431bf669f button');\n",
       "      quickchartButtonEl.style.display =\n",
       "        google.colab.kernel.accessAllowed ? 'block' : 'none';\n",
       "    })();\n",
       "  </script>\n",
       "</div>\n",
       "\n",
       "  <div id=\"id_fc58fbaa-6287-4c5d-95ce-d7f1e52d9052\">\n",
       "    <style>\n",
       "      .colab-df-generate {\n",
       "        background-color: #E8F0FE;\n",
       "        border: none;\n",
       "        border-radius: 50%;\n",
       "        cursor: pointer;\n",
       "        display: none;\n",
       "        fill: #1967D2;\n",
       "        height: 32px;\n",
       "        padding: 0 0 0 0;\n",
       "        width: 32px;\n",
       "      }\n",
       "\n",
       "      .colab-df-generate:hover {\n",
       "        background-color: #E2EBFA;\n",
       "        box-shadow: 0px 1px 2px rgba(60, 64, 67, 0.3), 0px 1px 3px 1px rgba(60, 64, 67, 0.15);\n",
       "        fill: #174EA6;\n",
       "      }\n",
       "\n",
       "      [theme=dark] .colab-df-generate {\n",
       "        background-color: #3B4455;\n",
       "        fill: #D2E3FC;\n",
       "      }\n",
       "\n",
       "      [theme=dark] .colab-df-generate:hover {\n",
       "        background-color: #434B5C;\n",
       "        box-shadow: 0px 1px 3px 1px rgba(0, 0, 0, 0.15);\n",
       "        filter: drop-shadow(0px 1px 2px rgba(0, 0, 0, 0.3));\n",
       "        fill: #FFFFFF;\n",
       "      }\n",
       "    </style>\n",
       "    <button class=\"colab-df-generate\" onclick=\"generateWithVariable('x_train')\"\n",
       "            title=\"Generate code using this dataframe.\"\n",
       "            style=\"display:none;\">\n",
       "\n",
       "  <svg xmlns=\"http://www.w3.org/2000/svg\" height=\"24px\"viewBox=\"0 0 24 24\"\n",
       "       width=\"24px\">\n",
       "    <path d=\"M7,19H8.4L18.45,9,17,7.55,7,17.6ZM5,21V16.75L18.45,3.32a2,2,0,0,1,2.83,0l1.4,1.43a1.91,1.91,0,0,1,.58,1.4,1.91,1.91,0,0,1-.58,1.4L9.25,21ZM18.45,9,17,7.55Zm-12,3A5.31,5.31,0,0,0,4.9,8.1,5.31,5.31,0,0,0,1,6.5,5.31,5.31,0,0,0,4.9,4.9,5.31,5.31,0,0,0,6.5,1,5.31,5.31,0,0,0,8.1,4.9,5.31,5.31,0,0,0,12,6.5,5.46,5.46,0,0,0,6.5,12Z\"/>\n",
       "  </svg>\n",
       "    </button>\n",
       "    <script>\n",
       "      (() => {\n",
       "      const buttonEl =\n",
       "        document.querySelector('#id_fc58fbaa-6287-4c5d-95ce-d7f1e52d9052 button.colab-df-generate');\n",
       "      buttonEl.style.display =\n",
       "        google.colab.kernel.accessAllowed ? 'block' : 'none';\n",
       "\n",
       "      buttonEl.onclick = () => {\n",
       "        google.colab.notebook.generateWithVariable('x_train');\n",
       "      }\n",
       "      })();\n",
       "    </script>\n",
       "  </div>\n",
       "\n",
       "    </div>\n",
       "  </div>\n"
      ],
      "text/plain": [
       "      Previous CTC  Previous job change  Graduation Marks  EXP (Month)  \\\n",
       "1062       61410.0                    4                83           59   \n",
       "215        59781.0                    1                46           41   \n",
       "654        62521.0                    1                70           59   \n",
       "55         66624.0                    1                63           58   \n",
       "1187       54621.0                    2                52           62   \n",
       "...            ...                  ...               ...          ...   \n",
       "763        54660.0                    3                43           27   \n",
       "835        58049.0                    2                51           42   \n",
       "1216       52744.0                    4                80           40   \n",
       "559        56519.0                    1                64           19   \n",
       "684        40632.0                    2                61           33   \n",
       "\n",
       "      metro_city  Tier_1  Tier_2  Tier_3  Role_Executive  Role_Manager  \n",
       "1062           0       1       0       0               0             1  \n",
       "215            1       1       0       0               1             0  \n",
       "654            0       1       0       0               1             0  \n",
       "55             0       1       0       0               0             1  \n",
       "1187           0       0       0       1               1             0  \n",
       "...          ...     ...     ...     ...             ...           ...  \n",
       "763            0       0       1       0               1             0  \n",
       "835            1       1       0       0               1             0  \n",
       "1216           1       0       0       1               1             0  \n",
       "559            0       1       0       0               1             0  \n",
       "684            1       1       0       0               1             0  \n",
       "\n",
       "[1271 rows x 10 columns]"
      ]
     },
     "execution_count": 34,
     "metadata": {},
     "output_type": "execute_result"
    }
   ],
   "source": [
    "x_train"
   ]
  },
  {
   "cell_type": "markdown",
   "id": "20e140d5",
   "metadata": {
    "id": "20e140d5"
   },
   "source": [
    "## Liniear Regression"
   ]
  },
  {
   "cell_type": "markdown",
   "id": "6adb59bd",
   "metadata": {
    "id": "6adb59bd"
   },
   "source": [
    "### Simple Regression Model"
   ]
  },
  {
   "cell_type": "code",
   "execution_count": 35,
   "id": "7ac791e6",
   "metadata": {
    "executionInfo": {
     "elapsed": 921,
     "status": "ok",
     "timestamp": 1714485988410,
     "user": {
      "displayName": "Shon G",
      "userId": "09069163652793577279"
     },
     "user_tz": -330
    },
    "id": "7ac791e6"
   },
   "outputs": [],
   "source": [
    "import statsmodels.api as sn\n",
    "from sklearn.linear_model import LinearRegression, Ridge, Lasso\n"
   ]
  },
  {
   "cell_type": "code",
   "execution_count": 36,
   "id": "d20591cc",
   "metadata": {
    "colab": {
     "base_uri": "https://localhost:8080/",
     "height": 452
    },
    "executionInfo": {
     "elapsed": 30,
     "status": "ok",
     "timestamp": 1714485988413,
     "user": {
      "displayName": "Shon G",
      "userId": "09069163652793577279"
     },
     "user_tz": -330
    },
    "id": "d20591cc",
    "outputId": "b741cff1-c5ae-4769-8253-28566d3fec64"
   },
   "outputs": [
    {
     "data": {
      "text/html": [
       "<table class=\"simpletable\">\n",
       "<caption>OLS Regression Results</caption>\n",
       "<tr>\n",
       "  <th>Dep. Variable:</th>           <td>CTC</td>       <th>  R-squared:         </th> <td>   0.091</td> \n",
       "</tr>\n",
       "<tr>\n",
       "  <th>Model:</th>                   <td>OLS</td>       <th>  Adj. R-squared:    </th> <td>   0.090</td> \n",
       "</tr>\n",
       "<tr>\n",
       "  <th>Method:</th>             <td>Least Squares</td>  <th>  F-statistic:       </th> <td>   158.2</td> \n",
       "</tr>\n",
       "<tr>\n",
       "  <th>Date:</th>             <td>Tue, 30 Apr 2024</td> <th>  Prob (F-statistic):</th> <td>1.16e-34</td> \n",
       "</tr>\n",
       "<tr>\n",
       "  <th>Time:</th>                 <td>14:06:27</td>     <th>  Log-Likelihood:    </th> <td> -17180.</td> \n",
       "</tr>\n",
       "<tr>\n",
       "  <th>No. Observations:</th>      <td>  1589</td>      <th>  AIC:               </th> <td>3.436e+04</td>\n",
       "</tr>\n",
       "<tr>\n",
       "  <th>Df Residuals:</th>          <td>  1587</td>      <th>  BIC:               </th> <td>3.437e+04</td>\n",
       "</tr>\n",
       "<tr>\n",
       "  <th>Df Model:</th>              <td>     1</td>      <th>                     </th>     <td> </td>    \n",
       "</tr>\n",
       "<tr>\n",
       "  <th>Covariance Type:</th>      <td>nonrobust</td>    <th>                     </th>     <td> </td>    \n",
       "</tr>\n",
       "</table>\n",
       "<table class=\"simpletable\">\n",
       "<tr>\n",
       "       <td></td>          <th>coef</th>     <th>std err</th>      <th>t</th>      <th>P>|t|</th>  <th>[0.025</th>    <th>0.975]</th>  \n",
       "</tr>\n",
       "<tr>\n",
       "  <th>const</th>       <td> 6.486e+04</td> <td>  886.559</td> <td>   73.164</td> <td> 0.000</td> <td> 6.31e+04</td> <td> 6.66e+04</td>\n",
       "</tr>\n",
       "<tr>\n",
       "  <th>EXP (Month)</th> <td>  268.6413</td> <td>   21.356</td> <td>   12.579</td> <td> 0.000</td> <td>  226.753</td> <td>  310.530</td>\n",
       "</tr>\n",
       "</table>\n",
       "<table class=\"simpletable\">\n",
       "<tr>\n",
       "  <th>Omnibus:</th>       <td>313.198</td> <th>  Durbin-Watson:     </th> <td>   2.080</td> \n",
       "</tr>\n",
       "<tr>\n",
       "  <th>Prob(Omnibus):</th> <td> 0.000</td>  <th>  Jarque-Bera (JB):  </th> <td> 540.318</td> \n",
       "</tr>\n",
       "<tr>\n",
       "  <th>Skew:</th>          <td> 1.256</td>  <th>  Prob(JB):          </th> <td>4.69e-118</td>\n",
       "</tr>\n",
       "<tr>\n",
       "  <th>Kurtosis:</th>      <td> 4.361</td>  <th>  Cond. No.          </th> <td>    122.</td> \n",
       "</tr>\n",
       "</table><br/><br/>Notes:<br/>[1] Standard Errors assume that the covariance matrix of the errors is correctly specified."
      ],
      "text/latex": [
       "\\begin{center}\n",
       "\\begin{tabular}{lclc}\n",
       "\\toprule\n",
       "\\textbf{Dep. Variable:}    &       CTC        & \\textbf{  R-squared:         } &     0.091   \\\\\n",
       "\\textbf{Model:}            &       OLS        & \\textbf{  Adj. R-squared:    } &     0.090   \\\\\n",
       "\\textbf{Method:}           &  Least Squares   & \\textbf{  F-statistic:       } &     158.2   \\\\\n",
       "\\textbf{Date:}             & Tue, 30 Apr 2024 & \\textbf{  Prob (F-statistic):} &  1.16e-34   \\\\\n",
       "\\textbf{Time:}             &     14:06:27     & \\textbf{  Log-Likelihood:    } &   -17180.   \\\\\n",
       "\\textbf{No. Observations:} &        1589      & \\textbf{  AIC:               } & 3.436e+04   \\\\\n",
       "\\textbf{Df Residuals:}     &        1587      & \\textbf{  BIC:               } & 3.437e+04   \\\\\n",
       "\\textbf{Df Model:}         &           1      & \\textbf{                     } &             \\\\\n",
       "\\textbf{Covariance Type:}  &    nonrobust     & \\textbf{                     } &             \\\\\n",
       "\\bottomrule\n",
       "\\end{tabular}\n",
       "\\begin{tabular}{lcccccc}\n",
       "                     & \\textbf{coef} & \\textbf{std err} & \\textbf{t} & \\textbf{P$> |$t$|$} & \\textbf{[0.025} & \\textbf{0.975]}  \\\\\n",
       "\\midrule\n",
       "\\textbf{const}       &    6.486e+04  &      886.559     &    73.164  &         0.000        &     6.31e+04    &     6.66e+04     \\\\\n",
       "\\textbf{EXP (Month)} &     268.6413  &       21.356     &    12.579  &         0.000        &      226.753    &      310.530     \\\\\n",
       "\\bottomrule\n",
       "\\end{tabular}\n",
       "\\begin{tabular}{lclc}\n",
       "\\textbf{Omnibus:}       & 313.198 & \\textbf{  Durbin-Watson:     } &     2.080  \\\\\n",
       "\\textbf{Prob(Omnibus):} &   0.000 & \\textbf{  Jarque-Bera (JB):  } &   540.318  \\\\\n",
       "\\textbf{Skew:}          &   1.256 & \\textbf{  Prob(JB):          } & 4.69e-118  \\\\\n",
       "\\textbf{Kurtosis:}      &   4.361 & \\textbf{  Cond. No.          } &      122.  \\\\\n",
       "\\bottomrule\n",
       "\\end{tabular}\n",
       "%\\caption{OLS Regression Results}\n",
       "\\end{center}\n",
       "\n",
       "Notes: \\newline\n",
       " [1] Standard Errors assume that the covariance matrix of the errors is correctly specified."
      ],
      "text/plain": [
       "<class 'statsmodels.iolib.summary.Summary'>\n",
       "\"\"\"\n",
       "                            OLS Regression Results                            \n",
       "==============================================================================\n",
       "Dep. Variable:                    CTC   R-squared:                       0.091\n",
       "Model:                            OLS   Adj. R-squared:                  0.090\n",
       "Method:                 Least Squares   F-statistic:                     158.2\n",
       "Date:                Tue, 30 Apr 2024   Prob (F-statistic):           1.16e-34\n",
       "Time:                        14:06:27   Log-Likelihood:                -17180.\n",
       "No. Observations:                1589   AIC:                         3.436e+04\n",
       "Df Residuals:                    1587   BIC:                         3.437e+04\n",
       "Df Model:                           1                                         \n",
       "Covariance Type:            nonrobust                                         \n",
       "===============================================================================\n",
       "                  coef    std err          t      P>|t|      [0.025      0.975]\n",
       "-------------------------------------------------------------------------------\n",
       "const        6.486e+04    886.559     73.164      0.000    6.31e+04    6.66e+04\n",
       "EXP (Month)   268.6413     21.356     12.579      0.000     226.753     310.530\n",
       "==============================================================================\n",
       "Omnibus:                      313.198   Durbin-Watson:                   2.080\n",
       "Prob(Omnibus):                  0.000   Jarque-Bera (JB):              540.318\n",
       "Skew:                           1.256   Prob(JB):                    4.69e-118\n",
       "Kurtosis:                       4.361   Cond. No.                         122.\n",
       "==============================================================================\n",
       "\n",
       "Notes:\n",
       "[1] Standard Errors assume that the covariance matrix of the errors is correctly specified.\n",
       "\"\"\""
      ]
     },
     "execution_count": 36,
     "metadata": {},
     "output_type": "execute_result"
    }
   ],
   "source": [
    "# Add a constant term to perform linear regression\n",
    "x = sn.add_constant(df['EXP (Month)'])\n",
    "\n",
    "# Create an Ordinary Least Squares (OLS) model and fit it to the data\n",
    "lm = sn.OLS(df['CTC'], x).fit()\n",
    "\n",
    "# Display a summary of the linear regression model, including statistics and coefficients.\n",
    "lm.summary()"
   ]
  },
  {
   "cell_type": "code",
   "execution_count": 37,
   "id": "75087b40",
   "metadata": {
    "colab": {
     "base_uri": "https://localhost:8080/",
     "height": 624
    },
    "executionInfo": {
     "elapsed": 1727,
     "status": "ok",
     "timestamp": 1714485990120,
     "user": {
      "displayName": "Shon G",
      "userId": "09069163652793577279"
     },
     "user_tz": -330
    },
    "id": "75087b40",
    "outputId": "1d9b139e-f2c1-4e95-ac4e-20c708462b3a"
   },
   "outputs": [
    {
     "data": {
      "text/plain": [
       "<seaborn.axisgrid.JointGrid at 0x7800fc6055a0>"
      ]
     },
     "execution_count": 37,
     "metadata": {},
     "output_type": "execute_result"
    },
    {
     "data": {
      "image/png": "[encoded data removed]",
      "text/plain": [
       "<Figure size 600x600 with 3 Axes>"
      ]
     },
     "metadata": {},
     "output_type": "display_data"
    }
   ],
   "source": [
    "sns.jointplot(x=df['EXP (Month)'], y = df['CTC'], data = df, kind = 'reg')"
   ]
  },
  {
   "cell_type": "markdown",
   "id": "d7102a4d",
   "metadata": {
    "id": "d7102a4d"
   },
   "source": [
    "### Multiple Linear Regression Model"
   ]
  },
  {
   "cell_type": "code",
   "execution_count": 38,
   "id": "06f3ccb5",
   "metadata": {
    "colab": {
     "base_uri": "https://localhost:8080/"
    },
    "executionInfo": {
     "elapsed": 67,
     "status": "ok",
     "timestamp": 1714485990123,
     "user": {
      "displayName": "Shon G",
      "userId": "09069163652793577279"
     },
     "user_tz": -330
    },
    "id": "06f3ccb5",
    "outputId": "61a4aa0d-de92-4346-8b07-139da17017a1"
   },
   "outputs": [
    {
     "name": "stdout",
     "output_type": "stream",
     "text": [
      "Linear Regression:\n",
      "R-squared (R^2) - Train: 0.5335, Test: 0.5367\n",
      "Mean Squared Error (MSE) - Train: 75026071.4080, Test: 68751323.9296\n",
      "\n"
     ]
    }
   ],
   "source": [
    "#Multiple linear Regression\n",
    "\n",
    "\n",
    "# Create a Linear Regression model\n",
    "lm_multi = LinearRegression()\n",
    "\n",
    "# Fit the model to the training data\n",
    "lm_multi.fit(x_train, y_train)\n",
    "\n",
    "# Predicting values for the training and test datasets using a multiple linear regression model.\n",
    "y_train_lm_multi = lm_multi.predict(x_train)\n",
    "y_test_lm_multi = lm_multi.predict(x_test)\n",
    "\n",
    "# Calculating the R-squared (coefficient of determination) scores for the training and test datasets.\n",
    "r2_lm_multi_train = r2_score(y_train, y_train_lm_multi)\n",
    "r2_lm_multi_test = r2_score(y_test, y_test_lm_multi)\n",
    "\n",
    "# Calculating the Mean Squared Error (MSE) for the training and test datasets.\n",
    "mse_lm_multi_train = mean_squared_error(y_train, y_train_lm_multi)\n",
    "mse_lm_multi_test = mean_squared_error(y_test, y_test_lm_multi)\n",
    "\n",
    "#print the result\n",
    "print(\"Linear Regression:\")\n",
    "print(f\"R-squared (R^2) - Train: {r2_lm_multi_train:.4f}, Test: {r2_lm_multi_test:.4f}\")\n",
    "print(f\"Mean Squared Error (MSE) - Train: {mse_lm_multi_train:.4f}, Test: {mse_lm_multi_test:.4f}\\n\")"
   ]
  },
  {
   "cell_type": "markdown",
   "id": "f5e6864a",
   "metadata": {
    "id": "f5e6864a"
   },
   "source": [
    "##### Multiple Linear Regression by using statsmodel api"
   ]
  },
  {
   "cell_type": "code",
   "execution_count": 39,
   "id": "a7ca7d87",
   "metadata": {
    "colab": {
     "base_uri": "https://localhost:8080/",
     "height": 679
    },
    "executionInfo": {
     "elapsed": 52,
     "status": "ok",
     "timestamp": 1714485990125,
     "user": {
      "displayName": "Shon G",
      "userId": "09069163652793577279"
     },
     "user_tz": -330
    },
    "id": "a7ca7d87",
    "outputId": "86c6efa2-57a1-46ee-e435-99c07c981b0d"
   },
   "outputs": [
    {
     "data": {
      "text/html": [
       "<table class=\"simpletable\">\n",
       "<caption>OLS Regression Results</caption>\n",
       "<tr>\n",
       "  <th>Dep. Variable:</th>           <td>CTC</td>       <th>  R-squared:         </th> <td>   0.535</td> \n",
       "</tr>\n",
       "<tr>\n",
       "  <th>Model:</th>                   <td>OLS</td>       <th>  Adj. R-squared:    </th> <td>   0.532</td> \n",
       "</tr>\n",
       "<tr>\n",
       "  <th>Method:</th>             <td>Least Squares</td>  <th>  F-statistic:       </th> <td>   227.1</td> \n",
       "</tr>\n",
       "<tr>\n",
       "  <th>Date:</th>             <td>Tue, 30 Apr 2024</td> <th>  Prob (F-statistic):</th> <td>3.36e-256</td>\n",
       "</tr>\n",
       "<tr>\n",
       "  <th>Time:</th>                 <td>14:06:28</td>     <th>  Log-Likelihood:    </th> <td> -16647.</td> \n",
       "</tr>\n",
       "<tr>\n",
       "  <th>No. Observations:</th>      <td>  1589</td>      <th>  AIC:               </th> <td>3.331e+04</td>\n",
       "</tr>\n",
       "<tr>\n",
       "  <th>Df Residuals:</th>          <td>  1580</td>      <th>  BIC:               </th> <td>3.336e+04</td>\n",
       "</tr>\n",
       "<tr>\n",
       "  <th>Df Model:</th>              <td>     8</td>      <th>                     </th>     <td> </td>    \n",
       "</tr>\n",
       "<tr>\n",
       "  <th>Covariance Type:</th>      <td>nonrobust</td>    <th>                     </th>     <td> </td>    \n",
       "</tr>\n",
       "</table>\n",
       "<table class=\"simpletable\">\n",
       "<tr>\n",
       "           <td></td>              <th>coef</th>     <th>std err</th>      <th>t</th>      <th>P>|t|</th>  <th>[0.025</th>    <th>0.975]</th>  \n",
       "</tr>\n",
       "<tr>\n",
       "  <th>const</th>               <td> 2.573e+04</td> <td> 1172.349</td> <td>   21.949</td> <td> 0.000</td> <td> 2.34e+04</td> <td>  2.8e+04</td>\n",
       "</tr>\n",
       "<tr>\n",
       "  <th>Previous CTC</th>        <td>    0.4105</td> <td>    0.033</td> <td>   12.542</td> <td> 0.000</td> <td>    0.346</td> <td>    0.475</td>\n",
       "</tr>\n",
       "<tr>\n",
       "  <th>Previous job change</th> <td>  125.3208</td> <td>  192.846</td> <td>    0.650</td> <td> 0.516</td> <td> -252.941</td> <td>  503.582</td>\n",
       "</tr>\n",
       "<tr>\n",
       "  <th>Graduation Marks</th>    <td>    6.6007</td> <td>   14.501</td> <td>    0.455</td> <td> 0.649</td> <td>  -21.843</td> <td>   35.044</td>\n",
       "</tr>\n",
       "<tr>\n",
       "  <th>EXP (Month)</th>         <td>  261.6302</td> <td>   15.458</td> <td>   16.925</td> <td> 0.000</td> <td>  231.309</td> <td>  291.951</td>\n",
       "</tr>\n",
       "<tr>\n",
       "  <th>metro_city</th>          <td>  368.3233</td> <td>  433.465</td> <td>    0.850</td> <td> 0.396</td> <td> -481.903</td> <td> 1218.550</td>\n",
       "</tr>\n",
       "<tr>\n",
       "  <th>Tier_1</th>              <td> 8859.9552</td> <td>  487.502</td> <td>   18.174</td> <td> 0.000</td> <td> 7903.737</td> <td> 9816.174</td>\n",
       "</tr>\n",
       "<tr>\n",
       "  <th>Tier_2</th>              <td> 8989.0489</td> <td>  499.819</td> <td>   17.985</td> <td> 0.000</td> <td> 8008.671</td> <td> 9969.426</td>\n",
       "</tr>\n",
       "<tr>\n",
       "  <th>Tier_3</th>              <td> 7883.2689</td> <td>  503.244</td> <td>   15.665</td> <td> 0.000</td> <td> 6896.173</td> <td> 8870.365</td>\n",
       "</tr>\n",
       "<tr>\n",
       "  <th>Role_Executive</th>      <td> 3121.2698</td> <td>  625.065</td> <td>    4.994</td> <td> 0.000</td> <td> 1895.226</td> <td> 4347.313</td>\n",
       "</tr>\n",
       "<tr>\n",
       "  <th>Role_Manager</th>        <td> 2.261e+04</td> <td>  662.859</td> <td>   34.111</td> <td> 0.000</td> <td> 2.13e+04</td> <td> 2.39e+04</td>\n",
       "</tr>\n",
       "</table>\n",
       "<table class=\"simpletable\">\n",
       "<tr>\n",
       "  <th>Omnibus:</th>       <td>48.290</td> <th>  Durbin-Watson:     </th> <td>   2.051</td>\n",
       "</tr>\n",
       "<tr>\n",
       "  <th>Prob(Omnibus):</th> <td> 0.000</td> <th>  Jarque-Bera (JB):  </th> <td>  53.258</td>\n",
       "</tr>\n",
       "<tr>\n",
       "  <th>Skew:</th>          <td> 0.405</td> <th>  Prob(JB):          </th> <td>2.72e-12</td>\n",
       "</tr>\n",
       "<tr>\n",
       "  <th>Kurtosis:</th>      <td> 3.384</td> <th>  Cond. No.          </th> <td>5.06e+20</td>\n",
       "</tr>\n",
       "</table><br/><br/>Notes:<br/>[1] Standard Errors assume that the covariance matrix of the errors is correctly specified.<br/>[2] The smallest eigenvalue is 1.94e-29. This might indicate that there are<br/>strong multicollinearity problems or that the design matrix is singular."
      ],
      "text/latex": [
       "\\begin{center}\n",
       "\\begin{tabular}{lclc}\n",
       "\\toprule\n",
       "\\textbf{Dep. Variable:}      &       CTC        & \\textbf{  R-squared:         } &     0.535   \\\\\n",
       "\\textbf{Model:}              &       OLS        & \\textbf{  Adj. R-squared:    } &     0.532   \\\\\n",
       "\\textbf{Method:}             &  Least Squares   & \\textbf{  F-statistic:       } &     227.1   \\\\\n",
       "\\textbf{Date:}               & Tue, 30 Apr 2024 & \\textbf{  Prob (F-statistic):} & 3.36e-256   \\\\\n",
       "\\textbf{Time:}               &     14:06:28     & \\textbf{  Log-Likelihood:    } &   -16647.   \\\\\n",
       "\\textbf{No. Observations:}   &        1589      & \\textbf{  AIC:               } & 3.331e+04   \\\\\n",
       "\\textbf{Df Residuals:}       &        1580      & \\textbf{  BIC:               } & 3.336e+04   \\\\\n",
       "\\textbf{Df Model:}           &           8      & \\textbf{                     } &             \\\\\n",
       "\\textbf{Covariance Type:}    &    nonrobust     & \\textbf{                     } &             \\\\\n",
       "\\bottomrule\n",
       "\\end{tabular}\n",
       "\\begin{tabular}{lcccccc}\n",
       "                             & \\textbf{coef} & \\textbf{std err} & \\textbf{t} & \\textbf{P$> |$t$|$} & \\textbf{[0.025} & \\textbf{0.975]}  \\\\\n",
       "\\midrule\n",
       "\\textbf{const}               &    2.573e+04  &     1172.349     &    21.949  &         0.000        &     2.34e+04    &      2.8e+04     \\\\\n",
       "\\textbf{Previous CTC}        &       0.4105  &        0.033     &    12.542  &         0.000        &        0.346    &        0.475     \\\\\n",
       "\\textbf{Previous job change} &     125.3208  &      192.846     &     0.650  &         0.516        &     -252.941    &      503.582     \\\\\n",
       "\\textbf{Graduation Marks}    &       6.6007  &       14.501     &     0.455  &         0.649        &      -21.843    &       35.044     \\\\\n",
       "\\textbf{EXP (Month)}         &     261.6302  &       15.458     &    16.925  &         0.000        &      231.309    &      291.951     \\\\\n",
       "\\textbf{metro\\_city}         &     368.3233  &      433.465     &     0.850  &         0.396        &     -481.903    &     1218.550     \\\\\n",
       "\\textbf{Tier\\_1}             &    8859.9552  &      487.502     &    18.174  &         0.000        &     7903.737    &     9816.174     \\\\\n",
       "\\textbf{Tier\\_2}             &    8989.0489  &      499.819     &    17.985  &         0.000        &     8008.671    &     9969.426     \\\\\n",
       "\\textbf{Tier\\_3}             &    7883.2689  &      503.244     &    15.665  &         0.000        &     6896.173    &     8870.365     \\\\\n",
       "\\textbf{Role\\_Executive}     &    3121.2698  &      625.065     &     4.994  &         0.000        &     1895.226    &     4347.313     \\\\\n",
       "\\textbf{Role\\_Manager}       &    2.261e+04  &      662.859     &    34.111  &         0.000        &     2.13e+04    &     2.39e+04     \\\\\n",
       "\\bottomrule\n",
       "\\end{tabular}\n",
       "\\begin{tabular}{lclc}\n",
       "\\textbf{Omnibus:}       & 48.290 & \\textbf{  Durbin-Watson:     } &    2.051  \\\\\n",
       "\\textbf{Prob(Omnibus):} &  0.000 & \\textbf{  Jarque-Bera (JB):  } &   53.258  \\\\\n",
       "\\textbf{Skew:}          &  0.405 & \\textbf{  Prob(JB):          } & 2.72e-12  \\\\\n",
       "\\textbf{Kurtosis:}      &  3.384 & \\textbf{  Cond. No.          } & 5.06e+20  \\\\\n",
       "\\bottomrule\n",
       "\\end{tabular}\n",
       "%\\caption{OLS Regression Results}\n",
       "\\end{center}\n",
       "\n",
       "Notes: \\newline\n",
       " [1] Standard Errors assume that the covariance matrix of the errors is correctly specified. \\newline\n",
       " [2] The smallest eigenvalue is 1.94e-29. This might indicate that there are \\newline\n",
       " strong multicollinearity problems or that the design matrix is singular."
      ],
      "text/plain": [
       "<class 'statsmodels.iolib.summary.Summary'>\n",
       "\"\"\"\n",
       "                            OLS Regression Results                            \n",
       "==============================================================================\n",
       "Dep. Variable:                    CTC   R-squared:                       0.535\n",
       "Model:                            OLS   Adj. R-squared:                  0.532\n",
       "Method:                 Least Squares   F-statistic:                     227.1\n",
       "Date:                Tue, 30 Apr 2024   Prob (F-statistic):          3.36e-256\n",
       "Time:                        14:06:28   Log-Likelihood:                -16647.\n",
       "No. Observations:                1589   AIC:                         3.331e+04\n",
       "Df Residuals:                    1580   BIC:                         3.336e+04\n",
       "Df Model:                           8                                         \n",
       "Covariance Type:            nonrobust                                         \n",
       "=======================================================================================\n",
       "                          coef    std err          t      P>|t|      [0.025      0.975]\n",
       "---------------------------------------------------------------------------------------\n",
       "const                2.573e+04   1172.349     21.949      0.000    2.34e+04     2.8e+04\n",
       "Previous CTC            0.4105      0.033     12.542      0.000       0.346       0.475\n",
       "Previous job change   125.3208    192.846      0.650      0.516    -252.941     503.582\n",
       "Graduation Marks        6.6007     14.501      0.455      0.649     -21.843      35.044\n",
       "EXP (Month)           261.6302     15.458     16.925      0.000     231.309     291.951\n",
       "metro_city            368.3233    433.465      0.850      0.396    -481.903    1218.550\n",
       "Tier_1               8859.9552    487.502     18.174      0.000    7903.737    9816.174\n",
       "Tier_2               8989.0489    499.819     17.985      0.000    8008.671    9969.426\n",
       "Tier_3               7883.2689    503.244     15.665      0.000    6896.173    8870.365\n",
       "Role_Executive       3121.2698    625.065      4.994      0.000    1895.226    4347.313\n",
       "Role_Manager         2.261e+04    662.859     34.111      0.000    2.13e+04    2.39e+04\n",
       "==============================================================================\n",
       "Omnibus:                       48.290   Durbin-Watson:                   2.051\n",
       "Prob(Omnibus):                  0.000   Jarque-Bera (JB):               53.258\n",
       "Skew:                           0.405   Prob(JB):                     2.72e-12\n",
       "Kurtosis:                       3.384   Cond. No.                     5.06e+20\n",
       "==============================================================================\n",
       "\n",
       "Notes:\n",
       "[1] Standard Errors assume that the covariance matrix of the errors is correctly specified.\n",
       "[2] The smallest eigenvalue is 1.94e-29. This might indicate that there are\n",
       "strong multicollinearity problems or that the design matrix is singular.\n",
       "\"\"\""
      ]
     },
     "execution_count": 39,
     "metadata": {},
     "output_type": "execute_result"
    }
   ],
   "source": [
    "# Add a constant term to perform linear regression\n",
    "x_const = sn.add_constant(x_multi)\n",
    "# Create an Ordinary Least Squares (OLS) model and fit it to the data\n",
    "lm = sn.OLS(y_multi, x_const).fit()\n",
    "\n",
    "# Display a summary of the linear regression model, including statistics and coefficients.\n",
    "lm.summary()"
   ]
  },
  {
   "cell_type": "markdown",
   "id": "e010e4e1",
   "metadata": {
    "id": "e010e4e1"
   },
   "source": [
    "## Ridge Regression"
   ]
  },
  {
   "cell_type": "markdown",
   "id": "6753d99d",
   "metadata": {
    "id": "6753d99d"
   },
   "source": [
    "#### Standardize data"
   ]
  },
  {
   "cell_type": "code",
   "execution_count": 40,
   "id": "93dff6c0",
   "metadata": {
    "executionInfo": {
     "elapsed": 49,
     "status": "ok",
     "timestamp": 1714485990129,
     "user": {
      "displayName": "Shon G",
      "userId": "09069163652793577279"
     },
     "user_tz": -330
    },
    "id": "93dff6c0"
   },
   "outputs": [],
   "source": [
    "\n",
    "\n",
    "# Standardize the data using StandardScaler from scikit-learn\n",
    "scaler = preprocessing.StandardScaler().fit(x_train)\n",
    "x_train_s = scaler.transform(x_train)\n",
    "x_test_s = scaler.transform(x_test)\n"
   ]
  },
  {
   "cell_type": "markdown",
   "id": "454b1262",
   "metadata": {
    "id": "454b1262"
   },
   "source": [
    "##### Ridge Regression Model"
   ]
  },
  {
   "cell_type": "code",
   "execution_count": 41,
   "id": "9c7800e4",
   "metadata": {
    "colab": {
     "base_uri": "https://localhost:8080/",
     "height": 643
    },
    "executionInfo": {
     "elapsed": 2557,
     "status": "ok",
     "timestamp": 1714485992640,
     "user": {
      "displayName": "Shon G",
      "userId": "09069163652793577279"
     },
     "user_tz": -330
    },
    "id": "9c7800e4",
    "outputId": "47806b3f-77ac-43a7-b3d4-c548e3193699"
   },
   "outputs": [
    {
     "data": {
      "text/plain": [
       "<seaborn.axisgrid.JointGrid at 0x7800fc2ebd00>"
      ]
     },
     "execution_count": 41,
     "metadata": {},
     "output_type": "execute_result"
    },
    {
     "data": {
      "image/png": "[encoded data removed]",
      "text/plain": [
       "<Figure size 600x600 with 3 Axes>"
      ]
     },
     "metadata": {},
     "output_type": "display_data"
    }
   ],
   "source": [
    "# Define a range of alpha values for Ridge regression\n",
    "param_range = np.logspace(-2, 8, 100)\n",
    "\n",
    "# Perform cross-validated validation curve to find the best alpha for Ridge regression\n",
    "train_scores, valid_scores = validation_curve(\n",
    "    Ridge(), x_train_s, y_train, param_name=\"alpha\", param_range=param_range, cv=5, scoring='r2')\n",
    "\n",
    "# Calculate mean R-squared scores for training and validation sets\n",
    "train_mean = np.mean(train_scores, axis = 1)\n",
    "test_mean = np.mean(valid_scores, axis = 1)\n",
    "\n",
    "# Create a joint plot to visualize the relationship between log(alpha) and R-squared\n",
    "sns.jointplot(x=np.log(param_range), y=test_mean)"
   ]
  },
  {
   "cell_type": "code",
   "execution_count": 42,
   "id": "033b2b5d",
   "metadata": {
    "colab": {
     "base_uri": "https://localhost:8080/",
     "height": 74
    },
    "executionInfo": {
     "elapsed": 39,
     "status": "ok",
     "timestamp": 1714485992642,
     "user": {
      "displayName": "Shon G",
      "userId": "09069163652793577279"
     },
     "user_tz": -330
    },
    "id": "033b2b5d",
    "outputId": "638a6971-38b3-4dc8-de25-1870e3f98b01"
   },
   "outputs": [
    {
     "data": {
      "text/html": [
       "<style>#sk-container-id-1 {color: black;background-color: white;}#sk-container-id-1 pre{padding: 0;}#sk-container-id-1 div.sk-toggleable {background-color: white;}#sk-container-id-1 label.sk-toggleable__label {cursor: pointer;display: block;width: 100%;margin-bottom: 0;padding: 0.3em;box-sizing: border-box;text-align: center;}#sk-container-id-1 label.sk-toggleable__label-arrow:before {content: \"▸\";float: left;margin-right: 0.25em;color: #696969;}#sk-container-id-1 label.sk-toggleable__label-arrow:hover:before {color: black;}#sk-container-id-1 div.sk-estimator:hover label.sk-toggleable__label-arrow:before {color: black;}#sk-container-id-1 div.sk-toggleable__content {max-height: 0;max-width: 0;overflow: hidden;text-align: left;background-color: #f0f8ff;}#sk-container-id-1 div.sk-toggleable__content pre {margin: 0.2em;color: black;border-radius: 0.25em;background-color: #f0f8ff;}#sk-container-id-1 input.sk-toggleable__control:checked~div.sk-toggleable__content {max-height: 200px;max-width: 100%;overflow: auto;}#sk-container-id-1 input.sk-toggleable__control:checked~label.sk-toggleable__label-arrow:before {content: \"▾\";}#sk-container-id-1 div.sk-estimator input.sk-toggleable__control:checked~label.sk-toggleable__label {background-color: #d4ebff;}#sk-container-id-1 div.sk-label input.sk-toggleable__control:checked~label.sk-toggleable__label {background-color: #d4ebff;}#sk-container-id-1 input.sk-hidden--visually {border: 0;clip: rect(1px 1px 1px 1px);clip: rect(1px, 1px, 1px, 1px);height: 1px;margin: -1px;overflow: hidden;padding: 0;position: absolute;width: 1px;}#sk-container-id-1 div.sk-estimator {font-family: monospace;background-color: #f0f8ff;border: 1px dotted black;border-radius: 0.25em;box-sizing: border-box;margin-bottom: 0.5em;}#sk-container-id-1 div.sk-estimator:hover {background-color: #d4ebff;}#sk-container-id-1 div.sk-parallel-item::after {content: \"\";width: 100%;border-bottom: 1px solid gray;flex-grow: 1;}#sk-container-id-1 div.sk-label:hover label.sk-toggleable__label {background-color: #d4ebff;}#sk-container-id-1 div.sk-serial::before {content: \"\";position: absolute;border-left: 1px solid gray;box-sizing: border-box;top: 0;bottom: 0;left: 50%;z-index: 0;}#sk-container-id-1 div.sk-serial {display: flex;flex-direction: column;align-items: center;background-color: white;padding-right: 0.2em;padding-left: 0.2em;position: relative;}#sk-container-id-1 div.sk-item {position: relative;z-index: 1;}#sk-container-id-1 div.sk-parallel {display: flex;align-items: stretch;justify-content: center;background-color: white;position: relative;}#sk-container-id-1 div.sk-item::before, #sk-container-id-1 div.sk-parallel-item::before {content: \"\";position: absolute;border-left: 1px solid gray;box-sizing: border-box;top: 0;bottom: 0;left: 50%;z-index: -1;}#sk-container-id-1 div.sk-parallel-item {display: flex;flex-direction: column;z-index: 1;position: relative;background-color: white;}#sk-container-id-1 div.sk-parallel-item:first-child::after {align-self: flex-end;width: 50%;}#sk-container-id-1 div.sk-parallel-item:last-child::after {align-self: flex-start;width: 50%;}#sk-container-id-1 div.sk-parallel-item:only-child::after {width: 0;}#sk-container-id-1 div.sk-dashed-wrapped {border: 1px dashed gray;margin: 0 0.4em 0.5em 0.4em;box-sizing: border-box;padding-bottom: 0.4em;background-color: white;}#sk-container-id-1 div.sk-label label {font-family: monospace;font-weight: bold;display: inline-block;line-height: 1.2em;}#sk-container-id-1 div.sk-label-container {text-align: center;}#sk-container-id-1 div.sk-container {/* jupyter's `normalize.less` sets `[hidden] { display: none; }` but bootstrap.min.css set `[hidden] { display: none !important; }` so we also need the `!important` here to be able to override the default hidden behavior on the sphinx rendered scikit-learn.org. See: https://github.com/scikit-learn/scikit-learn/issues/21755 */display: inline-block !important;position: relative;}#sk-container-id-1 div.sk-text-repr-fallback {display: none;}</style><div id=\"sk-container-id-1\" class=\"sk-top-container\"><div class=\"sk-text-repr-fallback\"><pre>Ridge(alpha=10.722672220103231)</pre><b>In a Jupyter environment, please rerun this cell to show the HTML representation or trust the notebook. <br />On GitHub, the HTML representation is unable to render, please try loading this page with nbviewer.org.</b></div><div class=\"sk-container\" hidden><div class=\"sk-item\"><div class=\"sk-estimator sk-toggleable\"><input class=\"sk-toggleable__control sk-hidden--visually\" id=\"sk-estimator-id-1\" type=\"checkbox\" checked><label for=\"sk-estimator-id-1\" class=\"sk-toggleable__label sk-toggleable__label-arrow\">Ridge</label><div class=\"sk-toggleable__content\"><pre>Ridge(alpha=10.722672220103231)</pre></div></div></div></div></div>"
      ],
      "text/plain": [
       "Ridge(alpha=10.722672220103231)"
      ]
     },
     "execution_count": 42,
     "metadata": {},
     "output_type": "execute_result"
    }
   ],
   "source": [
    "# Find the alpha value with the highest validation R-squared\n",
    "np.where(test_mean==max(test_mean))\n",
    "\n",
    "# Train a Ridge regression model with the best alpha\n",
    "lm_r_best = Ridge(alpha = param_range[30])\n",
    "lm_r_best.fit(x_train_s, y_train)"
   ]
  },
  {
   "cell_type": "markdown",
   "id": "55d761ad",
   "metadata": {
    "id": "55d761ad"
   },
   "source": [
    "##### Evaluate the model on the testing and training data"
   ]
  },
  {
   "cell_type": "code",
   "execution_count": 43,
   "id": "1c40d804",
   "metadata": {
    "executionInfo": {
     "elapsed": 36,
     "status": "ok",
     "timestamp": 1714485992643,
     "user": {
      "displayName": "Shon G",
      "userId": "09069163652793577279"
     },
     "user_tz": -330
    },
    "id": "1c40d804"
   },
   "outputs": [],
   "source": [
    "# Predicting values for the training and test datasets using a Ridge regression model with the best hyperparameters.\n",
    "y_train_lm_r_best = lm_r_best.predict(x_train_s)\n",
    "y_test_lm_r_best = lm_r_best.predict(x_test_s)\n",
    "\n",
    "# Calculating the R-squared (coefficient of determination) scores for the training and test datasets.\n",
    "r2_lm_r_best_train = r2_score(y_train, y_train_lm_r_best)\n",
    "r2_lm_r_best_test = r2_score(y_test, y_test_lm_r_best)\n",
    "\n",
    "# Calculating the Mean Squared Error (MSE) for the training and test datasets.\n",
    "mse_lm_r_best_train = mean_squared_error(y_train, y_train_lm_r_best)\n",
    "mse_lm_r_best_test = mean_squared_error(y_test, y_test_lm_r_best)"
   ]
  },
  {
   "cell_type": "code",
   "execution_count": 44,
   "id": "377807f3",
   "metadata": {
    "colab": {
     "base_uri": "https://localhost:8080/"
    },
    "executionInfo": {
     "elapsed": 35,
     "status": "ok",
     "timestamp": 1714485992644,
     "user": {
      "displayName": "Shon G",
      "userId": "09069163652793577279"
     },
     "user_tz": -330
    },
    "id": "377807f3",
    "outputId": "ba545340-0178-492c-e6dd-9ebc1b3dd615"
   },
   "outputs": [
    {
     "name": "stdout",
     "output_type": "stream",
     "text": [
      "Ridge Regression:\n",
      "R-squared (R^2) - Train: 0.5335, Test: 0.5366\n",
      "Mean Squared Error (MSE) - Train: 75028518.5878, Test: 68763923.8062\n",
      "\n"
     ]
    }
   ],
   "source": [
    "# Print the results\n",
    "print(\"Ridge Regression:\")\n",
    "print(f\"R-squared (R^2) - Train: {r2_lm_r_best_train:.4f}, Test: {r2_lm_r_best_test:.4f}\")\n",
    "print(f\"Mean Squared Error (MSE) - Train: {mse_lm_r_best_train:.4f}, Test: {mse_lm_r_best_test:.4f}\\n\")"
   ]
  },
  {
   "cell_type": "markdown",
   "id": "1a94e9c6",
   "metadata": {
    "id": "1a94e9c6"
   },
   "source": [
    "## Lasso regression"
   ]
  },
  {
   "cell_type": "code",
   "execution_count": 45,
   "id": "a7b4b124",
   "metadata": {
    "colab": {
     "base_uri": "https://localhost:8080/",
     "height": 643
    },
    "executionInfo": {
     "elapsed": 4526,
     "status": "ok",
     "timestamp": 1714485997149,
     "user": {
      "displayName": "Shon G",
      "userId": "09069163652793577279"
     },
     "user_tz": -330
    },
    "id": "a7b4b124",
    "outputId": "49bef481-e75e-4de6-bb1a-e78ce9ddc10a"
   },
   "outputs": [
    {
     "data": {
      "text/plain": [
       "<seaborn.axisgrid.JointGrid at 0x7800fc275540>"
      ]
     },
     "execution_count": 45,
     "metadata": {},
     "output_type": "execute_result"
    },
    {
     "data": {
      "image/png": "[encoded data removed]",
      "text/plain": [
       "<Figure size 600x600 with 3 Axes>"
      ]
     },
     "metadata": {},
     "output_type": "display_data"
    }
   ],
   "source": [
    "# Define a range of alpha values for Lasso regression\n",
    "param_range2 = np.logspace(-2,8,100)\n",
    "\n",
    "# Perform cross-validated validation curve to find the best alpha for Lasso regression\n",
    "train_score_l, valid_score_l = validation_curve(Lasso(), x_train_s, y_train, param_name=\"alpha\", param_range = param_range2, cv=5, scoring='r2')\n",
    "\n",
    "# Calculate mean R-squared scores for training and validation sets with Lasso regression\n",
    "train_mean_l = np.mean(train_score_l, axis=1)\n",
    "test_mean_l = np.mean(valid_score_l, axis=1)\n",
    "\n",
    "#Create a joint plot to visualize the relationship between log(alpha) and R-squared\n",
    "sns.jointplot(x=np.log(param_range2), y=test_mean_l)"
   ]
  },
  {
   "cell_type": "code",
   "execution_count": 46,
   "id": "60b775d9",
   "metadata": {
    "colab": {
     "base_uri": "https://localhost:8080/",
     "height": 74
    },
    "executionInfo": {
     "elapsed": 89,
     "status": "ok",
     "timestamp": 1714485997151,
     "user": {
      "displayName": "Shon G",
      "userId": "09069163652793577279"
     },
     "user_tz": -330
    },
    "id": "60b775d9",
    "outputId": "67ad9171-3f27-41fe-98d7-b0e91277539f",
    "scrolled": true
   },
   "outputs": [
    {
     "data": {
      "text/html": [
       "<style>#sk-container-id-2 {color: black;background-color: white;}#sk-container-id-2 pre{padding: 0;}#sk-container-id-2 div.sk-toggleable {background-color: white;}#sk-container-id-2 label.sk-toggleable__label {cursor: pointer;display: block;width: 100%;margin-bottom: 0;padding: 0.3em;box-sizing: border-box;text-align: center;}#sk-container-id-2 label.sk-toggleable__label-arrow:before {content: \"▸\";float: left;margin-right: 0.25em;color: #696969;}#sk-container-id-2 label.sk-toggleable__label-arrow:hover:before {color: black;}#sk-container-id-2 div.sk-estimator:hover label.sk-toggleable__label-arrow:before {color: black;}#sk-container-id-2 div.sk-toggleable__content {max-height: 0;max-width: 0;overflow: hidden;text-align: left;background-color: #f0f8ff;}#sk-container-id-2 div.sk-toggleable__content pre {margin: 0.2em;color: black;border-radius: 0.25em;background-color: #f0f8ff;}#sk-container-id-2 input.sk-toggleable__control:checked~div.sk-toggleable__content {max-height: 200px;max-width: 100%;overflow: auto;}#sk-container-id-2 input.sk-toggleable__control:checked~label.sk-toggleable__label-arrow:before {content: \"▾\";}#sk-container-id-2 div.sk-estimator input.sk-toggleable__control:checked~label.sk-toggleable__label {background-color: #d4ebff;}#sk-container-id-2 div.sk-label input.sk-toggleable__control:checked~label.sk-toggleable__label {background-color: #d4ebff;}#sk-container-id-2 input.sk-hidden--visually {border: 0;clip: rect(1px 1px 1px 1px);clip: rect(1px, 1px, 1px, 1px);height: 1px;margin: -1px;overflow: hidden;padding: 0;position: absolute;width: 1px;}#sk-container-id-2 div.sk-estimator {font-family: monospace;background-color: #f0f8ff;border: 1px dotted black;border-radius: 0.25em;box-sizing: border-box;margin-bottom: 0.5em;}#sk-container-id-2 div.sk-estimator:hover {background-color: #d4ebff;}#sk-container-id-2 div.sk-parallel-item::after {content: \"\";width: 100%;border-bottom: 1px solid gray;flex-grow: 1;}#sk-container-id-2 div.sk-label:hover label.sk-toggleable__label {background-color: #d4ebff;}#sk-container-id-2 div.sk-serial::before {content: \"\";position: absolute;border-left: 1px solid gray;box-sizing: border-box;top: 0;bottom: 0;left: 50%;z-index: 0;}#sk-container-id-2 div.sk-serial {display: flex;flex-direction: column;align-items: center;background-color: white;padding-right: 0.2em;padding-left: 0.2em;position: relative;}#sk-container-id-2 div.sk-item {position: relative;z-index: 1;}#sk-container-id-2 div.sk-parallel {display: flex;align-items: stretch;justify-content: center;background-color: white;position: relative;}#sk-container-id-2 div.sk-item::before, #sk-container-id-2 div.sk-parallel-item::before {content: \"\";position: absolute;border-left: 1px solid gray;box-sizing: border-box;top: 0;bottom: 0;left: 50%;z-index: -1;}#sk-container-id-2 div.sk-parallel-item {display: flex;flex-direction: column;z-index: 1;position: relative;background-color: white;}#sk-container-id-2 div.sk-parallel-item:first-child::after {align-self: flex-end;width: 50%;}#sk-container-id-2 div.sk-parallel-item:last-child::after {align-self: flex-start;width: 50%;}#sk-container-id-2 div.sk-parallel-item:only-child::after {width: 0;}#sk-container-id-2 div.sk-dashed-wrapped {border: 1px dashed gray;margin: 0 0.4em 0.5em 0.4em;box-sizing: border-box;padding-bottom: 0.4em;background-color: white;}#sk-container-id-2 div.sk-label label {font-family: monospace;font-weight: bold;display: inline-block;line-height: 1.2em;}#sk-container-id-2 div.sk-label-container {text-align: center;}#sk-container-id-2 div.sk-container {/* jupyter's `normalize.less` sets `[hidden] { display: none; }` but bootstrap.min.css set `[hidden] { display: none !important; }` so we also need the `!important` here to be able to override the default hidden behavior on the sphinx rendered scikit-learn.org. See: https://github.com/scikit-learn/scikit-learn/issues/21755 */display: inline-block !important;position: relative;}#sk-container-id-2 div.sk-text-repr-fallback {display: none;}</style><div id=\"sk-container-id-2\" class=\"sk-top-container\"><div class=\"sk-text-repr-fallback\"><pre>Lasso(alpha=86.97490026177834)</pre><b>In a Jupyter environment, please rerun this cell to show the HTML representation or trust the notebook. <br />On GitHub, the HTML representation is unable to render, please try loading this page with nbviewer.org.</b></div><div class=\"sk-container\" hidden><div class=\"sk-item\"><div class=\"sk-estimator sk-toggleable\"><input class=\"sk-toggleable__control sk-hidden--visually\" id=\"sk-estimator-id-2\" type=\"checkbox\" checked><label for=\"sk-estimator-id-2\" class=\"sk-toggleable__label sk-toggleable__label-arrow\">Lasso</label><div class=\"sk-toggleable__content\"><pre>Lasso(alpha=86.97490026177834)</pre></div></div></div></div></div>"
      ],
      "text/plain": [
       "Lasso(alpha=86.97490026177834)"
      ]
     },
     "execution_count": 46,
     "metadata": {},
     "output_type": "execute_result"
    }
   ],
   "source": [
    "# Identify the alpha value with the highest R-squared\n",
    "np.where(test_mean_l==max(test_mean_l))\n",
    "\n",
    "# Train a Lasso regression model with the best alpha\n",
    "lm_l_best = Lasso(alpha = param_range2[39])\n",
    "lm_l_best.fit(x_train_s, y_train)"
   ]
  },
  {
   "cell_type": "markdown",
   "id": "d1f15d66",
   "metadata": {
    "id": "d1f15d66"
   },
   "source": [
    "##### Evaluate the Lasso model on the testing and training data"
   ]
  },
  {
   "cell_type": "code",
   "execution_count": 47,
   "id": "9e65b0b1",
   "metadata": {
    "executionInfo": {
     "elapsed": 85,
     "status": "ok",
     "timestamp": 1714485997152,
     "user": {
      "displayName": "Shon G",
      "userId": "09069163652793577279"
     },
     "user_tz": -330
    },
    "id": "9e65b0b1"
   },
   "outputs": [],
   "source": [
    "# Predicting values for the training and test datasets using a Lasso regression model with the best hyperparameters.\n",
    "y_train_lm_l_best = lm_l_best.predict(x_train_s)\n",
    "y_test_lm_l_best = lm_l_best.predict(x_test_s)\n",
    "\n",
    "# Calculating the R-squared (coefficient of determination) scores for the training and test datasets.\n",
    "r2_lm_l_best_train = r2_score(y_train, y_train_lm_l_best)\n",
    "r2_lm_l_best_test = r2_score(y_test, y_test_lm_l_best)\n",
    "\n",
    "# Calculating the Mean Squared Error (MSE) for the training and test datasets.\n",
    "mse_lm_l_best_train = mean_squared_error(y_train, y_train_lm_l_best)\n",
    "mse_lm_l_best_test = mean_squared_error(y_test, y_test_lm_l_best)"
   ]
  },
  {
   "cell_type": "code",
   "execution_count": 48,
   "id": "b1d97767",
   "metadata": {
    "colab": {
     "base_uri": "https://localhost:8080/"
    },
    "executionInfo": {
     "elapsed": 85,
     "status": "ok",
     "timestamp": 1714485997154,
     "user": {
      "displayName": "Shon G",
      "userId": "09069163652793577279"
     },
     "user_tz": -330
    },
    "id": "b1d97767",
    "outputId": "989e8ab5-2a50-452b-de09-24581ccfe81e"
   },
   "outputs": [
    {
     "name": "stdout",
     "output_type": "stream",
     "text": [
      "Lasso Regression:\n",
      "R-squared (R^2) - Train: 0.5332, Test: 0.5374\n",
      "Mean Squared Error (MSE) - Train: 75080196.9627, Test: 68643390.1817\n",
      "\n"
     ]
    }
   ],
   "source": [
    "# Print the results\n",
    "print(\"Lasso Regression:\")\n",
    "print(f\"R-squared (R^2) - Train: {r2_lm_l_best_train:.4f}, Test: {r2_lm_l_best_test:.4f}\")\n",
    "print(f\"Mean Squared Error (MSE) - Train: {mse_lm_l_best_train:.4f}, Test: {mse_lm_l_best_test:.4f}\\n\")"
   ]
  },
  {
   "cell_type": "markdown",
   "id": "c92a72af",
   "metadata": {
    "id": "c92a72af"
   },
   "source": [
    "## Decision Tree Regression"
   ]
  },
  {
   "cell_type": "code",
   "execution_count": 49,
   "id": "5l717ValQo4R",
   "metadata": {
    "executionInfo": {
     "elapsed": 70,
     "status": "ok",
     "timestamp": 1714485997154,
     "user": {
      "displayName": "Shon G",
      "userId": "09069163652793577279"
     },
     "user_tz": -330
    },
    "id": "5l717ValQo4R"
   },
   "outputs": [],
   "source": [
    "from sklearn import tree"
   ]
  },
  {
   "cell_type": "code",
   "execution_count": 50,
   "id": "8f475485",
   "metadata": {
    "colab": {
     "base_uri": "https://localhost:8080/",
     "height": 74
    },
    "executionInfo": {
     "elapsed": 69,
     "status": "ok",
     "timestamp": 1714485997155,
     "user": {
      "displayName": "Shon G",
      "userId": "09069163652793577279"
     },
     "user_tz": -330
    },
    "id": "8f475485",
    "outputId": "85ddfd9d-0618-478b-ccc9-e574e051b386"
   },
   "outputs": [
    {
     "data": {
      "text/html": [
       "<style>#sk-container-id-3 {color: black;background-color: white;}#sk-container-id-3 pre{padding: 0;}#sk-container-id-3 div.sk-toggleable {background-color: white;}#sk-container-id-3 label.sk-toggleable__label {cursor: pointer;display: block;width: 100%;margin-bottom: 0;padding: 0.3em;box-sizing: border-box;text-align: center;}#sk-container-id-3 label.sk-toggleable__label-arrow:before {content: \"▸\";float: left;margin-right: 0.25em;color: #696969;}#sk-container-id-3 label.sk-toggleable__label-arrow:hover:before {color: black;}#sk-container-id-3 div.sk-estimator:hover label.sk-toggleable__label-arrow:before {color: black;}#sk-container-id-3 div.sk-toggleable__content {max-height: 0;max-width: 0;overflow: hidden;text-align: left;background-color: #f0f8ff;}#sk-container-id-3 div.sk-toggleable__content pre {margin: 0.2em;color: black;border-radius: 0.25em;background-color: #f0f8ff;}#sk-container-id-3 input.sk-toggleable__control:checked~div.sk-toggleable__content {max-height: 200px;max-width: 100%;overflow: auto;}#sk-container-id-3 input.sk-toggleable__control:checked~label.sk-toggleable__label-arrow:before {content: \"▾\";}#sk-container-id-3 div.sk-estimator input.sk-toggleable__control:checked~label.sk-toggleable__label {background-color: #d4ebff;}#sk-container-id-3 div.sk-label input.sk-toggleable__control:checked~label.sk-toggleable__label {background-color: #d4ebff;}#sk-container-id-3 input.sk-hidden--visually {border: 0;clip: rect(1px 1px 1px 1px);clip: rect(1px, 1px, 1px, 1px);height: 1px;margin: -1px;overflow: hidden;padding: 0;position: absolute;width: 1px;}#sk-container-id-3 div.sk-estimator {font-family: monospace;background-color: #f0f8ff;border: 1px dotted black;border-radius: 0.25em;box-sizing: border-box;margin-bottom: 0.5em;}#sk-container-id-3 div.sk-estimator:hover {background-color: #d4ebff;}#sk-container-id-3 div.sk-parallel-item::after {content: \"\";width: 100%;border-bottom: 1px solid gray;flex-grow: 1;}#sk-container-id-3 div.sk-label:hover label.sk-toggleable__label {background-color: #d4ebff;}#sk-container-id-3 div.sk-serial::before {content: \"\";position: absolute;border-left: 1px solid gray;box-sizing: border-box;top: 0;bottom: 0;left: 50%;z-index: 0;}#sk-container-id-3 div.sk-serial {display: flex;flex-direction: column;align-items: center;background-color: white;padding-right: 0.2em;padding-left: 0.2em;position: relative;}#sk-container-id-3 div.sk-item {position: relative;z-index: 1;}#sk-container-id-3 div.sk-parallel {display: flex;align-items: stretch;justify-content: center;background-color: white;position: relative;}#sk-container-id-3 div.sk-item::before, #sk-container-id-3 div.sk-parallel-item::before {content: \"\";position: absolute;border-left: 1px solid gray;box-sizing: border-box;top: 0;bottom: 0;left: 50%;z-index: -1;}#sk-container-id-3 div.sk-parallel-item {display: flex;flex-direction: column;z-index: 1;position: relative;background-color: white;}#sk-container-id-3 div.sk-parallel-item:first-child::after {align-self: flex-end;width: 50%;}#sk-container-id-3 div.sk-parallel-item:last-child::after {align-self: flex-start;width: 50%;}#sk-container-id-3 div.sk-parallel-item:only-child::after {width: 0;}#sk-container-id-3 div.sk-dashed-wrapped {border: 1px dashed gray;margin: 0 0.4em 0.5em 0.4em;box-sizing: border-box;padding-bottom: 0.4em;background-color: white;}#sk-container-id-3 div.sk-label label {font-family: monospace;font-weight: bold;display: inline-block;line-height: 1.2em;}#sk-container-id-3 div.sk-label-container {text-align: center;}#sk-container-id-3 div.sk-container {/* jupyter's `normalize.less` sets `[hidden] { display: none; }` but bootstrap.min.css set `[hidden] { display: none !important; }` so we also need the `!important` here to be able to override the default hidden behavior on the sphinx rendered scikit-learn.org. See: https://github.com/scikit-learn/scikit-learn/issues/21755 */display: inline-block !important;position: relative;}#sk-container-id-3 div.sk-text-repr-fallback {display: none;}</style><div id=\"sk-container-id-3\" class=\"sk-top-container\"><div class=\"sk-text-repr-fallback\"><pre>DecisionTreeRegressor(max_depth=3)</pre><b>In a Jupyter environment, please rerun this cell to show the HTML representation or trust the notebook. <br />On GitHub, the HTML representation is unable to render, please try loading this page with nbviewer.org.</b></div><div class=\"sk-container\" hidden><div class=\"sk-item\"><div class=\"sk-estimator sk-toggleable\"><input class=\"sk-toggleable__control sk-hidden--visually\" id=\"sk-estimator-id-3\" type=\"checkbox\" checked><label for=\"sk-estimator-id-3\" class=\"sk-toggleable__label sk-toggleable__label-arrow\">DecisionTreeRegressor</label><div class=\"sk-toggleable__content\"><pre>DecisionTreeRegressor(max_depth=3)</pre></div></div></div></div></div>"
      ],
      "text/plain": [
       "DecisionTreeRegressor(max_depth=3)"
      ]
     },
     "execution_count": 50,
     "metadata": {},
     "output_type": "execute_result"
    }
   ],
   "source": [
    "\n",
    "\n",
    "# Create a DecisionTreeRegressor with a maximum depth of 3 and fit it to the training data\n",
    "regtree = tree.DecisionTreeRegressor(max_depth = 3)\n",
    "regtree.fit(x_train, y_train)"
   ]
  },
  {
   "cell_type": "code",
   "execution_count": 51,
   "id": "5070b378",
   "metadata": {
    "executionInfo": {
     "elapsed": 67,
     "status": "ok",
     "timestamp": 1714485997158,
     "user": {
      "displayName": "Shon G",
      "userId": "09069163652793577279"
     },
     "user_tz": -330
    },
    "id": "5070b378"
   },
   "outputs": [],
   "source": [
    "# Predicting values for the training and test datasets using a regression tree model.\n",
    "y_train_regtree = regtree.predict(x_train)\n",
    "y_test_regtree = regtree.predict(x_test)\n",
    "\n",
    "# Calculating the R-squared (coefficient of determination) scores for the training and test datasets.\n",
    "r2_regtree_train = r2_score(y_train, y_train_regtree)\n",
    "r2_regtree_test = r2_score(y_test, y_test_regtree)\n",
    "\n",
    "# Calculating the Mean Squared Error (MSE) for the training and test datasets.\n",
    "mse_regtree_train = mean_squared_error(y_train, y_train_regtree)\n",
    "mse_regtree_test = mean_squared_error(y_test, y_test_regtree)\n"
   ]
  },
  {
   "cell_type": "code",
   "execution_count": 52,
   "id": "3bd491c4",
   "metadata": {
    "colab": {
     "base_uri": "https://localhost:8080/"
    },
    "executionInfo": {
     "elapsed": 66,
     "status": "ok",
     "timestamp": 1714485997159,
     "user": {
      "displayName": "Shon G",
      "userId": "09069163652793577279"
     },
     "user_tz": -330
    },
    "id": "3bd491c4",
    "outputId": "611e8c9d-e9c7-431a-bdaf-2085ea69baad"
   },
   "outputs": [
    {
     "name": "stdout",
     "output_type": "stream",
     "text": [
      "Decision Tree Regression:\n",
      "R-squared (R^2) - Train: 0.6137, Test: 0.5928\n",
      "Mean Squared Error (MSE) - Train: 62125086.3121, Test: 60424631.0261\n",
      "\n"
     ]
    }
   ],
   "source": [
    "# Print the results\n",
    "print(\"Decision Tree Regression:\")\n",
    "print(f\"R-squared (R^2) - Train: {r2_regtree_train:.4f}, Test: {r2_regtree_test:.4f}\")\n",
    "print(f\"Mean Squared Error (MSE) - Train: {mse_regtree_train:.4f}, Test: {mse_regtree_test:.4f}\\n\")"
   ]
  },
  {
   "cell_type": "code",
   "execution_count": 53,
   "id": "KRkU4XyDRgA-",
   "metadata": {
    "executionInfo": {
     "elapsed": 55,
     "status": "ok",
     "timestamp": 1714485997160,
     "user": {
      "displayName": "Shon G",
      "userId": "09069163652793577279"
     },
     "user_tz": -330
    },
    "id": "KRkU4XyDRgA-"
   },
   "outputs": [],
   "source": [
    "from IPython.display import Image\n",
    "import pydotplus\n"
   ]
  },
  {
   "cell_type": "code",
   "execution_count": 54,
   "id": "b521d915",
   "metadata": {
    "colab": {
     "base_uri": "https://localhost:8080/",
     "height": 313
    },
    "executionInfo": {
     "elapsed": 1219,
     "status": "ok",
     "timestamp": 1714485998327,
     "user": {
      "displayName": "Shon G",
      "userId": "09069163652793577279"
     },
     "user_tz": -330
    },
    "id": "b521d915",
    "outputId": "f72969c9-3846-484e-fdf4-0d8cfcba0dce"
   },
   "outputs": [
    {
     "data": {
      "image/png": "[encoded data removed]",
      "text/plain": [
       "<IPython.core.display.Image object>"
      ]
     },
     "execution_count": 54,
     "metadata": {},
     "output_type": "execute_result"
    }
   ],
   "source": [
    "# Export the decision tree as a graphical visualization\n",
    "dot_data = tree.export_graphviz(regtree, out_file = None)\n",
    "graph = pydotplus.graph_from_dot_data(dot_data)\n",
    "\n",
    "# Display the decision tree as an image\n",
    "Image(graph.create_png())"
   ]
  },
  {
   "cell_type": "markdown",
   "id": "6576e8ae",
   "metadata": {
    "id": "6576e8ae"
   },
   "source": [
    "## Decision Tree Regression with GridSearchCV"
   ]
  },
  {
   "cell_type": "code",
   "execution_count": 56,
   "id": "raE0l2ZvRrdl",
   "metadata": {
    "executionInfo": {
     "elapsed": 4,
     "status": "ok",
     "timestamp": 1714486017335,
     "user": {
      "displayName": "Shon G",
      "userId": "09069163652793577279"
     },
     "user_tz": -330
    },
    "id": "raE0l2ZvRrdl"
   },
   "outputs": [],
   "source": [
    "from sklearn.model_selection import GridSearchCV, cross_val_score\n"
   ]
  },
  {
   "cell_type": "code",
   "execution_count": 57,
   "id": "d4449f13",
   "metadata": {
    "colab": {
     "base_uri": "https://localhost:8080/"
    },
    "executionInfo": {
     "elapsed": 6687,
     "status": "ok",
     "timestamp": 1714486025632,
     "user": {
      "displayName": "Shon G",
      "userId": "09069163652793577279"
     },
     "user_tz": -330
    },
    "id": "d4449f13",
    "outputId": "b15289ed-ffb3-4fd1-fbcd-05f14f2c6f1e"
   },
   "outputs": [
    {
     "name": "stdout",
     "output_type": "stream",
     "text": [
      "Best Hyperparameters:  {'max_depth': 4, 'min_samples_leaf': 1, 'min_samples_split': 2}\n",
      "R-squared (R2) for Training Data: 0.6397831325660944\n",
      "R-squared (R2) for Testing Data: 0.603220439065417\n",
      "Mean Squared Error (MSE) for Training Data: 57933285.64360235\n",
      "Mean Squared Error (MSE) for Testing Data: 58875901.69009934\n"
     ]
    }
   ],
   "source": [
    "\n",
    "# Define the hyperparameters and their possible values\n",
    "param_grid = {\n",
    "    'max_depth': [2, 3, 4, 5],  # List of possible maximum depths\n",
    "    'min_samples_split': [2,4, 5,6, 10],  # List of possible values for minimum samples required to split a node\n",
    "    'min_samples_leaf': [1, 2, 4,6,8]  # List of possible values for minimum samples required at a leaf node\n",
    "}\n",
    "\n",
    "# Create a DecisionTreeRegressor\n",
    "regtree_gs = tree.DecisionTreeRegressor()\n",
    "\n",
    "# Create the GridSearchCV object\n",
    "grid_search = GridSearchCV(regtree_gs, param_grid, cv=5, scoring='neg_mean_squared_error', n_jobs=-1)\n",
    "\n",
    "# Fit the GridSearchCV to the training data\n",
    "grid_search.fit(x_train, y_train)\n",
    "\n",
    "# Print the best hyperparameters and corresponding mean squared error\n",
    "print(\"Best Hyperparameters: \", grid_search.best_params_)\n",
    "\n",
    "# Get the best estimator (DecisionTreeRegressor) with the best hyperparameters\n",
    "best_regtree = grid_search.best_estimator_\n",
    "\n",
    "# Use the best estimator to make predictions\n",
    "y_train_pred = best_regtree.predict(x_train)\n",
    "y_test_pred = best_regtree.predict(x_test)\n",
    "\n",
    "# Calculate the R-squared scores for training data\n",
    "r2_train_dt = r2_score(y_train, y_train_pred)\n",
    "\n",
    "# Calculate the R-squared scores for testing data\n",
    "r2_test_dt = r2_score(y_test, y_test_pred)\n",
    "\n",
    "# Calculate the Mean Squared Error for training data\n",
    "mse_train_dt = mean_squared_error(y_train, y_train_pred)\n",
    "\n",
    "# Calculate the Mean Squared Error for testing data\n",
    "mse_test_dt = mean_squared_error(y_test, y_test_pred)\n",
    "\n",
    "# Print the results\n",
    "print(\"R-squared (R2) for Training Data:\", r2_train_dt)\n",
    "print(\"R-squared (R2) for Testing Data:\", r2_test_dt)\n",
    "print(\"Mean Squared Error (MSE) for Training Data:\", mse_train_dt)\n",
    "print(\"Mean Squared Error (MSE) for Testing Data:\", mse_test_dt)"
   ]
  },
  {
   "cell_type": "markdown",
   "id": "ebf9fd3e",
   "metadata": {
    "id": "ebf9fd3e"
   },
   "source": [
    "## RandomForest Regressor"
   ]
  },
  {
   "cell_type": "code",
   "execution_count": 61,
   "id": "jP8YmKzsVOQF",
   "metadata": {
    "executionInfo": {
     "elapsed": 449,
     "status": "ok",
     "timestamp": 1714486060748,
     "user": {
      "displayName": "Shon G",
      "userId": "09069163652793577279"
     },
     "user_tz": -330
    },
    "id": "jP8YmKzsVOQF"
   },
   "outputs": [],
   "source": [
    "from sklearn.ensemble import RandomForestRegressor, BaggingRegressor\n"
   ]
  },
  {
   "cell_type": "code",
   "execution_count": 62,
   "id": "37f7cf3a",
   "metadata": {
    "colab": {
     "base_uri": "https://localhost:8080/"
    },
    "executionInfo": {
     "elapsed": 50754,
     "status": "ok",
     "timestamp": 1714486113183,
     "user": {
      "displayName": "Shon G",
      "userId": "09069163652793577279"
     },
     "user_tz": -330
    },
    "id": "37f7cf3a",
    "outputId": "d5a930b2-c771-4658-cf36-f54847e25c55"
   },
   "outputs": [
    {
     "name": "stdout",
     "output_type": "stream",
     "text": [
      "Best Hyperparameters:  {'max_depth': 30, 'min_samples_leaf': 4, 'min_samples_split': 5, 'n_estimators': 300}\n",
      "R-squared (R2) for Training Data: 0.8234945871727585\n",
      "R-squared (R2) for Testing Data: 0.5901647348570631\n",
      "Mean Squared Error (MSE) for Training Data: 28858256.332277898\n",
      "Mean Squared Error (MSE) for Testing Data: 58806181.65415885\n"
     ]
    }
   ],
   "source": [
    "\n",
    "# Define the hyperparameters and their possible values\n",
    "param_grid = {\n",
    "    'n_estimators': [100,  300],  # Number of trees in the forest\n",
    "    'max_depth': [20, 30],  # Maximum depth of the trees\n",
    "    'min_samples_split': [5, 10],  # Minimum samples required to split a node\n",
    "    'min_samples_leaf': [ 2, 4]  # Minimum samples required at a leaf node\n",
    "}\n",
    "\n",
    "# Create a RandomForestRegressor\n",
    "rf_gs = RandomForestRegressor()\n",
    "\n",
    "# Create the GridSearchCV object\n",
    "grid_search = GridSearchCV(rf_gs, param_grid, cv=5, scoring='neg_mean_squared_error', n_jobs=-1)\n",
    "\n",
    "# Fit the GridSearchCV to the training data\n",
    "grid_search.fit(x_train, y_train)\n",
    "\n",
    "# Print the best hyperparameters and corresponding mean squared error\n",
    "print(\"Best Hyperparameters: \", grid_search.best_params_)\n",
    "\n",
    "# Get the best estimator (RandomForestRegressor) with the best hyperparameters\n",
    "best_rf = grid_search.best_estimator_\n",
    "\n",
    "# Use the best estimator to make predictions\n",
    "y_train_pred = best_rf.predict(x_train)\n",
    "y_test_pred = best_rf.predict(x_test)\n",
    "\n",
    "# Calculate the R-squared scores for training data\n",
    "r2_train_rf = r2_score(y_train, y_train_pred)\n",
    "\n",
    "# Calculate the R-squared scores for testing data\n",
    "r2_test_rf = r2_score(y_test, y_test_pred)\n",
    "\n",
    "# Calculate the Mean Squared Error for training data\n",
    "mse_train_rf = mean_squared_error(y_train, y_train_pred)\n",
    "\n",
    "# Calculate the Mean Squared Error for testing data\n",
    "mse_test_rf = mean_squared_error(y_test, y_test_pred)\n",
    "\n",
    "# Print the results\n",
    "print(\"R-squared (R2) for Training Data:\", r2_train_rf)\n",
    "print(\"R-squared (R2) for Testing Data:\", r2_test_rf)\n",
    "print(\"Mean Squared Error (MSE) for Training Data:\", mse_train_rf)\n",
    "print(\"Mean Squared Error (MSE) for Testing Data:\", mse_test_rf)\n"
   ]
  },
  {
   "cell_type": "code",
   "execution_count": 63,
   "id": "36c4c428",
   "metadata": {
    "colab": {
     "base_uri": "https://localhost:8080/"
    },
    "executionInfo": {
     "elapsed": 8342,
     "status": "ok",
     "timestamp": 1714486121501,
     "user": {
      "displayName": "Shon G",
      "userId": "09069163652793577279"
     },
     "user_tz": -330
    },
    "id": "36c4c428",
    "outputId": "9d5c493e-bf11-44c7-9524-a0bab11198f4"
   },
   "outputs": [
    {
     "name": "stdout",
     "output_type": "stream",
     "text": [
      "R-squared (R2) for Training Data: 0.8885273250142076\n",
      "R-squared (R2) for Testing Data: 0.6214054759210137\n",
      "Mean Squared Error (MSE) for Training Data: 18560306.52384576\n",
      "Mean Squared Error (MSE) for Testing Data: 56434333.50226604\n",
      "Mean R-squared (R2) for Cross-Validation: 0.5734676982936557\n",
      "Mean Mean Squared Error (MSE) for Cross-Validation: 69384900.72597018\n"
     ]
    }
   ],
   "source": [
    "\n",
    "\n",
    "# Splitting data into training and testing sets\n",
    "x_train, x_test, y_train, y_test = train_test_split(x_train, y_train, test_size=0.2, random_state=42)\n",
    "\n",
    "# Define the RandomForestRegressor with the best hyperparameters\n",
    "best_rf = RandomForestRegressor(n_estimators=300, max_depth=30, min_samples_split=5, min_samples_leaf=2)\n",
    "\n",
    "# Fit the model on the training data\n",
    "best_rf.fit(x_train, y_train)\n",
    "\n",
    "# Make predictions on training and testing sets\n",
    "y_train_pred = best_rf.predict(x_train)\n",
    "y_test_pred = best_rf.predict(x_test)\n",
    "\n",
    "# Calculate R-squared scores for training and testing data\n",
    "r2_train = r2_score(y_train, y_train_pred)\n",
    "r2_test = r2_score(y_test, y_test_pred)\n",
    "\n",
    "# Calculate Mean Squared Error for training and testing data\n",
    "mse_train = mean_squared_error(y_train, y_train_pred)\n",
    "mse_test = mean_squared_error(y_test, y_test_pred)\n",
    "\n",
    "# Print the results\n",
    "print(\"R-squared (R2) for Training Data:\", r2_train)\n",
    "print(\"R-squared (R2) for Testing Data:\", r2_test)\n",
    "print(\"Mean Squared Error (MSE) for Training Data:\", mse_train)\n",
    "print(\"Mean Squared Error (MSE) for Testing Data:\", mse_test)\n",
    "\n",
    "# Perform cross-validation to calculate training and validation scores\n",
    "cv_scores = cross_val_score(best_rf, x_train, y_train, cv=5, scoring='r2')\n",
    "cv_mse = -cross_val_score(best_rf, x_train, y_train, cv=5, scoring='neg_mean_squared_error')\n",
    "\n",
    "# Calculate mean R-squared and MSE for cross-validation\n",
    "mean_cv_r2 = cv_scores.mean()\n",
    "mean_cv_mse = cv_mse.mean()\n",
    "\n",
    "# Print cross-validation results\n",
    "print(\"Mean R-squared (R2) for Cross-Validation:\", mean_cv_r2)\n",
    "print(\"Mean Mean Squared Error (MSE) for Cross-Validation:\", mean_cv_mse)\n"
   ]
  },
  {
   "cell_type": "markdown",
   "id": "9236996b",
   "metadata": {
    "id": "9236996b"
   },
   "source": [
    "## XG Boost Regressor"
   ]
  },
  {
   "cell_type": "code",
   "execution_count": 65,
   "id": "GGP74B47Vj_M",
   "metadata": {
    "executionInfo": {
     "elapsed": 9,
     "status": "ok",
     "timestamp": 1714486147891,
     "user": {
      "displayName": "Shon G",
      "userId": "09069163652793577279"
     },
     "user_tz": -330
    },
    "id": "GGP74B47Vj_M"
   },
   "outputs": [],
   "source": [
    "from xgboost import XGBRegressor"
   ]
  },
  {
   "cell_type": "code",
   "execution_count": 66,
   "id": "9a1937a7",
   "metadata": {
    "colab": {
     "base_uri": "https://localhost:8080/"
    },
    "executionInfo": {
     "elapsed": 41986,
     "status": "ok",
     "timestamp": 1714486190406,
     "user": {
      "displayName": "Shon G",
      "userId": "09069163652793577279"
     },
     "user_tz": -330
    },
    "id": "9a1937a7",
    "outputId": "01fea9a9-b835-4756-a321-b1f478912627"
   },
   "outputs": [
    {
     "name": "stdout",
     "output_type": "stream",
     "text": [
      "Best Hyperparameters:  {'learning_rate': 0.01, 'max_depth': 3, 'min_child_weight': 2, 'n_estimators': 300}\n",
      "R-squared (R2) for Training Data: 0.6550798848737913\n",
      "R-squared (R2) for Testing Data: 0.6221838108158975\n",
      "Mean Squared Error (MSE) for Training Data: 57429527.584213264\n",
      "Mean Squared Error (MSE) for Testing Data: 56318312.77761033\n"
     ]
    }
   ],
   "source": [
    "\n",
    "\n",
    "# Define the hyperparameters and their possible values\n",
    "param_grid = {\n",
    "    'n_estimators': [100, 200, 300],  # Number of boosting rounds\n",
    "    'max_depth': [3, 4, 5],  # Maximum depth of the trees\n",
    "    'learning_rate': [0.01, 0.1, 0.2],  # Learning rate\n",
    "    'min_child_weight': [1, 2, 3],  # Minimum sum of instance weight (hessian) needed in a child\n",
    "}\n",
    "\n",
    "# Create an XGBRegressor\n",
    "xgb_gs = XGBRegressor()\n",
    "\n",
    "# Create the GridSearchCV object with R2 scoring\n",
    "grid_search = GridSearchCV(xgb_gs, param_grid, cv=5, scoring='r2', n_jobs=-1)\n",
    "\n",
    "# Fit the GridSearchCV to the training data\n",
    "grid_search.fit(x_train, y_train)\n",
    "\n",
    "# Print the best hyperparameters and corresponding R-squared\n",
    "print(\"Best Hyperparameters: \", grid_search.best_params_)\n",
    "\n",
    "best_xgb_param = grid_search.best_params_\n",
    "# Get the best estimator (XGBRegressor) with the best hyperparameters\n",
    "best_xgb = grid_search.best_estimator_\n",
    "\n",
    "# Use the best estimator to make predictions\n",
    "y_train_pred = best_xgb.predict(x_train)\n",
    "y_test_pred = best_xgb.predict(x_test)\n",
    "\n",
    "# Calculate the R-squared scores for training data\n",
    "r2_train_xgb = r2_score(y_train, y_train_pred)\n",
    "\n",
    "# Calculate the R-squared scores for testing data\n",
    "r2_test_xgb = r2_score(y_test, y_test_pred)\n",
    "\n",
    "# Calculate the Mean Squared Error for training data\n",
    "mse_train_xgb = mean_squared_error(y_train, y_train_pred)\n",
    "\n",
    "# Calculate the Mean Squared Error for testing data\n",
    "mse_test_xgb = mean_squared_error(y_test, y_test_pred)\n",
    "\n",
    "# Print the results\n",
    "print(\"R-squared (R2) for Training Data:\", r2_train_xgb)\n",
    "print(\"R-squared (R2) for Testing Data:\", r2_test_xgb)\n",
    "print(\"Mean Squared Error (MSE) for Training Data:\", mse_train_xgb)\n",
    "print(\"Mean Squared Error (MSE) for Testing Data:\", mse_test_xgb)"
   ]
  },
  {
   "cell_type": "markdown",
   "id": "edf072b2",
   "metadata": {
    "id": "edf072b2"
   },
   "source": [
    "## Bagging Regressor"
   ]
  },
  {
   "cell_type": "code",
   "execution_count": 68,
   "id": "ZQTyieFw_ncI",
   "metadata": {
    "executionInfo": {
     "elapsed": 963,
     "status": "ok",
     "timestamp": 1714486204948,
     "user": {
      "displayName": "Shon G",
      "userId": "09069163652793577279"
     },
     "user_tz": -330
    },
    "id": "ZQTyieFw_ncI"
   },
   "outputs": [],
   "source": [
    "# importing decisiontreeregressor\n",
    "from sklearn.tree import DecisionTreeRegressor"
   ]
  },
  {
   "cell_type": "code",
   "execution_count": 69,
   "id": "2af11720",
   "metadata": {
    "colab": {
     "base_uri": "https://localhost:8080/"
    },
    "executionInfo": {
     "elapsed": 9591,
     "status": "ok",
     "timestamp": 1714486214535,
     "user": {
      "displayName": "Shon G",
      "userId": "09069163652793577279"
     },
     "user_tz": -330
    },
    "id": "2af11720",
    "outputId": "e718ca09-1d86-4839-eddd-f29a260e5dc8"
   },
   "outputs": [
    {
     "name": "stdout",
     "output_type": "stream",
     "text": [
      "Best Hyperparameters:  {'n_estimators': 150}\n",
      "R-squared (R2) for Training Data: 0.9435666486874827\n",
      "R-squared (R2) for Testing Data: 0.6264426044370632\n",
      "Mean Squared Error (MSE) for Training Data: 9396206.72655153\n",
      "Mean Squared Error (MSE) for Testing Data: 55683485.37190794\n"
     ]
    }
   ],
   "source": [
    "\n",
    "# Create a base regression model\n",
    "base_model = DecisionTreeRegressor()\n",
    "\n",
    "# Create a BaggingRegressor with the base model\n",
    "bagging_reg = BaggingRegressor(base_model, random_state=0)\n",
    "\n",
    "# Define the hyperparameters and their possible values\n",
    "param_grid = {\n",
    "    'n_estimators': [50, 100, 150, 200]  # List of possible numbers of base models\n",
    "}\n",
    "\n",
    "# Create the GridSearchCV object\n",
    "grid_search = GridSearchCV(bagging_reg, param_grid, cv=5, scoring='r2', n_jobs=-1)\n",
    "\n",
    "# Fit the GridSearchCV to the training data\n",
    "grid_search.fit(x_train, y_train)\n",
    "\n",
    "# Print the best hyperparameters and corresponding mean squared error\n",
    "print(\"Best Hyperparameters: \", grid_search.best_params_)\n",
    "\n",
    "# Get the best estimator (BaggingRegressor) with the best hyperparameters\n",
    "best_bagging_reg = grid_search.best_estimator_\n",
    "\n",
    "# Use the best estimator to make predictions\n",
    "y_train_pred = best_bagging_reg.predict(x_train)\n",
    "y_test_pred = best_bagging_reg.predict(x_test)\n",
    "\n",
    "# Calculate the R-squared scores for training data\n",
    "r2_train_bagging_reg = r2_score(y_train, y_train_pred)\n",
    "\n",
    "# Calculate the R-squared scores for testing data\n",
    "r2_test_bagging_reg = r2_score(y_test, y_test_pred)\n",
    "\n",
    "# Calculate the Mean Squared Error for training data\n",
    "mse_train_bagging_reg = mean_squared_error(y_train, y_train_pred)\n",
    "mse_test_bagging_reg = mean_squared_error(y_test, y_test_pred)\n",
    "\n",
    "# Print the results\n",
    "print(\"R-squared (R2) for Training Data:\", r2_train_bagging_reg)\n",
    "print(\"R-squared (R2) for Testing Data:\", r2_test_bagging_reg)\n",
    "print(\"Mean Squared Error (MSE) for Training Data:\", mse_train_bagging_reg)\n",
    "print(\"Mean Squared Error (MSE) for Testing Data:\", mse_test_bagging_reg)\n"
   ]
  },
  {
   "cell_type": "markdown",
   "id": "f4bc7c9d",
   "metadata": {
    "id": "f4bc7c9d"
   },
   "source": [
    "# Compare Different Models  "
   ]
  },
  {
   "cell_type": "code",
   "execution_count": 74,
   "id": "bT4uw1QjWKC5",
   "metadata": {
    "colab": {
     "base_uri": "https://localhost:8080/"
    },
    "executionInfo": {
     "elapsed": 11622,
     "status": "ok",
     "timestamp": 1714486311048,
     "user": {
      "displayName": "Shon G",
      "userId": "09069163652793577279"
     },
     "user_tz": -330
    },
    "id": "bT4uw1QjWKC5",
    "outputId": "a93c9bc8-c600-494a-9f4e-cda8369e3201"
   },
   "outputs": [
    {
     "name": "stdout",
     "output_type": "stream",
     "text": [
      "Collecting colorama\n",
      "  Downloading colorama-0.4.6-py2.py3-none-any.whl (25 kB)\n",
      "Installing collected packages: colorama\n",
      "Successfully installed colorama-0.4.6\n"
     ]
    }
   ],
   "source": [
    "!pip install colorama"
   ]
  },
  {
   "cell_type": "markdown",
   "id": "Tre4HgyrXrQw",
   "metadata": {
    "id": "Tre4HgyrXrQw"
   },
   "source": [
    "# Tabulate\n",
    "Tabulate is a Python library used to easily format tabular data in a visually appealing way. It offers various features like aligning columns, setting column headers, and choosing different table formats. It simplifies the task of displaying data in a structured manner, making it more readable for users. The library supports multiple output formats, including plain text, LaTeX, and HTML.\n",
    "\n",
    "# Colorama\n",
    "Colorama,is a Python library that simplifies printing colored text in terminal environments. It provides cross-platform support for ANSI escape character sequences, allowing developers to easily add colored text to their console applications. Colorama makes it simple to change text color, background color, and text style, enhancing the visual presentation of terminal output. It's particularly useful for creating more visually engaging command-line interfaces and debugging tools."
   ]
  },
  {
   "cell_type": "code",
   "execution_count": 75,
   "id": "KSpws-kYV5y5",
   "metadata": {
    "executionInfo": {
     "elapsed": 4,
     "status": "ok",
     "timestamp": 1714486317945,
     "user": {
      "displayName": "Shon G",
      "userId": "09069163652793577279"
     },
     "user_tz": -330
    },
    "id": "KSpws-kYV5y5"
   },
   "outputs": [],
   "source": [
    "from tabulate import tabulate\n",
    "from colorama import Fore, Style"
   ]
  },
  {
   "cell_type": "code",
   "execution_count": 76,
   "id": "97f92cb7",
   "metadata": {
    "colab": {
     "base_uri": "https://localhost:8080/"
    },
    "executionInfo": {
     "elapsed": 1113,
     "status": "ok",
     "timestamp": 1714486321529,
     "user": {
      "displayName": "Shon G",
      "userId": "09069163652793577279"
     },
     "user_tz": -330
    },
    "id": "97f92cb7",
    "outputId": "af0de14a-6f89-4113-b9e3-d8dccdbcc8bf"
   },
   "outputs": [
    {
     "name": "stdout",
     "output_type": "stream",
     "text": [
      "╒═════════════════════════════════╤═════════════════════╤════════════════════╤═══════════════╤══════════════╕\n",
      "│ Model                           │   R-squared (Train) │   R-squared (Test) │   MSE (Train) │   MSE (Test) │\n",
      "╞═════════════════════════════════╪═════════════════════╪════════════════════╪═══════════════╪══════════════╡\n",
      "│ Linear Regression               │              \u001b[31m0.5335\u001b[0m │             \u001b[31m0.5367\u001b[0m │   \u001b[32m7.50261e+07\u001b[0m │  \u001b[32m6.87513e+07\u001b[0m │\n",
      "├─────────────────────────────────┼─────────────────────┼────────────────────┼───────────────┼──────────────┤\n",
      "│ Ridge Regression                │              \u001b[31m0.5335\u001b[0m │             \u001b[31m0.5366\u001b[0m │   \u001b[32m7.50285e+07\u001b[0m │  \u001b[32m6.87639e+07\u001b[0m │\n",
      "├─────────────────────────────────┼─────────────────────┼────────────────────┼───────────────┼──────────────┤\n",
      "│ Lasso Regression                │              \u001b[31m0.5332\u001b[0m │             \u001b[31m0.5374\u001b[0m │   \u001b[32m7.50802e+07\u001b[0m │  \u001b[32m6.86434e+07\u001b[0m │\n",
      "├─────────────────────────────────┼─────────────────────┼────────────────────┼───────────────┼──────────────┤\n",
      "│ Decision Tree Regression        │              \u001b[32m0.6137\u001b[0m │             \u001b[31m0.5928\u001b[0m │   \u001b[32m6.21251e+07\u001b[0m │  \u001b[32m6.04246e+07\u001b[0m │\n",
      "├─────────────────────────────────┼─────────────────────┼────────────────────┼───────────────┼──────────────┤\n",
      "│ Decision Tree with GridSearchCV │              \u001b[32m0.6398\u001b[0m │             \u001b[32m0.6032\u001b[0m │   \u001b[32m5.79333e+07\u001b[0m │  \u001b[32m5.88759e+07\u001b[0m │\n",
      "├─────────────────────────────────┼─────────────────────┼────────────────────┼───────────────┼──────────────┤\n",
      "│ Random Forest Regressor         │              \u001b[32m0.8235\u001b[0m │             \u001b[31m0.5902\u001b[0m │   \u001b[32m2.88583e+07\u001b[0m │  \u001b[32m5.88062e+07\u001b[0m │\n",
      "├─────────────────────────────────┼─────────────────────┼────────────────────┼───────────────┼──────────────┤\n",
      "│ XG Boost Regressor              │              \u001b[32m0.6551\u001b[0m │             \u001b[32m0.6222\u001b[0m │   \u001b[32m5.74295e+07\u001b[0m │  \u001b[32m5.63183e+07\u001b[0m │\n",
      "├─────────────────────────────────┼─────────────────────┼────────────────────┼───────────────┼──────────────┤\n",
      "│ Bagging Regressor               │              \u001b[32m0.9436\u001b[0m │             \u001b[32m0.6264\u001b[0m │   \u001b[32m9.39621e+06\u001b[0m │  \u001b[32m5.56835e+07\u001b[0m │\n",
      "╘═════════════════════════════════╧═════════════════════╧════════════════════╧═══════════════╧══════════════╛\n"
     ]
    }
   ],
   "source": [
    "\n",
    "\n",
    "# Function to colorize values based on a threshold\n",
    "def colorize(value, threshold=0.6):\n",
    "    if value < threshold:\n",
    "        return f\"{Fore.RED}{value:.4f}{Style.RESET_ALL}\"\n",
    "    return f\"{Fore.GREEN}{value:.4f}{Style.RESET_ALL}\"\n",
    "\n",
    "# Define your headings\n",
    "headings = [\"Model\", \"R-squared (Train)\", \"R-squared (Test)\", \"MSE (Train)\", \"MSE (Test)\"]\n",
    "\n",
    "# Data for the table\n",
    "data = [\n",
    "    [\"Linear Regression\", colorize(r2_lm_multi_train), colorize(r2_lm_multi_test), colorize(mse_lm_multi_train), colorize(mse_lm_multi_test)],\n",
    "    [\"Ridge Regression\", colorize(r2_lm_r_best_train), colorize(r2_lm_r_best_test), colorize(mse_lm_r_best_train), colorize(mse_lm_r_best_test)],\n",
    "    [\"Lasso Regression\", colorize(r2_lm_l_best_train), colorize(r2_lm_l_best_test), colorize(mse_lm_l_best_train), colorize(mse_lm_l_best_test)],\n",
    "    [\"Decision Tree Regression\", colorize(r2_regtree_train), colorize(r2_regtree_test), colorize(mse_regtree_train), colorize(mse_regtree_test)],\n",
    "    [\"Decision Tree with GridSearchCV\", colorize(r2_train_dt), colorize(r2_test_dt), colorize(mse_train_dt), colorize(mse_test_dt)],\n",
    "    [\"Random Forest Regressor\", colorize(r2_train_rf), colorize(r2_test_rf), colorize(mse_train_rf), colorize(mse_test_rf)],\n",
    "    [\"XG Boost Regressor\", colorize(r2_train_xgb), colorize(r2_test_xgb), colorize(mse_train_xgb), colorize(mse_test_xgb)],\n",
    "    [\"Bagging Regressor\", colorize(r2_train_bagging_reg), colorize(r2_test_bagging_reg), colorize(mse_train_bagging_reg), colorize(mse_test_bagging_reg)],\n",
    "]\n",
    "\n",
    "# Print the table\n",
    "table = tabulate(data, headers=headings, tablefmt=\"fancy_grid\")\n",
    "print(table)\n"
   ]
  },
  {
   "cell_type": "code",
   "execution_count": 77,
   "id": "760c2730",
   "metadata": {
    "executionInfo": {
     "elapsed": 2287,
     "status": "ok",
     "timestamp": 1714486331271,
     "user": {
      "displayName": "Shon G",
      "userId": "09069163652793577279"
     },
     "user_tz": -330
    },
    "id": "760c2730"
   },
   "outputs": [],
   "source": [
    "# Define the RandomForestRegressor with the best hyperparameters\n",
    "best_rf = RandomForestRegressor(n_estimators=300, max_depth=30, min_samples_split=5, min_samples_leaf=2)\n",
    "\n",
    "# Fit the model on the entire dataset\n",
    "best_rf.fit(x_train, y_train)\n",
    "\n",
    "def predict_salary_interface(previous_ctc, prev_job_change, graduation_marks, exp_month, metro_city, tier, role):\n",
    "    \"\"\"\n",
    "\n",
    "    Args:\n",
    "      previous_ctc:\n",
    "      prev_job_change:\n",
    "      graduation_marks:\n",
    "      exp_month:\n",
    "      metro_city:\n",
    "      tier:\n",
    "      role:\n",
    "\n",
    "    Returns:\n",
    "\n",
    "    \"\"\"\n",
    "    try:\n",
    "        previous_ctc = float(previous_ctc)\n",
    "        prev_job_change = float(prev_job_change)\n",
    "        graduation_marks = float(graduation_marks)\n",
    "        exp_month = float(exp_month)\n",
    "        metro_city = float(metro_city)  # Assuming 1 represents metro city\n",
    "\n",
    "        # Make a prediction using the trained model\n",
    "        input_data = {\n",
    "            'Previous CTC': [previous_ctc],\n",
    "            'Previous job change': [prev_job_change],\n",
    "            'Graduation Marks': [graduation_marks],\n",
    "            'EXP (Month)': [exp_month],\n",
    "            'metro_city': [metro_city],\n",
    "            'Tier_1': [1 if tier == 'Tier 1' else 0],\n",
    "            'Tier_2': [1 if tier == 'Tier 2' else 0],\n",
    "            'Tier_3': [1 if tier == 'Tier 3' else 0],\n",
    "            'Role_Executive': [1 if role == 'Executive' else 0],\n",
    "            'Role_Manager': [1 if role == 'Manager' else 0]\n",
    "        }\n",
    "\n",
    "        input_df = pd.DataFrame(input_data)\n",
    "        predicted_salary = best_rf.predict(input_df)[0]\n",
    "\n",
    "        # Calculate R-squared and MSE for the prediction\n",
    "        y_pred_all = best_rf.predict(x_train)\n",
    "        r2 = r2_score(y_train, y_pred_all)\n",
    "        mse = mean_squared_error(y_train, y_pred_all)\n",
    "\n",
    "        return f\"{predicted_salary:.0f}\", f\"{r2*100:.2f}%\"\n",
    "\n",
    "    except ValueError:\n",
    "        return \"Error\", \"Error in prediction\", \"Error in prediction\"\n",
    "\n"
   ]
  },
  {
   "cell_type": "code",
   "execution_count": 78,
   "id": "i071hhFBHkWI",
   "metadata": {
    "colab": {
     "base_uri": "https://localhost:8080/"
    },
    "executionInfo": {
     "elapsed": 31,
     "status": "ok",
     "timestamp": 1714486331273,
     "user": {
      "displayName": "Shon G",
      "userId": "09069163652793577279"
     },
     "user_tz": -330
    },
    "id": "i071hhFBHkWI",
    "outputId": "21d4e1df-a1d4-4c07-9628-9a6c2fd4f5e6"
   },
   "outputs": [
    {
     "name": "stdout",
     "output_type": "stream",
     "text": [
      "RandomForestRegressor(max_depth=30, min_samples_leaf=2, min_samples_split=5,\n",
      "                      n_estimators=300)\n"
     ]
    }
   ],
   "source": [
    "print(best_rf)"
   ]
  },
  {
   "cell_type": "markdown",
   "id": "Hd3q-GABXBMv",
   "metadata": {
    "id": "Hd3q-GABXBMv"
   },
   "source": [
    "# Gradio Python library\n",
    "\n",
    "Gradio is a Python library for creating customizable UIs for machine learning models, enabling easy deployment and interaction. It allows users to build interfaces for models without needing web development skills. With Gradio, developers can create interfaces for various input types such as text, images, and audio. It supports a wide range of machine learning frameworks like TensorFlow, PyTorch, and Scikit-learn. Gradio simplifies the process of sharing and showcasing machine learning models with stakeholders or non-technical users. It provides real-time feedback, making it suitable for debugging and testing models. The library supports collaborative development by allowing multiple users to work on interfaces simultaneously. Gradio offers pre-built components for common tasks like uploading files or selecting options, reducing development time. It supports both local and cloud deployment options, ensuring flexibility in deployment environments. Overall, Gradio streamlines the process of building interactive machine learning applications with minimal coding effort."
   ]
  },
  {
   "cell_type": "code",
   "execution_count": 82,
   "id": "IbXhxwtfGNJp",
   "metadata": {
    "executionInfo": {
     "elapsed": 3296,
     "status": "ok",
     "timestamp": 1714486376550,
     "user": {
      "displayName": "Shon G",
      "userId": "09069163652793577279"
     },
     "user_tz": -330
    },
    "id": "IbXhxwtfGNJp"
   },
   "outputs": [],
   "source": [
    "import gradio as gr"
   ]
  },
  {
   "cell_type": "code",
   "execution_count": 83,
   "id": "P3bpgwozF4Bo",
   "metadata": {
    "executionInfo": {
     "elapsed": 24,
     "status": "ok",
     "timestamp": 1714486376552,
     "user": {
      "displayName": "Shon G",
      "userId": "09069163652793577279"
     },
     "user_tz": -330
    },
    "id": "P3bpgwozF4Bo"
   },
   "outputs": [],
   "source": [
    "# Define Gradio inputs\n",
    "inputs = [\n",
    "    gr.Number(label=\"Previous CTC\"),\n",
    "    gr.Number(label=\"Previous Job Change\"),\n",
    "    gr.Number(label=\"Graduation Marks\"),\n",
    "    gr.Number(label=\"Experience in Months\"),\n",
    "    gr.Number(label=\"Metro City (1 for Yes, 0 for No)\"),\n",
    "    gr.Dropdown(choices=[\"Tier 1\", \"Tier 2\", \"Tier 3\"], label=\"Tier\"),\n",
    "    gr.Dropdown(choices=[\"Executive\", \"Manager\"], label=\"Role\"),\n",
    "]\n"
   ]
  },
  {
   "cell_type": "code",
   "execution_count": 84,
   "id": "pJAuIuB9Fb6C",
   "metadata": {
    "colab": {
     "base_uri": "https://localhost:8080/",
     "height": 625
    },
    "executionInfo": {
     "elapsed": 2007,
     "status": "ok",
     "timestamp": 1714486378540,
     "user": {
      "displayName": "Shon G",
      "userId": "09069163652793577279"
     },
     "user_tz": -330
    },
    "id": "pJAuIuB9Fb6C",
    "outputId": "ba0c831e-a80f-4a70-a2a5-f2dfbb758a81"
   },
   "outputs": [
    {
     "name": "stdout",
     "output_type": "stream",
     "text": [
      "Setting queue=True in a Colab notebook requires sharing enabled. Setting `share=True` (you can turn this off by setting `share=False` in `launch()` explicitly).\n",
      "\n",
      "Colab notebook detected. To show errors in colab notebook, set debug=True in launch()\n",
      "Running on public URL: https://57e8cec6bb0343a2d0.gradio.live\n",
      "\n",
      "This share link expires in 72 hours. For free permanent hosting and GPU upgrades, run `gradio deploy` from Terminal to deploy to Spaces (https://huggingface.co/spaces)\n"
     ]
    },
    {
     "data": {
      "text/html": [
       "<div><iframe src=\"https://57e8cec6bb0343a2d0.gradio.live\" width=\"100%\" height=\"500\" allow=\"autoplay; camera; microphone; clipboard-read; clipboard-write;\" frameborder=\"0\" allowfullscreen></iframe></div>"
      ],
      "text/plain": [
       "<IPython.core.display.HTML object>"
      ]
     },
     "metadata": {},
     "output_type": "display_data"
    }
   ],
   "source": [
    "# Create Gradio interface\n",
    "iface = gr.Interface(\n",
    "    fn=predict_salary_interface,\n",
    "    inputs=inputs,\n",
    "    outputs=[\n",
    "        gr.Textbox(label=\"Predicted CTC\"),\n",
    "        gr.Textbox(label=\"Accuracy\")\n",
    "    ],\n",
    "    title=\"Salary Prediction\",\n",
    "    description=\"Predict the salary and view overall model evaluation metrics.\"\n",
    ").launch()"
   ]
  },
  {
   "cell_type": "code",
   "execution_count": null,
   "id": "-W-BR45mWUYU",
   "metadata": {
    "id": "-W-BR45mWUYU"
   },
   "outputs": [],
   "source": []
  }
 ],
 "metadata": {
  "colab": {
   "provenance": []
  },
  "kernelspec": {
   "display_name": "Python 3 (ipykernel)",
   "language": "python",
   "name": "python3"
  },
  "language_info": {
   "codemirror_mode": {
    "name": "ipython",
    "version": 3
   },
   "file_extension": ".py",
   "mimetype": "text/x-python",
   "name": "python",
   "nbconvert_exporter": "python",
   "pygments_lexer": "ipython3",
   "version": "3.11.7"
  }
 },
 "nbformat": 4,
 "nbformat_minor": 5
}
